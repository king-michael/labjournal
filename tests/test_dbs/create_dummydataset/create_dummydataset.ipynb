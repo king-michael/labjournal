{
 "cells": [
  {
   "cell_type": "markdown",
   "metadata": {},
   "source": [
    "## Input"
   ]
  },
  {
   "cell_type": "code",
   "execution_count": 1,
   "metadata": {},
   "outputs": [],
   "source": [
    "num_testdata=100\n",
    "table_main='main' # name of maintable\n",
    "table_keywords = 'keywords'\n",
    "db = 'test.db'   # test.db"
   ]
  },
  {
   "cell_type": "markdown",
   "metadata": {},
   "source": [
    "## Init"
   ]
  },
  {
   "cell_type": "code",
   "execution_count": 2,
   "metadata": {},
   "outputs": [],
   "source": [
    "header = ['id','simid','mediawiki','path','date','moddate','type','tags']\n",
    "header_keywords = ['main_id','key','val']"
   ]
  },
  {
   "cell_type": "markdown",
   "metadata": {},
   "source": [
    "### random time"
   ]
  },
  {
   "cell_type": "code",
   "execution_count": 3,
   "metadata": {},
   "outputs": [],
   "source": [
    "from random import randrange\n",
    "from datetime import timedelta, datetime\n",
    "import time\n",
    "\n",
    "def random_date(start, end):\n",
    "    \"\"\"\n",
    "    This function will return a random datetime between two datetime \n",
    "    objects.\n",
    "    \"\"\"\n",
    "    delta = end - start\n",
    "    int_delta = (delta.days * 24 * 60 * 60) + delta.seconds\n",
    "    random_second = randrange(int_delta)\n",
    "    return start + timedelta(seconds=random_second)\n",
    "\n",
    "d1 = datetime.strptime('1/1/2016 1:30 PM', '%m/%d/%Y %I:%M %p')\n",
    "d2 = datetime.strptime('1/1/2018 4:50 AM', '%m/%d/%Y %I:%M %p')\n"
   ]
  },
  {
   "cell_type": "markdown",
   "metadata": {},
   "source": [
    "### random tags"
   ]
  },
  {
   "cell_type": "code",
   "execution_count": 4,
   "metadata": {},
   "outputs": [],
   "source": [
    "def random_tags():\n",
    "    \"Returns a random tags\"\n",
    "    possible_tags=['important','pic','caco3','ubi','abc','rna','dna','surfactants','MetaDynamics']\n",
    "    num_tags=randrange(0,5)  # number of tags\n",
    "    tags=[]\n",
    "    for _ in range(num_tags):\n",
    "        i = randrange(0,len(possible_tags)-1)\n",
    "        tag = possible_tags[i]\n",
    "        tags.append(tag)\n",
    "    tags=list(set(tags))\n",
    "    return tags"
   ]
  },
  {
   "cell_type": "markdown",
   "metadata": {},
   "source": [
    "### random type"
   ]
  },
  {
   "cell_type": "code",
   "execution_count": 5,
   "metadata": {},
   "outputs": [],
   "source": [
    "def random_type():\n",
    "    \"\"\"returns a random type\"\"\"\n",
    "    atuple=[\n",
    "        '',\n",
    "        'LAMMPS',\n",
    "        'GROMACS',\n",
    "        'PYTHON',\n",
    "        'OVERVIEW',\n",
    "    ]\n",
    "    i = randrange(0,len(atuple)-1)\n",
    "    return atuple[i]"
   ]
  },
  {
   "cell_type": "markdown",
   "metadata": {},
   "source": [
    "## create data keywords"
   ]
  },
  {
   "cell_type": "code",
   "execution_count": 6,
   "metadata": {},
   "outputs": [],
   "source": [
    "def random_keywords():\n",
    "    \"\"\"returns a dict of random keywords\"\"\"\n",
    "    atuple=[\n",
    "        ['linker','a'],\n",
    "        ['linker','b'],\n",
    "        ['linker','c'],\n",
    "        ['linker','d'],\n",
    "        ['pH','7'],\n",
    "        ['pH','8'],\n",
    "        ['pH','9'],\n",
    "        ['Temp','300'],\n",
    "        ['Temp','500'],\n",
    "        ['concentration','1'],\n",
    "        ['concentration','2'],\n",
    "    ]\n",
    "    num_keys=randrange(0,5)  # number of keys\n",
    "    keywords={}\n",
    "    for _ in range(num_keys):\n",
    "        i = randrange(0,len(atuple)-1)\n",
    "        t = atuple[i]\n",
    "        keywords[t[0]]=t[1]\n",
    "    return keywords"
   ]
  },
  {
   "cell_type": "markdown",
   "metadata": {},
   "source": [
    "## create data main"
   ]
  },
  {
   "cell_type": "code",
   "execution_count": 7,
   "metadata": {},
   "outputs": [
    {
     "name": "stdout",
     "output_type": "stream",
     "text": [
      "2018-01-21 21:08:53,786 INFO sqlalchemy.engine.base.Engine SELECT CAST('test plain returns' AS VARCHAR(60)) AS anon_1\n"
     ]
    },
    {
     "name": "stdout",
     "output_type": "stream",
     "text": [
      "2018-01-21 21:08:53,788 INFO sqlalchemy.engine.base.Engine ()\n"
     ]
    },
    {
     "name": "stdout",
     "output_type": "stream",
     "text": [
      "2018-01-21 21:08:53,789 INFO sqlalchemy.engine.base.Engine SELECT CAST('test unicode returns' AS VARCHAR(60)) AS anon_1\n"
     ]
    },
    {
     "name": "stdout",
     "output_type": "stream",
     "text": [
      "2018-01-21 21:08:53,789 INFO sqlalchemy.engine.base.Engine ()\n"
     ]
    },
    {
     "name": "stdout",
     "output_type": "stream",
     "text": [
      "2018-01-21 21:08:53,792 INFO sqlalchemy.engine.base.Engine PRAGMA table_info(\"keywords\")\n"
     ]
    },
    {
     "name": "stdout",
     "output_type": "stream",
     "text": [
      "2018-01-21 21:08:53,792 INFO sqlalchemy.engine.base.Engine ()\n"
     ]
    },
    {
     "name": "stdout",
     "output_type": "stream",
     "text": [
      "2018-01-21 21:08:53,793 INFO sqlalchemy.engine.base.Engine PRAGMA table_info(\"main\")\n"
     ]
    },
    {
     "name": "stdout",
     "output_type": "stream",
     "text": [
      "2018-01-21 21:08:53,795 INFO sqlalchemy.engine.base.Engine ()\n"
     ]
    },
    {
     "name": "stdout",
     "output_type": "stream",
     "text": [
      "2018-01-21 21:08:53,798 INFO sqlalchemy.engine.base.Engine \nCREATE TABLE main (\n\tid INTEGER NOT NULL, \n\tsim_id VARCHAR(50), \n\tmediawiki VARCHAR(255), \n\tpath VARCHAR(255), \n\tsim_type VARCHAR(20), \n\tupdated_on DATETIME, \n\tPRIMARY KEY (id)\n)\n\n\n"
     ]
    },
    {
     "name": "stdout",
     "output_type": "stream",
     "text": [
      "2018-01-21 21:08:53,799 INFO sqlalchemy.engine.base.Engine ()\n"
     ]
    },
    {
     "name": "stdout",
     "output_type": "stream",
     "text": [
      "2018-01-21 21:08:54,328 INFO sqlalchemy.engine.base.Engine COMMIT\n"
     ]
    },
    {
     "name": "stdout",
     "output_type": "stream",
     "text": [
      "2018-01-21 21:08:54,328 INFO sqlalchemy.engine.base.Engine CREATE INDEX ix_main_id ON main (id)\n"
     ]
    },
    {
     "name": "stdout",
     "output_type": "stream",
     "text": [
      "2018-01-21 21:08:54,331 INFO sqlalchemy.engine.base.Engine ()\n"
     ]
    },
    {
     "name": "stdout",
     "output_type": "stream",
     "text": [
      "2018-01-21 21:08:54,362 INFO sqlalchemy.engine.base.Engine COMMIT\n"
     ]
    },
    {
     "name": "stdout",
     "output_type": "stream",
     "text": [
      "2018-01-21 21:08:54,364 INFO sqlalchemy.engine.base.Engine CREATE UNIQUE INDEX ix_main_sim_id ON main (sim_id)\n"
     ]
    },
    {
     "name": "stdout",
     "output_type": "stream",
     "text": [
      "2018-01-21 21:08:54,365 INFO sqlalchemy.engine.base.Engine ()\n"
     ]
    },
    {
     "name": "stdout",
     "output_type": "stream",
     "text": [
      "2018-01-21 21:08:54,403 INFO sqlalchemy.engine.base.Engine COMMIT\n"
     ]
    },
    {
     "name": "stdout",
     "output_type": "stream",
     "text": [
      "2018-01-21 21:08:54,404 INFO sqlalchemy.engine.base.Engine \nCREATE TABLE keywords (\n\tid INTEGER NOT NULL, \n\tmain_id INTEGER, \n\tname VARCHAR(255), \n\tvalue VARCHAR(255), \n\tPRIMARY KEY (id), \n\tFOREIGN KEY(main_id) REFERENCES main (id)\n)\n\n\n"
     ]
    },
    {
     "name": "stdout",
     "output_type": "stream",
     "text": [
      "2018-01-21 21:08:54,404 INFO sqlalchemy.engine.base.Engine ()\n"
     ]
    },
    {
     "name": "stdout",
     "output_type": "stream",
     "text": [
      "2018-01-21 21:08:54,437 INFO sqlalchemy.engine.base.Engine COMMIT\n"
     ]
    },
    {
     "name": "stdout",
     "output_type": "stream",
     "text": [
      "2018-01-21 21:08:54,438 INFO sqlalchemy.engine.base.Engine CREATE INDEX ix_keywords_main_id ON keywords (main_id)\n"
     ]
    },
    {
     "name": "stdout",
     "output_type": "stream",
     "text": [
      "2018-01-21 21:08:54,440 INFO sqlalchemy.engine.base.Engine ()\n"
     ]
    },
    {
     "name": "stdout",
     "output_type": "stream",
     "text": [
      "2018-01-21 21:08:54,484 INFO sqlalchemy.engine.base.Engine COMMIT\n"
     ]
    },
    {
     "name": "stdout",
     "output_type": "stream",
     "text": [
      "2018-01-21 21:08:54,486 INFO sqlalchemy.engine.base.Engine CREATE INDEX ix_keywords_name ON keywords (name)\n"
     ]
    },
    {
     "name": "stdout",
     "output_type": "stream",
     "text": [
      "2018-01-21 21:08:54,486 INFO sqlalchemy.engine.base.Engine ()\n"
     ]
    },
    {
     "name": "stdout",
     "output_type": "stream",
     "text": [
      "2018-01-21 21:08:54,526 INFO sqlalchemy.engine.base.Engine COMMIT\n"
     ]
    },
    {
     "name": "stdout",
     "output_type": "stream",
     "text": [
      "2018-01-21 21:08:54,528 INFO sqlalchemy.engine.base.Engine CREATE INDEX ix_keywords_id ON keywords (id)\n"
     ]
    },
    {
     "name": "stdout",
     "output_type": "stream",
     "text": [
      "2018-01-21 21:08:54,529 INFO sqlalchemy.engine.base.Engine ()\n"
     ]
    },
    {
     "name": "stdout",
     "output_type": "stream",
     "text": [
      "2018-01-21 21:08:54,563 INFO sqlalchemy.engine.base.Engine COMMIT\n"
     ]
    }
   ],
   "source": [
    "import sys, os\n",
    "try:\n",
    "    os.system('rm -f test_new.db')\n",
    "except:\n",
    "    pass\n",
    "\n",
    "sys.path.append('./core/')\n",
    "from databaseModel import *\n",
    "\n",
    "from sqlalchemy import create_engine\n",
    "from sqlalchemy.orm import sessionmaker\n",
    "\n",
    "#engine = create_engine('sqlite:///:memory:', echo=False)\n",
    "engine = create_engine('sqlite:///./test_new.db', echo=False) #  if we want spam\n",
    "\n",
    "# Establishing a session\n",
    "Session = sessionmaker(bind=engine)\n",
    "session = Session()\n",
    "\n",
    "# create Tables\n",
    "Base.metadata.create_all(engine)"
   ]
  },
  {
   "cell_type": "code",
   "execution_count": 8,
   "metadata": {},
   "outputs": [
    {
     "name": "stdout",
     "output_type": "stream",
     "text": [
      "2018-01-21 21:08:56,296 INFO sqlalchemy.engine.base.Engine BEGIN (implicit)\n"
     ]
    },
    {
     "name": "stdout",
     "output_type": "stream",
     "text": [
      "2018-01-21 21:08:56,299 INFO sqlalchemy.engine.base.Engine INSERT INTO main (sim_id, mediawiki, path, sim_type, updated_on) VALUES (?, ?, ?, ?, ?)\n"
     ]
    },
    {
     "name": "stdout",
     "output_type": "stream",
     "text": [
      "2018-01-21 21:08:56,301 INFO sqlalchemy.engine.base.Engine ('MK0001', 'MK0001', None, 'LAMMPS', '2018-01-21 21:08:56.300000')\n"
     ]
    },
    {
     "name": "stdout",
     "output_type": "stream",
     "text": [
      "2018-01-21 21:08:56,303 INFO sqlalchemy.engine.base.Engine INSERT INTO main (sim_id, mediawiki, path, sim_type, updated_on) VALUES (?, ?, ?, ?, ?)\n"
     ]
    },
    {
     "name": "stdout",
     "output_type": "stream",
     "text": [
      "2018-01-21 21:08:56,305 INFO sqlalchemy.engine.base.Engine ('MK0002', 'MK0002', None, 'GROMACS', '2018-01-21 21:08:56.304000')\n"
     ]
    },
    {
     "name": "stdout",
     "output_type": "stream",
     "text": [
      "2018-01-21 21:08:56,306 INFO sqlalchemy.engine.base.Engine INSERT INTO main (sim_id, mediawiki, path, sim_type, updated_on) VALUES (?, ?, ?, ?, ?)\n"
     ]
    },
    {
     "name": "stdout",
     "output_type": "stream",
     "text": [
      "2018-01-21 21:08:56,308 INFO sqlalchemy.engine.base.Engine ('MK0003', 'MK0003', None, 'GROMACS', '2018-01-21 21:08:56.307000')\n"
     ]
    },
    {
     "name": "stdout",
     "output_type": "stream",
     "text": [
      "2018-01-21 21:08:56,309 INFO sqlalchemy.engine.base.Engine INSERT INTO main (sim_id, mediawiki, path, sim_type, updated_on) VALUES (?, ?, ?, ?, ?)\n"
     ]
    },
    {
     "name": "stdout",
     "output_type": "stream",
     "text": [
      "2018-01-21 21:08:56,311 INFO sqlalchemy.engine.base.Engine ('MK0004', 'MK0004', None, 'LAMMPS', '2018-01-21 21:08:56.310000')\n"
     ]
    },
    {
     "name": "stdout",
     "output_type": "stream",
     "text": [
      "2018-01-21 21:08:56,313 INFO sqlalchemy.engine.base.Engine INSERT INTO main (sim_id, mediawiki, path, sim_type, updated_on) VALUES (?, ?, ?, ?, ?)\n"
     ]
    },
    {
     "name": "stdout",
     "output_type": "stream",
     "text": [
      "2018-01-21 21:08:56,315 INFO sqlalchemy.engine.base.Engine ('MK0005', 'MK0005', None, 'GROMACS', '2018-01-21 21:08:56.313000')\n"
     ]
    },
    {
     "name": "stdout",
     "output_type": "stream",
     "text": [
      "2018-01-21 21:08:56,315 INFO sqlalchemy.engine.base.Engine INSERT INTO main (sim_id, mediawiki, path, sim_type, updated_on) VALUES (?, ?, ?, ?, ?)\n"
     ]
    },
    {
     "name": "stdout",
     "output_type": "stream",
     "text": [
      "2018-01-21 21:08:56,316 INFO sqlalchemy.engine.base.Engine ('MK0006', 'MK0006', None, 'LAMMPS', '2018-01-21 21:08:56.316000')\n"
     ]
    },
    {
     "name": "stdout",
     "output_type": "stream",
     "text": [
      "2018-01-21 21:08:56,318 INFO sqlalchemy.engine.base.Engine INSERT INTO main (sim_id, mediawiki, path, sim_type, updated_on) VALUES (?, ?, ?, ?, ?)\n"
     ]
    },
    {
     "name": "stdout",
     "output_type": "stream",
     "text": [
      "2018-01-21 21:08:56,319 INFO sqlalchemy.engine.base.Engine ('MK0007', 'MK0007', None, '', '2018-01-21 21:08:56.318000')\n"
     ]
    },
    {
     "name": "stdout",
     "output_type": "stream",
     "text": [
      "2018-01-21 21:08:56,321 INFO sqlalchemy.engine.base.Engine INSERT INTO main (sim_id, mediawiki, path, sim_type, updated_on) VALUES (?, ?, ?, ?, ?)\n"
     ]
    },
    {
     "name": "stdout",
     "output_type": "stream",
     "text": [
      "2018-01-21 21:08:56,322 INFO sqlalchemy.engine.base.Engine ('MK0008', 'MK0008', None, 'LAMMPS', '2018-01-21 21:08:56.321000')\n"
     ]
    },
    {
     "name": "stdout",
     "output_type": "stream",
     "text": [
      "2018-01-21 21:08:56,322 INFO sqlalchemy.engine.base.Engine INSERT INTO main (sim_id, mediawiki, path, sim_type, updated_on) VALUES (?, ?, ?, ?, ?)\n"
     ]
    },
    {
     "name": "stdout",
     "output_type": "stream",
     "text": [
      "2018-01-21 21:08:56,323 INFO sqlalchemy.engine.base.Engine ('MK0009', 'MK0009', None, 'LAMMPS', '2018-01-21 21:08:56.323000')\n"
     ]
    },
    {
     "name": "stdout",
     "output_type": "stream",
     "text": [
      "2018-01-21 21:08:56,325 INFO sqlalchemy.engine.base.Engine INSERT INTO main (sim_id, mediawiki, path, sim_type, updated_on) VALUES (?, ?, ?, ?, ?)\n"
     ]
    },
    {
     "name": "stdout",
     "output_type": "stream",
     "text": [
      "2018-01-21 21:08:56,325 INFO sqlalchemy.engine.base.Engine ('MK0010', 'MK0010', None, 'LAMMPS', '2018-01-21 21:08:56.325000')\n"
     ]
    },
    {
     "name": "stdout",
     "output_type": "stream",
     "text": [
      "2018-01-21 21:08:56,328 INFO sqlalchemy.engine.base.Engine INSERT INTO main (sim_id, mediawiki, path, sim_type, updated_on) VALUES (?, ?, ?, ?, ?)\n"
     ]
    },
    {
     "name": "stdout",
     "output_type": "stream",
     "text": [
      "2018-01-21 21:08:56,328 INFO sqlalchemy.engine.base.Engine ('MK0011', 'MK0011', None, 'GROMACS', '2018-01-21 21:08:56.328000')\n"
     ]
    },
    {
     "name": "stdout",
     "output_type": "stream",
     "text": [
      "2018-01-21 21:08:56,331 INFO sqlalchemy.engine.base.Engine INSERT INTO main (sim_id, mediawiki, path, sim_type, updated_on) VALUES (?, ?, ?, ?, ?)\n"
     ]
    },
    {
     "name": "stdout",
     "output_type": "stream",
     "text": [
      "2018-01-21 21:08:56,332 INFO sqlalchemy.engine.base.Engine ('MK0012', 'MK0012', None, 'PYTHON', '2018-01-21 21:08:56.331000')\n"
     ]
    },
    {
     "name": "stdout",
     "output_type": "stream",
     "text": [
      "2018-01-21 21:08:56,334 INFO sqlalchemy.engine.base.Engine INSERT INTO main (sim_id, mediawiki, path, sim_type, updated_on) VALUES (?, ?, ?, ?, ?)\n"
     ]
    },
    {
     "name": "stdout",
     "output_type": "stream",
     "text": [
      "2018-01-21 21:08:56,335 INFO sqlalchemy.engine.base.Engine ('MK0013', 'MK0013', None, 'LAMMPS', '2018-01-21 21:08:56.334000')\n"
     ]
    },
    {
     "name": "stdout",
     "output_type": "stream",
     "text": [
      "2018-01-21 21:08:56,336 INFO sqlalchemy.engine.base.Engine INSERT INTO main (sim_id, mediawiki, path, sim_type, updated_on) VALUES (?, ?, ?, ?, ?)\n"
     ]
    },
    {
     "name": "stdout",
     "output_type": "stream",
     "text": [
      "2018-01-21 21:08:56,338 INFO sqlalchemy.engine.base.Engine ('MK0014', 'MK0014', None, 'PYTHON', '2018-01-21 21:08:56.337000')\n"
     ]
    },
    {
     "name": "stdout",
     "output_type": "stream",
     "text": [
      "2018-01-21 21:08:56,338 INFO sqlalchemy.engine.base.Engine INSERT INTO main (sim_id, mediawiki, path, sim_type, updated_on) VALUES (?, ?, ?, ?, ?)\n"
     ]
    },
    {
     "name": "stdout",
     "output_type": "stream",
     "text": [
      "2018-01-21 21:08:56,339 INFO sqlalchemy.engine.base.Engine ('MK0015', 'MK0015', None, 'LAMMPS', '2018-01-21 21:08:56.339000')\n"
     ]
    },
    {
     "name": "stdout",
     "output_type": "stream",
     "text": [
      "2018-01-21 21:08:56,342 INFO sqlalchemy.engine.base.Engine INSERT INTO main (sim_id, mediawiki, path, sim_type, updated_on) VALUES (?, ?, ?, ?, ?)\n"
     ]
    },
    {
     "name": "stdout",
     "output_type": "stream",
     "text": [
      "2018-01-21 21:08:56,342 INFO sqlalchemy.engine.base.Engine ('MK0016', 'MK0016', None, '', '2018-01-21 21:08:56.342000')\n"
     ]
    },
    {
     "name": "stdout",
     "output_type": "stream",
     "text": [
      "2018-01-21 21:08:56,344 INFO sqlalchemy.engine.base.Engine INSERT INTO main (sim_id, mediawiki, path, sim_type, updated_on) VALUES (?, ?, ?, ?, ?)\n"
     ]
    },
    {
     "name": "stdout",
     "output_type": "stream",
     "text": [
      "2018-01-21 21:08:56,345 INFO sqlalchemy.engine.base.Engine ('MK0017', 'MK0017', None, '', '2018-01-21 21:08:56.344000')\n"
     ]
    },
    {
     "name": "stdout",
     "output_type": "stream",
     "text": [
      "2018-01-21 21:08:56,346 INFO sqlalchemy.engine.base.Engine INSERT INTO main (sim_id, mediawiki, path, sim_type, updated_on) VALUES (?, ?, ?, ?, ?)\n"
     ]
    },
    {
     "name": "stdout",
     "output_type": "stream",
     "text": [
      "2018-01-21 21:08:56,348 INFO sqlalchemy.engine.base.Engine ('MK0018', 'MK0018', None, '', '2018-01-21 21:08:56.347000')\n"
     ]
    },
    {
     "name": "stdout",
     "output_type": "stream",
     "text": [
      "2018-01-21 21:08:56,354 INFO sqlalchemy.engine.base.Engine INSERT INTO main (sim_id, mediawiki, path, sim_type, updated_on) VALUES (?, ?, ?, ?, ?)\n"
     ]
    },
    {
     "name": "stdout",
     "output_type": "stream",
     "text": [
      "2018-01-21 21:08:56,355 INFO sqlalchemy.engine.base.Engine ('MK0019', 'MK0019', None, 'GROMACS', '2018-01-21 21:08:56.354000')\n"
     ]
    },
    {
     "name": "stdout",
     "output_type": "stream",
     "text": [
      "2018-01-21 21:08:56,357 INFO sqlalchemy.engine.base.Engine INSERT INTO main (sim_id, mediawiki, path, sim_type, updated_on) VALUES (?, ?, ?, ?, ?)\n"
     ]
    },
    {
     "name": "stdout",
     "output_type": "stream",
     "text": [
      "2018-01-21 21:08:56,358 INFO sqlalchemy.engine.base.Engine ('MK0020', 'MK0020', None, '', '2018-01-21 21:08:56.357000')\n"
     ]
    },
    {
     "name": "stdout",
     "output_type": "stream",
     "text": [
      "2018-01-21 21:08:56,359 INFO sqlalchemy.engine.base.Engine INSERT INTO main (sim_id, mediawiki, path, sim_type, updated_on) VALUES (?, ?, ?, ?, ?)\n"
     ]
    },
    {
     "name": "stdout",
     "output_type": "stream",
     "text": [
      "2018-01-21 21:08:56,361 INFO sqlalchemy.engine.base.Engine ('MK0021', 'MK0021', None, '', '2018-01-21 21:08:56.360000')\n"
     ]
    },
    {
     "name": "stdout",
     "output_type": "stream",
     "text": [
      "2018-01-21 21:08:56,362 INFO sqlalchemy.engine.base.Engine INSERT INTO main (sim_id, mediawiki, path, sim_type, updated_on) VALUES (?, ?, ?, ?, ?)\n"
     ]
    },
    {
     "name": "stdout",
     "output_type": "stream",
     "text": [
      "2018-01-21 21:08:56,365 INFO sqlalchemy.engine.base.Engine ('MK0022', 'MK0022', None, 'PYTHON', '2018-01-21 21:08:56.363000')\n"
     ]
    },
    {
     "name": "stdout",
     "output_type": "stream",
     "text": [
      "2018-01-21 21:08:56,368 INFO sqlalchemy.engine.base.Engine INSERT INTO main (sim_id, mediawiki, path, sim_type, updated_on) VALUES (?, ?, ?, ?, ?)\n"
     ]
    },
    {
     "name": "stdout",
     "output_type": "stream",
     "text": [
      "2018-01-21 21:08:56,369 INFO sqlalchemy.engine.base.Engine ('MK0023', 'MK0023', None, '', '2018-01-21 21:08:56.368000')\n"
     ]
    },
    {
     "name": "stdout",
     "output_type": "stream",
     "text": [
      "2018-01-21 21:08:56,371 INFO sqlalchemy.engine.base.Engine INSERT INTO main (sim_id, mediawiki, path, sim_type, updated_on) VALUES (?, ?, ?, ?, ?)\n"
     ]
    },
    {
     "name": "stdout",
     "output_type": "stream",
     "text": [
      "2018-01-21 21:08:56,372 INFO sqlalchemy.engine.base.Engine ('MK0024', 'MK0024', None, 'PYTHON', '2018-01-21 21:08:56.372000')\n"
     ]
    },
    {
     "name": "stdout",
     "output_type": "stream",
     "text": [
      "2018-01-21 21:08:56,375 INFO sqlalchemy.engine.base.Engine INSERT INTO main (sim_id, mediawiki, path, sim_type, updated_on) VALUES (?, ?, ?, ?, ?)\n"
     ]
    },
    {
     "name": "stdout",
     "output_type": "stream",
     "text": [
      "2018-01-21 21:08:56,375 INFO sqlalchemy.engine.base.Engine ('MK0025', 'MK0025', None, 'GROMACS', '2018-01-21 21:08:56.375000')\n"
     ]
    },
    {
     "name": "stdout",
     "output_type": "stream",
     "text": [
      "2018-01-21 21:08:56,377 INFO sqlalchemy.engine.base.Engine INSERT INTO main (sim_id, mediawiki, path, sim_type, updated_on) VALUES (?, ?, ?, ?, ?)\n"
     ]
    },
    {
     "name": "stdout",
     "output_type": "stream",
     "text": [
      "2018-01-21 21:08:56,378 INFO sqlalchemy.engine.base.Engine ('MK0026', 'MK0026', None, 'PYTHON', '2018-01-21 21:08:56.377000')\n"
     ]
    },
    {
     "name": "stdout",
     "output_type": "stream",
     "text": [
      "2018-01-21 21:08:56,381 INFO sqlalchemy.engine.base.Engine INSERT INTO main (sim_id, mediawiki, path, sim_type, updated_on) VALUES (?, ?, ?, ?, ?)\n"
     ]
    },
    {
     "name": "stdout",
     "output_type": "stream",
     "text": [
      "2018-01-21 21:08:56,382 INFO sqlalchemy.engine.base.Engine ('MK0027', 'MK0027', None, 'GROMACS', '2018-01-21 21:08:56.381000')\n"
     ]
    },
    {
     "name": "stdout",
     "output_type": "stream",
     "text": [
      "2018-01-21 21:08:56,384 INFO sqlalchemy.engine.base.Engine INSERT INTO main (sim_id, mediawiki, path, sim_type, updated_on) VALUES (?, ?, ?, ?, ?)\n"
     ]
    },
    {
     "name": "stdout",
     "output_type": "stream",
     "text": [
      "2018-01-21 21:08:56,385 INFO sqlalchemy.engine.base.Engine ('MK0028', 'MK0028', None, 'GROMACS', '2018-01-21 21:08:56.385000')\n"
     ]
    },
    {
     "name": "stdout",
     "output_type": "stream",
     "text": [
      "2018-01-21 21:08:56,387 INFO sqlalchemy.engine.base.Engine INSERT INTO main (sim_id, mediawiki, path, sim_type, updated_on) VALUES (?, ?, ?, ?, ?)\n"
     ]
    },
    {
     "name": "stdout",
     "output_type": "stream",
     "text": [
      "2018-01-21 21:08:56,388 INFO sqlalchemy.engine.base.Engine ('MK0029', 'MK0029', None, 'LAMMPS', '2018-01-21 21:08:56.387000')\n"
     ]
    },
    {
     "name": "stdout",
     "output_type": "stream",
     "text": [
      "2018-01-21 21:08:56,390 INFO sqlalchemy.engine.base.Engine INSERT INTO main (sim_id, mediawiki, path, sim_type, updated_on) VALUES (?, ?, ?, ?, ?)\n"
     ]
    },
    {
     "name": "stdout",
     "output_type": "stream",
     "text": [
      "2018-01-21 21:08:56,391 INFO sqlalchemy.engine.base.Engine ('MK0030', 'MK0030', None, 'PYTHON', '2018-01-21 21:08:56.390000')\n"
     ]
    },
    {
     "name": "stdout",
     "output_type": "stream",
     "text": [
      "2018-01-21 21:08:56,392 INFO sqlalchemy.engine.base.Engine INSERT INTO main (sim_id, mediawiki, path, sim_type, updated_on) VALUES (?, ?, ?, ?, ?)\n"
     ]
    },
    {
     "name": "stdout",
     "output_type": "stream",
     "text": [
      "2018-01-21 21:08:56,394 INFO sqlalchemy.engine.base.Engine ('MK0031', 'MK0031', None, 'PYTHON', '2018-01-21 21:08:56.393000')\n"
     ]
    },
    {
     "name": "stdout",
     "output_type": "stream",
     "text": [
      "2018-01-21 21:08:56,395 INFO sqlalchemy.engine.base.Engine INSERT INTO main (sim_id, mediawiki, path, sim_type, updated_on) VALUES (?, ?, ?, ?, ?)\n"
     ]
    },
    {
     "name": "stdout",
     "output_type": "stream",
     "text": [
      "2018-01-21 21:08:56,398 INFO sqlalchemy.engine.base.Engine ('MK0032', 'MK0032', None, 'PYTHON', '2018-01-21 21:08:56.396000')\n"
     ]
    },
    {
     "name": "stdout",
     "output_type": "stream",
     "text": [
      "2018-01-21 21:08:56,400 INFO sqlalchemy.engine.base.Engine INSERT INTO main (sim_id, mediawiki, path, sim_type, updated_on) VALUES (?, ?, ?, ?, ?)\n"
     ]
    },
    {
     "name": "stdout",
     "output_type": "stream",
     "text": [
      "2018-01-21 21:08:56,401 INFO sqlalchemy.engine.base.Engine ('MK0033', 'MK0033', None, '', '2018-01-21 21:08:56.400000')\n"
     ]
    },
    {
     "name": "stdout",
     "output_type": "stream",
     "text": [
      "2018-01-21 21:08:56,404 INFO sqlalchemy.engine.base.Engine INSERT INTO main (sim_id, mediawiki, path, sim_type, updated_on) VALUES (?, ?, ?, ?, ?)\n"
     ]
    },
    {
     "name": "stdout",
     "output_type": "stream",
     "text": [
      "2018-01-21 21:08:56,404 INFO sqlalchemy.engine.base.Engine ('MK0034', 'MK0034', None, 'GROMACS', '2018-01-21 21:08:56.404000')\n"
     ]
    },
    {
     "name": "stdout",
     "output_type": "stream",
     "text": [
      "2018-01-21 21:08:56,407 INFO sqlalchemy.engine.base.Engine INSERT INTO main (sim_id, mediawiki, path, sim_type, updated_on) VALUES (?, ?, ?, ?, ?)\n"
     ]
    },
    {
     "name": "stdout",
     "output_type": "stream",
     "text": [
      "2018-01-21 21:08:56,407 INFO sqlalchemy.engine.base.Engine ('MK0035', 'MK0035', None, 'PYTHON', '2018-01-21 21:08:56.407000')\n"
     ]
    },
    {
     "name": "stdout",
     "output_type": "stream",
     "text": [
      "2018-01-21 21:08:56,410 INFO sqlalchemy.engine.base.Engine INSERT INTO main (sim_id, mediawiki, path, sim_type, updated_on) VALUES (?, ?, ?, ?, ?)\n"
     ]
    },
    {
     "name": "stdout",
     "output_type": "stream",
     "text": [
      "2018-01-21 21:08:56,414 INFO sqlalchemy.engine.base.Engine ('MK0036', 'MK0036', None, 'GROMACS', '2018-01-21 21:08:56.410000')\n"
     ]
    },
    {
     "name": "stdout",
     "output_type": "stream",
     "text": [
      "2018-01-21 21:08:56,420 INFO sqlalchemy.engine.base.Engine INSERT INTO main (sim_id, mediawiki, path, sim_type, updated_on) VALUES (?, ?, ?, ?, ?)\n"
     ]
    },
    {
     "name": "stdout",
     "output_type": "stream",
     "text": [
      "2018-01-21 21:08:56,421 INFO sqlalchemy.engine.base.Engine ('MK0037', 'MK0037', None, 'LAMMPS', '2018-01-21 21:08:56.416000')\n"
     ]
    },
    {
     "name": "stdout",
     "output_type": "stream",
     "text": [
      "2018-01-21 21:08:56,423 INFO sqlalchemy.engine.base.Engine INSERT INTO main (sim_id, mediawiki, path, sim_type, updated_on) VALUES (?, ?, ?, ?, ?)\n"
     ]
    },
    {
     "name": "stdout",
     "output_type": "stream",
     "text": [
      "2018-01-21 21:08:56,424 INFO sqlalchemy.engine.base.Engine ('MK0038', 'MK0038', None, '', '2018-01-21 21:08:56.423000')\n"
     ]
    },
    {
     "name": "stdout",
     "output_type": "stream",
     "text": [
      "2018-01-21 21:08:56,424 INFO sqlalchemy.engine.base.Engine INSERT INTO main (sim_id, mediawiki, path, sim_type, updated_on) VALUES (?, ?, ?, ?, ?)\n"
     ]
    },
    {
     "name": "stdout",
     "output_type": "stream",
     "text": [
      "2018-01-21 21:08:56,426 INFO sqlalchemy.engine.base.Engine ('MK0039', 'MK0039', None, 'LAMMPS', '2018-01-21 21:08:56.425000')\n"
     ]
    },
    {
     "name": "stdout",
     "output_type": "stream",
     "text": [
      "2018-01-21 21:08:56,427 INFO sqlalchemy.engine.base.Engine INSERT INTO main (sim_id, mediawiki, path, sim_type, updated_on) VALUES (?, ?, ?, ?, ?)\n"
     ]
    },
    {
     "name": "stdout",
     "output_type": "stream",
     "text": [
      "2018-01-21 21:08:56,428 INFO sqlalchemy.engine.base.Engine ('MK0040', 'MK0040', None, 'LAMMPS', '2018-01-21 21:08:56.427000')\n"
     ]
    },
    {
     "name": "stdout",
     "output_type": "stream",
     "text": [
      "2018-01-21 21:08:56,430 INFO sqlalchemy.engine.base.Engine INSERT INTO main (sim_id, mediawiki, path, sim_type, updated_on) VALUES (?, ?, ?, ?, ?)\n"
     ]
    },
    {
     "name": "stdout",
     "output_type": "stream",
     "text": [
      "2018-01-21 21:08:56,430 INFO sqlalchemy.engine.base.Engine ('MK0041', 'MK0041', None, 'PYTHON', '2018-01-21 21:08:56.430000')\n"
     ]
    },
    {
     "name": "stdout",
     "output_type": "stream",
     "text": [
      "2018-01-21 21:08:56,431 INFO sqlalchemy.engine.base.Engine INSERT INTO main (sim_id, mediawiki, path, sim_type, updated_on) VALUES (?, ?, ?, ?, ?)\n"
     ]
    },
    {
     "name": "stdout",
     "output_type": "stream",
     "text": [
      "2018-01-21 21:08:56,433 INFO sqlalchemy.engine.base.Engine ('MK0042', 'MK0042', None, 'GROMACS', '2018-01-21 21:08:56.432000')\n"
     ]
    },
    {
     "name": "stdout",
     "output_type": "stream",
     "text": [
      "2018-01-21 21:08:56,434 INFO sqlalchemy.engine.base.Engine INSERT INTO main (sim_id, mediawiki, path, sim_type, updated_on) VALUES (?, ?, ?, ?, ?)\n"
     ]
    },
    {
     "name": "stdout",
     "output_type": "stream",
     "text": [
      "2018-01-21 21:08:56,436 INFO sqlalchemy.engine.base.Engine ('MK0043', 'MK0043', None, 'GROMACS', '2018-01-21 21:08:56.435000')\n"
     ]
    },
    {
     "name": "stdout",
     "output_type": "stream",
     "text": [
      "2018-01-21 21:08:56,437 INFO sqlalchemy.engine.base.Engine INSERT INTO main (sim_id, mediawiki, path, sim_type, updated_on) VALUES (?, ?, ?, ?, ?)\n"
     ]
    },
    {
     "name": "stdout",
     "output_type": "stream",
     "text": [
      "2018-01-21 21:08:56,437 INFO sqlalchemy.engine.base.Engine ('MK0044', 'MK0044', None, 'LAMMPS', '2018-01-21 21:08:56.437000')\n"
     ]
    },
    {
     "name": "stdout",
     "output_type": "stream",
     "text": [
      "2018-01-21 21:08:56,440 INFO sqlalchemy.engine.base.Engine INSERT INTO main (sim_id, mediawiki, path, sim_type, updated_on) VALUES (?, ?, ?, ?, ?)\n"
     ]
    },
    {
     "name": "stdout",
     "output_type": "stream",
     "text": [
      "2018-01-21 21:08:56,440 INFO sqlalchemy.engine.base.Engine ('MK0045', 'MK0045', None, 'PYTHON', '2018-01-21 21:08:56.440000')\n"
     ]
    },
    {
     "name": "stdout",
     "output_type": "stream",
     "text": [
      "2018-01-21 21:08:56,441 INFO sqlalchemy.engine.base.Engine INSERT INTO main (sim_id, mediawiki, path, sim_type, updated_on) VALUES (?, ?, ?, ?, ?)\n"
     ]
    },
    {
     "name": "stdout",
     "output_type": "stream",
     "text": [
      "2018-01-21 21:08:56,444 INFO sqlalchemy.engine.base.Engine ('MK0046', 'MK0046', None, 'GROMACS', '2018-01-21 21:08:56.442000')\n"
     ]
    },
    {
     "name": "stdout",
     "output_type": "stream",
     "text": [
      "2018-01-21 21:08:56,444 INFO sqlalchemy.engine.base.Engine INSERT INTO main (sim_id, mediawiki, path, sim_type, updated_on) VALUES (?, ?, ?, ?, ?)\n"
     ]
    },
    {
     "name": "stdout",
     "output_type": "stream",
     "text": [
      "2018-01-21 21:08:56,447 INFO sqlalchemy.engine.base.Engine ('MK0047', 'MK0047', None, 'LAMMPS', '2018-01-21 21:08:56.445000')\n"
     ]
    },
    {
     "name": "stdout",
     "output_type": "stream",
     "text": [
      "2018-01-21 21:08:56,450 INFO sqlalchemy.engine.base.Engine INSERT INTO main (sim_id, mediawiki, path, sim_type, updated_on) VALUES (?, ?, ?, ?, ?)\n"
     ]
    },
    {
     "name": "stdout",
     "output_type": "stream",
     "text": [
      "2018-01-21 21:08:56,450 INFO sqlalchemy.engine.base.Engine ('MK0048', 'MK0048', None, 'GROMACS', '2018-01-21 21:08:56.450000')\n"
     ]
    },
    {
     "name": "stdout",
     "output_type": "stream",
     "text": [
      "2018-01-21 21:08:56,453 INFO sqlalchemy.engine.base.Engine INSERT INTO main (sim_id, mediawiki, path, sim_type, updated_on) VALUES (?, ?, ?, ?, ?)\n"
     ]
    },
    {
     "name": "stdout",
     "output_type": "stream",
     "text": [
      "2018-01-21 21:08:56,453 INFO sqlalchemy.engine.base.Engine ('MK0049', 'MK0049', None, 'LAMMPS', '2018-01-21 21:08:56.453000')\n"
     ]
    },
    {
     "name": "stdout",
     "output_type": "stream",
     "text": [
      "2018-01-21 21:08:56,454 INFO sqlalchemy.engine.base.Engine INSERT INTO main (sim_id, mediawiki, path, sim_type, updated_on) VALUES (?, ?, ?, ?, ?)\n"
     ]
    },
    {
     "name": "stdout",
     "output_type": "stream",
     "text": [
      "2018-01-21 21:08:56,457 INFO sqlalchemy.engine.base.Engine ('MK0050', 'MK0050', None, 'GROMACS', '2018-01-21 21:08:56.455000')\n"
     ]
    },
    {
     "name": "stdout",
     "output_type": "stream",
     "text": [
      "2018-01-21 21:08:56,457 INFO sqlalchemy.engine.base.Engine INSERT INTO main (sim_id, mediawiki, path, sim_type, updated_on) VALUES (?, ?, ?, ?, ?)\n"
     ]
    },
    {
     "name": "stdout",
     "output_type": "stream",
     "text": [
      "2018-01-21 21:08:56,459 INFO sqlalchemy.engine.base.Engine ('MK0051', 'MK0051', None, 'PYTHON', '2018-01-21 21:08:56.458000')\n"
     ]
    },
    {
     "name": "stdout",
     "output_type": "stream",
     "text": [
      "2018-01-21 21:08:56,460 INFO sqlalchemy.engine.base.Engine INSERT INTO main (sim_id, mediawiki, path, sim_type, updated_on) VALUES (?, ?, ?, ?, ?)\n"
     ]
    },
    {
     "name": "stdout",
     "output_type": "stream",
     "text": [
      "2018-01-21 21:08:56,461 INFO sqlalchemy.engine.base.Engine ('MK0052', 'MK0052', None, 'LAMMPS', '2018-01-21 21:08:56.461000')\n"
     ]
    },
    {
     "name": "stdout",
     "output_type": "stream",
     "text": [
      "2018-01-21 21:08:56,463 INFO sqlalchemy.engine.base.Engine INSERT INTO main (sim_id, mediawiki, path, sim_type, updated_on) VALUES (?, ?, ?, ?, ?)\n"
     ]
    },
    {
     "name": "stdout",
     "output_type": "stream",
     "text": [
      "2018-01-21 21:08:56,464 INFO sqlalchemy.engine.base.Engine ('MK0053', 'MK0053', None, 'LAMMPS', '2018-01-21 21:08:56.464000')\n"
     ]
    },
    {
     "name": "stdout",
     "output_type": "stream",
     "text": [
      "2018-01-21 21:08:56,466 INFO sqlalchemy.engine.base.Engine INSERT INTO main (sim_id, mediawiki, path, sim_type, updated_on) VALUES (?, ?, ?, ?, ?)\n"
     ]
    },
    {
     "name": "stdout",
     "output_type": "stream",
     "text": [
      "2018-01-21 21:08:56,473 INFO sqlalchemy.engine.base.Engine ('MK0054', 'MK0054', None, 'PYTHON', '2018-01-21 21:08:56.466000')\n"
     ]
    },
    {
     "name": "stdout",
     "output_type": "stream",
     "text": [
      "2018-01-21 21:08:56,473 INFO sqlalchemy.engine.base.Engine INSERT INTO main (sim_id, mediawiki, path, sim_type, updated_on) VALUES (?, ?, ?, ?, ?)\n"
     ]
    },
    {
     "name": "stdout",
     "output_type": "stream",
     "text": [
      "2018-01-21 21:08:56,474 INFO sqlalchemy.engine.base.Engine ('MK0055', 'MK0055', None, 'GROMACS', '2018-01-21 21:08:56.474000')\n"
     ]
    },
    {
     "name": "stdout",
     "output_type": "stream",
     "text": [
      "2018-01-21 21:08:56,477 INFO sqlalchemy.engine.base.Engine INSERT INTO main (sim_id, mediawiki, path, sim_type, updated_on) VALUES (?, ?, ?, ?, ?)\n"
     ]
    },
    {
     "name": "stdout",
     "output_type": "stream",
     "text": [
      "2018-01-21 21:08:56,479 INFO sqlalchemy.engine.base.Engine ('MK0056', 'MK0056', None, 'GROMACS', '2018-01-21 21:08:56.478000')\n"
     ]
    },
    {
     "name": "stdout",
     "output_type": "stream",
     "text": [
      "2018-01-21 21:08:56,480 INFO sqlalchemy.engine.base.Engine INSERT INTO main (sim_id, mediawiki, path, sim_type, updated_on) VALUES (?, ?, ?, ?, ?)\n"
     ]
    },
    {
     "name": "stdout",
     "output_type": "stream",
     "text": [
      "2018-01-21 21:08:56,482 INFO sqlalchemy.engine.base.Engine ('MK0057', 'MK0057', None, 'PYTHON', '2018-01-21 21:08:56.480000')\n"
     ]
    },
    {
     "name": "stdout",
     "output_type": "stream",
     "text": [
      "2018-01-21 21:08:56,483 INFO sqlalchemy.engine.base.Engine INSERT INTO main (sim_id, mediawiki, path, sim_type, updated_on) VALUES (?, ?, ?, ?, ?)\n"
     ]
    },
    {
     "name": "stdout",
     "output_type": "stream",
     "text": [
      "2018-01-21 21:08:56,483 INFO sqlalchemy.engine.base.Engine ('MK0058', 'MK0058', None, 'LAMMPS', '2018-01-21 21:08:56.483000')\n"
     ]
    },
    {
     "name": "stdout",
     "output_type": "stream",
     "text": [
      "2018-01-21 21:08:56,484 INFO sqlalchemy.engine.base.Engine INSERT INTO main (sim_id, mediawiki, path, sim_type, updated_on) VALUES (?, ?, ?, ?, ?)\n"
     ]
    },
    {
     "name": "stdout",
     "output_type": "stream",
     "text": [
      "2018-01-21 21:08:56,486 INFO sqlalchemy.engine.base.Engine ('MK0059', 'MK0059', None, 'PYTHON', '2018-01-21 21:08:56.485000')\n"
     ]
    },
    {
     "name": "stdout",
     "output_type": "stream",
     "text": [
      "2018-01-21 21:08:56,487 INFO sqlalchemy.engine.base.Engine INSERT INTO main (sim_id, mediawiki, path, sim_type, updated_on) VALUES (?, ?, ?, ?, ?)\n"
     ]
    },
    {
     "name": "stdout",
     "output_type": "stream",
     "text": [
      "2018-01-21 21:08:56,489 INFO sqlalchemy.engine.base.Engine ('MK0060', 'MK0060', None, '', '2018-01-21 21:08:56.488000')\n"
     ]
    },
    {
     "name": "stdout",
     "output_type": "stream",
     "text": [
      "2018-01-21 21:08:56,490 INFO sqlalchemy.engine.base.Engine INSERT INTO main (sim_id, mediawiki, path, sim_type, updated_on) VALUES (?, ?, ?, ?, ?)\n"
     ]
    },
    {
     "name": "stdout",
     "output_type": "stream",
     "text": [
      "2018-01-21 21:08:56,490 INFO sqlalchemy.engine.base.Engine ('MK0061', 'MK0061', None, 'GROMACS', '2018-01-21 21:08:56.490000')\n"
     ]
    },
    {
     "name": "stdout",
     "output_type": "stream",
     "text": [
      "2018-01-21 21:08:56,492 INFO sqlalchemy.engine.base.Engine INSERT INTO main (sim_id, mediawiki, path, sim_type, updated_on) VALUES (?, ?, ?, ?, ?)\n"
     ]
    },
    {
     "name": "stdout",
     "output_type": "stream",
     "text": [
      "2018-01-21 21:08:56,493 INFO sqlalchemy.engine.base.Engine ('MK0062', 'MK0062', None, 'GROMACS', '2018-01-21 21:08:56.492000')\n"
     ]
    },
    {
     "name": "stdout",
     "output_type": "stream",
     "text": [
      "2018-01-21 21:08:56,494 INFO sqlalchemy.engine.base.Engine INSERT INTO main (sim_id, mediawiki, path, sim_type, updated_on) VALUES (?, ?, ?, ?, ?)\n"
     ]
    },
    {
     "name": "stdout",
     "output_type": "stream",
     "text": [
      "2018-01-21 21:08:56,496 INFO sqlalchemy.engine.base.Engine ('MK0063', 'MK0063', None, 'GROMACS', '2018-01-21 21:08:56.495000')\n"
     ]
    },
    {
     "name": "stdout",
     "output_type": "stream",
     "text": [
      "2018-01-21 21:08:56,499 INFO sqlalchemy.engine.base.Engine INSERT INTO main (sim_id, mediawiki, path, sim_type, updated_on) VALUES (?, ?, ?, ?, ?)\n"
     ]
    },
    {
     "name": "stdout",
     "output_type": "stream",
     "text": [
      "2018-01-21 21:08:56,500 INFO sqlalchemy.engine.base.Engine ('MK0064', 'MK0064', None, 'GROMACS', '2018-01-21 21:08:56.499000')\n"
     ]
    },
    {
     "name": "stdout",
     "output_type": "stream",
     "text": [
      "2018-01-21 21:08:56,502 INFO sqlalchemy.engine.base.Engine INSERT INTO main (sim_id, mediawiki, path, sim_type, updated_on) VALUES (?, ?, ?, ?, ?)\n"
     ]
    },
    {
     "name": "stdout",
     "output_type": "stream",
     "text": [
      "2018-01-21 21:08:56,503 INFO sqlalchemy.engine.base.Engine ('MK0065', 'MK0065', None, '', '2018-01-21 21:08:56.502000')\n"
     ]
    },
    {
     "name": "stdout",
     "output_type": "stream",
     "text": [
      "2018-01-21 21:08:56,506 INFO sqlalchemy.engine.base.Engine INSERT INTO main (sim_id, mediawiki, path, sim_type, updated_on) VALUES (?, ?, ?, ?, ?)\n"
     ]
    },
    {
     "name": "stdout",
     "output_type": "stream",
     "text": [
      "2018-01-21 21:08:56,506 INFO sqlalchemy.engine.base.Engine ('MK0066', 'MK0066', None, 'GROMACS', '2018-01-21 21:08:56.506000')\n"
     ]
    },
    {
     "name": "stdout",
     "output_type": "stream",
     "text": [
      "2018-01-21 21:08:56,510 INFO sqlalchemy.engine.base.Engine INSERT INTO main (sim_id, mediawiki, path, sim_type, updated_on) VALUES (?, ?, ?, ?, ?)\n"
     ]
    },
    {
     "name": "stdout",
     "output_type": "stream",
     "text": [
      "2018-01-21 21:08:56,512 INFO sqlalchemy.engine.base.Engine ('MK0067', 'MK0067', None, 'GROMACS', '2018-01-21 21:08:56.511000')\n"
     ]
    },
    {
     "name": "stdout",
     "output_type": "stream",
     "text": [
      "2018-01-21 21:08:56,513 INFO sqlalchemy.engine.base.Engine INSERT INTO main (sim_id, mediawiki, path, sim_type, updated_on) VALUES (?, ?, ?, ?, ?)\n"
     ]
    },
    {
     "name": "stdout",
     "output_type": "stream",
     "text": [
      "2018-01-21 21:08:56,516 INFO sqlalchemy.engine.base.Engine ('MK0068', 'MK0068', None, 'LAMMPS', '2018-01-21 21:08:56.514000')\n"
     ]
    },
    {
     "name": "stdout",
     "output_type": "stream",
     "text": [
      "2018-01-21 21:08:56,516 INFO sqlalchemy.engine.base.Engine INSERT INTO main (sim_id, mediawiki, path, sim_type, updated_on) VALUES (?, ?, ?, ?, ?)\n"
     ]
    },
    {
     "name": "stdout",
     "output_type": "stream",
     "text": [
      "2018-01-21 21:08:56,519 INFO sqlalchemy.engine.base.Engine ('MK0069', 'MK0069', None, 'GROMACS', '2018-01-21 21:08:56.517000')\n"
     ]
    },
    {
     "name": "stdout",
     "output_type": "stream",
     "text": [
      "2018-01-21 21:08:56,522 INFO sqlalchemy.engine.base.Engine INSERT INTO main (sim_id, mediawiki, path, sim_type, updated_on) VALUES (?, ?, ?, ?, ?)\n"
     ]
    },
    {
     "name": "stdout",
     "output_type": "stream",
     "text": [
      "2018-01-21 21:08:56,523 INFO sqlalchemy.engine.base.Engine ('MK0070', 'MK0070', None, 'GROMACS', '2018-01-21 21:08:56.522000')\n"
     ]
    },
    {
     "name": "stdout",
     "output_type": "stream",
     "text": [
      "2018-01-21 21:08:56,525 INFO sqlalchemy.engine.base.Engine INSERT INTO main (sim_id, mediawiki, path, sim_type, updated_on) VALUES (?, ?, ?, ?, ?)\n"
     ]
    },
    {
     "name": "stdout",
     "output_type": "stream",
     "text": [
      "2018-01-21 21:08:56,526 INFO sqlalchemy.engine.base.Engine ('MK0071', 'MK0071', None, 'PYTHON', '2018-01-21 21:08:56.524000')\n"
     ]
    },
    {
     "name": "stdout",
     "output_type": "stream",
     "text": [
      "2018-01-21 21:08:56,528 INFO sqlalchemy.engine.base.Engine INSERT INTO main (sim_id, mediawiki, path, sim_type, updated_on) VALUES (?, ?, ?, ?, ?)\n"
     ]
    },
    {
     "name": "stdout",
     "output_type": "stream",
     "text": [
      "2018-01-21 21:08:56,529 INFO sqlalchemy.engine.base.Engine ('MK0072', 'MK0072', None, 'GROMACS', '2018-01-21 21:08:56.528000')\n"
     ]
    },
    {
     "name": "stdout",
     "output_type": "stream",
     "text": [
      "2018-01-21 21:08:56,530 INFO sqlalchemy.engine.base.Engine INSERT INTO main (sim_id, mediawiki, path, sim_type, updated_on) VALUES (?, ?, ?, ?, ?)\n"
     ]
    },
    {
     "name": "stdout",
     "output_type": "stream",
     "text": [
      "2018-01-21 21:08:56,532 INFO sqlalchemy.engine.base.Engine ('MK0073', 'MK0073', None, 'PYTHON', '2018-01-21 21:08:56.531000')\n"
     ]
    },
    {
     "name": "stdout",
     "output_type": "stream",
     "text": [
      "2018-01-21 21:08:56,533 INFO sqlalchemy.engine.base.Engine INSERT INTO main (sim_id, mediawiki, path, sim_type, updated_on) VALUES (?, ?, ?, ?, ?)\n"
     ]
    },
    {
     "name": "stdout",
     "output_type": "stream",
     "text": [
      "2018-01-21 21:08:56,536 INFO sqlalchemy.engine.base.Engine ('MK0074', 'MK0074', None, '', '2018-01-21 21:08:56.534000')\n"
     ]
    },
    {
     "name": "stdout",
     "output_type": "stream",
     "text": [
      "2018-01-21 21:08:56,538 INFO sqlalchemy.engine.base.Engine INSERT INTO main (sim_id, mediawiki, path, sim_type, updated_on) VALUES (?, ?, ?, ?, ?)\n"
     ]
    },
    {
     "name": "stdout",
     "output_type": "stream",
     "text": [
      "2018-01-21 21:08:56,539 INFO sqlalchemy.engine.base.Engine ('MK0075', 'MK0075', None, 'PYTHON', '2018-01-21 21:08:56.538000')\n"
     ]
    },
    {
     "name": "stdout",
     "output_type": "stream",
     "text": [
      "2018-01-21 21:08:56,540 INFO sqlalchemy.engine.base.Engine INSERT INTO main (sim_id, mediawiki, path, sim_type, updated_on) VALUES (?, ?, ?, ?, ?)\n"
     ]
    },
    {
     "name": "stdout",
     "output_type": "stream",
     "text": [
      "2018-01-21 21:08:56,542 INFO sqlalchemy.engine.base.Engine ('MK0076', 'MK0076', None, 'GROMACS', '2018-01-21 21:08:56.541000')\n"
     ]
    },
    {
     "name": "stdout",
     "output_type": "stream",
     "text": [
      "2018-01-21 21:08:56,543 INFO sqlalchemy.engine.base.Engine INSERT INTO main (sim_id, mediawiki, path, sim_type, updated_on) VALUES (?, ?, ?, ?, ?)\n"
     ]
    },
    {
     "name": "stdout",
     "output_type": "stream",
     "text": [
      "2018-01-21 21:08:56,545 INFO sqlalchemy.engine.base.Engine ('MK0077', 'MK0077', None, 'PYTHON', '2018-01-21 21:08:56.544000')\n"
     ]
    },
    {
     "name": "stdout",
     "output_type": "stream",
     "text": [
      "2018-01-21 21:08:56,548 INFO sqlalchemy.engine.base.Engine INSERT INTO main (sim_id, mediawiki, path, sim_type, updated_on) VALUES (?, ?, ?, ?, ?)\n"
     ]
    },
    {
     "name": "stdout",
     "output_type": "stream",
     "text": [
      "2018-01-21 21:08:56,549 INFO sqlalchemy.engine.base.Engine ('MK0078', 'MK0078', None, '', '2018-01-21 21:08:56.548000')\n"
     ]
    },
    {
     "name": "stdout",
     "output_type": "stream",
     "text": [
      "2018-01-21 21:08:56,549 INFO sqlalchemy.engine.base.Engine INSERT INTO main (sim_id, mediawiki, path, sim_type, updated_on) VALUES (?, ?, ?, ?, ?)\n"
     ]
    },
    {
     "name": "stdout",
     "output_type": "stream",
     "text": [
      "2018-01-21 21:08:56,551 INFO sqlalchemy.engine.base.Engine ('MK0079', 'MK0079', None, 'PYTHON', '2018-01-21 21:08:56.550000')\n"
     ]
    },
    {
     "name": "stdout",
     "output_type": "stream",
     "text": [
      "2018-01-21 21:08:56,552 INFO sqlalchemy.engine.base.Engine INSERT INTO main (sim_id, mediawiki, path, sim_type, updated_on) VALUES (?, ?, ?, ?, ?)\n"
     ]
    },
    {
     "name": "stdout",
     "output_type": "stream",
     "text": [
      "2018-01-21 21:08:56,553 INFO sqlalchemy.engine.base.Engine ('MK0080', 'MK0080', None, '', '2018-01-21 21:08:56.553000')\n"
     ]
    },
    {
     "name": "stdout",
     "output_type": "stream",
     "text": [
      "2018-01-21 21:08:56,555 INFO sqlalchemy.engine.base.Engine INSERT INTO main (sim_id, mediawiki, path, sim_type, updated_on) VALUES (?, ?, ?, ?, ?)\n"
     ]
    },
    {
     "name": "stdout",
     "output_type": "stream",
     "text": [
      "2018-01-21 21:08:56,555 INFO sqlalchemy.engine.base.Engine ('MK0081', 'MK0081', None, 'LAMMPS', '2018-01-21 21:08:56.555000')\n"
     ]
    },
    {
     "name": "stdout",
     "output_type": "stream",
     "text": [
      "2018-01-21 21:08:56,556 INFO sqlalchemy.engine.base.Engine INSERT INTO main (sim_id, mediawiki, path, sim_type, updated_on) VALUES (?, ?, ?, ?, ?)\n"
     ]
    },
    {
     "name": "stdout",
     "output_type": "stream",
     "text": [
      "2018-01-21 21:08:56,559 INFO sqlalchemy.engine.base.Engine ('MK0082', 'MK0082', None, 'PYTHON', '2018-01-21 21:08:56.557000')\n"
     ]
    },
    {
     "name": "stdout",
     "output_type": "stream",
     "text": [
      "2018-01-21 21:08:56,561 INFO sqlalchemy.engine.base.Engine INSERT INTO main (sim_id, mediawiki, path, sim_type, updated_on) VALUES (?, ?, ?, ?, ?)\n"
     ]
    },
    {
     "name": "stdout",
     "output_type": "stream",
     "text": [
      "2018-01-21 21:08:56,562 INFO sqlalchemy.engine.base.Engine ('MK0083', 'MK0083', None, 'GROMACS', '2018-01-21 21:08:56.561000')\n"
     ]
    },
    {
     "name": "stdout",
     "output_type": "stream",
     "text": [
      "2018-01-21 21:08:56,563 INFO sqlalchemy.engine.base.Engine INSERT INTO main (sim_id, mediawiki, path, sim_type, updated_on) VALUES (?, ?, ?, ?, ?)\n"
     ]
    },
    {
     "name": "stdout",
     "output_type": "stream",
     "text": [
      "2018-01-21 21:08:56,565 INFO sqlalchemy.engine.base.Engine ('MK0084', 'MK0084', None, '', '2018-01-21 21:08:56.563000')\n"
     ]
    },
    {
     "name": "stdout",
     "output_type": "stream",
     "text": [
      "2018-01-21 21:08:56,568 INFO sqlalchemy.engine.base.Engine INSERT INTO main (sim_id, mediawiki, path, sim_type, updated_on) VALUES (?, ?, ?, ?, ?)\n"
     ]
    },
    {
     "name": "stdout",
     "output_type": "stream",
     "text": [
      "2018-01-21 21:08:56,569 INFO sqlalchemy.engine.base.Engine ('MK0085', 'MK0085', None, 'LAMMPS', '2018-01-21 21:08:56.568000')\n"
     ]
    },
    {
     "name": "stdout",
     "output_type": "stream",
     "text": [
      "2018-01-21 21:08:56,572 INFO sqlalchemy.engine.base.Engine INSERT INTO main (sim_id, mediawiki, path, sim_type, updated_on) VALUES (?, ?, ?, ?, ?)\n"
     ]
    },
    {
     "name": "stdout",
     "output_type": "stream",
     "text": [
      "2018-01-21 21:08:56,575 INFO sqlalchemy.engine.base.Engine ('MK0086', 'MK0086', None, 'PYTHON', '2018-01-21 21:08:56.573000')\n"
     ]
    },
    {
     "name": "stdout",
     "output_type": "stream",
     "text": [
      "2018-01-21 21:08:56,578 INFO sqlalchemy.engine.base.Engine INSERT INTO main (sim_id, mediawiki, path, sim_type, updated_on) VALUES (?, ?, ?, ?, ?)\n"
     ]
    },
    {
     "name": "stdout",
     "output_type": "stream",
     "text": [
      "2018-01-21 21:08:56,582 INFO sqlalchemy.engine.base.Engine ('MK0087', 'MK0087', None, 'PYTHON', '2018-01-21 21:08:56.579000')\n"
     ]
    },
    {
     "name": "stdout",
     "output_type": "stream",
     "text": [
      "2018-01-21 21:08:56,585 INFO sqlalchemy.engine.base.Engine INSERT INTO main (sim_id, mediawiki, path, sim_type, updated_on) VALUES (?, ?, ?, ?, ?)\n"
     ]
    },
    {
     "name": "stdout",
     "output_type": "stream",
     "text": [
      "2018-01-21 21:08:56,586 INFO sqlalchemy.engine.base.Engine ('MK0088', 'MK0088', None, '', '2018-01-21 21:08:56.586000')\n"
     ]
    },
    {
     "name": "stdout",
     "output_type": "stream",
     "text": [
      "2018-01-21 21:08:56,588 INFO sqlalchemy.engine.base.Engine INSERT INTO main (sim_id, mediawiki, path, sim_type, updated_on) VALUES (?, ?, ?, ?, ?)\n"
     ]
    },
    {
     "name": "stdout",
     "output_type": "stream",
     "text": [
      "2018-01-21 21:08:56,592 INFO sqlalchemy.engine.base.Engine ('MK0089', 'MK0089', None, '', '2018-01-21 21:08:56.589000')\n"
     ]
    },
    {
     "name": "stdout",
     "output_type": "stream",
     "text": [
      "2018-01-21 21:08:56,595 INFO sqlalchemy.engine.base.Engine INSERT INTO main (sim_id, mediawiki, path, sim_type, updated_on) VALUES (?, ?, ?, ?, ?)\n"
     ]
    },
    {
     "name": "stdout",
     "output_type": "stream",
     "text": [
      "2018-01-21 21:08:56,598 INFO sqlalchemy.engine.base.Engine ('MK0090', 'MK0090', None, 'LAMMPS', '2018-01-21 21:08:56.595000')\n"
     ]
    },
    {
     "name": "stdout",
     "output_type": "stream",
     "text": [
      "2018-01-21 21:08:56,599 INFO sqlalchemy.engine.base.Engine INSERT INTO main (sim_id, mediawiki, path, sim_type, updated_on) VALUES (?, ?, ?, ?, ?)\n"
     ]
    },
    {
     "name": "stdout",
     "output_type": "stream",
     "text": [
      "2018-01-21 21:08:56,601 INFO sqlalchemy.engine.base.Engine ('MK0091', 'MK0091', None, '', '2018-01-21 21:08:56.600000')\n"
     ]
    },
    {
     "name": "stdout",
     "output_type": "stream",
     "text": [
      "2018-01-21 21:08:56,604 INFO sqlalchemy.engine.base.Engine INSERT INTO main (sim_id, mediawiki, path, sim_type, updated_on) VALUES (?, ?, ?, ?, ?)\n"
     ]
    },
    {
     "name": "stdout",
     "output_type": "stream",
     "text": [
      "2018-01-21 21:08:56,605 INFO sqlalchemy.engine.base.Engine ('MK0092', 'MK0092', None, '', '2018-01-21 21:08:56.604000')\n"
     ]
    },
    {
     "name": "stdout",
     "output_type": "stream",
     "text": [
      "2018-01-21 21:08:56,605 INFO sqlalchemy.engine.base.Engine INSERT INTO main (sim_id, mediawiki, path, sim_type, updated_on) VALUES (?, ?, ?, ?, ?)\n"
     ]
    },
    {
     "name": "stdout",
     "output_type": "stream",
     "text": [
      "2018-01-21 21:08:56,607 INFO sqlalchemy.engine.base.Engine ('MK0093', 'MK0093', None, 'PYTHON', '2018-01-21 21:08:56.606000')\n"
     ]
    },
    {
     "name": "stdout",
     "output_type": "stream",
     "text": [
      "2018-01-21 21:08:56,608 INFO sqlalchemy.engine.base.Engine INSERT INTO main (sim_id, mediawiki, path, sim_type, updated_on) VALUES (?, ?, ?, ?, ?)\n"
     ]
    },
    {
     "name": "stdout",
     "output_type": "stream",
     "text": [
      "2018-01-21 21:08:56,609 INFO sqlalchemy.engine.base.Engine ('MK0094', 'MK0094', None, 'PYTHON', '2018-01-21 21:08:56.609000')\n"
     ]
    },
    {
     "name": "stdout",
     "output_type": "stream",
     "text": [
      "2018-01-21 21:08:56,611 INFO sqlalchemy.engine.base.Engine INSERT INTO main (sim_id, mediawiki, path, sim_type, updated_on) VALUES (?, ?, ?, ?, ?)\n"
     ]
    },
    {
     "name": "stdout",
     "output_type": "stream",
     "text": [
      "2018-01-21 21:08:56,612 INFO sqlalchemy.engine.base.Engine ('MK0095', 'MK0095', None, 'PYTHON', '2018-01-21 21:08:56.611000')\n"
     ]
    },
    {
     "name": "stdout",
     "output_type": "stream",
     "text": [
      "2018-01-21 21:08:56,615 INFO sqlalchemy.engine.base.Engine INSERT INTO main (sim_id, mediawiki, path, sim_type, updated_on) VALUES (?, ?, ?, ?, ?)\n"
     ]
    },
    {
     "name": "stdout",
     "output_type": "stream",
     "text": [
      "2018-01-21 21:08:56,615 INFO sqlalchemy.engine.base.Engine ('MK0096', 'MK0096', None, 'GROMACS', '2018-01-21 21:08:56.615000')\n"
     ]
    },
    {
     "name": "stdout",
     "output_type": "stream",
     "text": [
      "2018-01-21 21:08:56,617 INFO sqlalchemy.engine.base.Engine INSERT INTO main (sim_id, mediawiki, path, sim_type, updated_on) VALUES (?, ?, ?, ?, ?)\n"
     ]
    },
    {
     "name": "stdout",
     "output_type": "stream",
     "text": [
      "2018-01-21 21:08:56,618 INFO sqlalchemy.engine.base.Engine ('MK0097', 'MK0097', None, 'PYTHON', '2018-01-21 21:08:56.617000')\n"
     ]
    },
    {
     "name": "stdout",
     "output_type": "stream",
     "text": [
      "2018-01-21 21:08:56,618 INFO sqlalchemy.engine.base.Engine INSERT INTO main (sim_id, mediawiki, path, sim_type, updated_on) VALUES (?, ?, ?, ?, ?)\n"
     ]
    },
    {
     "name": "stdout",
     "output_type": "stream",
     "text": [
      "2018-01-21 21:08:56,621 INFO sqlalchemy.engine.base.Engine ('MK0098', 'MK0098', None, 'GROMACS', '2018-01-21 21:08:56.619000')\n"
     ]
    },
    {
     "name": "stdout",
     "output_type": "stream",
     "text": [
      "2018-01-21 21:08:56,625 INFO sqlalchemy.engine.base.Engine INSERT INTO main (sim_id, mediawiki, path, sim_type, updated_on) VALUES (?, ?, ?, ?, ?)\n"
     ]
    },
    {
     "name": "stdout",
     "output_type": "stream",
     "text": [
      "2018-01-21 21:08:56,625 INFO sqlalchemy.engine.base.Engine ('MK0099', 'MK0099', None, 'GROMACS', '2018-01-21 21:08:56.625000')\n"
     ]
    },
    {
     "name": "stdout",
     "output_type": "stream",
     "text": [
      "2018-01-21 21:08:56,631 INFO sqlalchemy.engine.base.Engine INSERT INTO main (sim_id, mediawiki, path, sim_type, updated_on) VALUES (?, ?, ?, ?, ?)\n"
     ]
    },
    {
     "name": "stdout",
     "output_type": "stream",
     "text": [
      "2018-01-21 21:08:56,632 INFO sqlalchemy.engine.base.Engine ('MK0100', 'MK0100', None, 'PYTHON', '2018-01-21 21:08:56.632000')\n"
     ]
    },
    {
     "name": "stdout",
     "output_type": "stream",
     "text": [
      "2018-01-21 21:08:56,651 INFO sqlalchemy.engine.base.Engine INSERT INTO keywords (main_id, name, value) VALUES (?, ?, ?)\n"
     ]
    },
    {
     "name": "stdout",
     "output_type": "stream",
     "text": [
      "2018-01-21 21:08:56,654 INFO sqlalchemy.engine.base.Engine (2, 'dna', None)\n"
     ]
    },
    {
     "name": "stdout",
     "output_type": "stream",
     "text": [
      "2018-01-21 21:08:56,655 INFO sqlalchemy.engine.base.Engine INSERT INTO keywords (main_id, name, value) VALUES (?, ?, ?)\n"
     ]
    },
    {
     "name": "stdout",
     "output_type": "stream",
     "text": [
      "2018-01-21 21:08:56,664 INFO sqlalchemy.engine.base.Engine (2, 'concentration', '1')\n"
     ]
    },
    {
     "name": "stdout",
     "output_type": "stream",
     "text": [
      "2018-01-21 21:08:56,670 INFO sqlalchemy.engine.base.Engine INSERT INTO keywords (main_id, name, value) VALUES (?, ?, ?)\n"
     ]
    },
    {
     "name": "stdout",
     "output_type": "stream",
     "text": [
      "2018-01-21 21:08:56,673 INFO sqlalchemy.engine.base.Engine (2, 'linker', 'a')\n"
     ]
    },
    {
     "name": "stdout",
     "output_type": "stream",
     "text": [
      "2018-01-21 21:08:56,676 INFO sqlalchemy.engine.base.Engine INSERT INTO keywords (main_id, name, value) VALUES (?, ?, ?)\n"
     ]
    },
    {
     "name": "stdout",
     "output_type": "stream",
     "text": [
      "2018-01-21 21:08:56,677 INFO sqlalchemy.engine.base.Engine (2, 'pic', None)\n"
     ]
    },
    {
     "name": "stdout",
     "output_type": "stream",
     "text": [
      "2018-01-21 21:08:56,680 INFO sqlalchemy.engine.base.Engine INSERT INTO keywords (main_id, name, value) VALUES (?, ?, ?)\n"
     ]
    },
    {
     "name": "stdout",
     "output_type": "stream",
     "text": [
      "2018-01-21 21:08:56,684 INFO sqlalchemy.engine.base.Engine (3, 'rna', None)\n"
     ]
    },
    {
     "name": "stdout",
     "output_type": "stream",
     "text": [
      "2018-01-21 21:08:56,684 INFO sqlalchemy.engine.base.Engine INSERT INTO keywords (main_id, name, value) VALUES (?, ?, ?)\n"
     ]
    },
    {
     "name": "stdout",
     "output_type": "stream",
     "text": [
      "2018-01-21 21:08:56,687 INFO sqlalchemy.engine.base.Engine (3, 'important', None)\n"
     ]
    },
    {
     "name": "stdout",
     "output_type": "stream",
     "text": [
      "2018-01-21 21:08:56,690 INFO sqlalchemy.engine.base.Engine INSERT INTO keywords (main_id, name, value) VALUES (?, ?, ?)\n"
     ]
    },
    {
     "name": "stdout",
     "output_type": "stream",
     "text": [
      "2018-01-21 21:08:56,691 INFO sqlalchemy.engine.base.Engine (3, 'dna', None)\n"
     ]
    },
    {
     "name": "stdout",
     "output_type": "stream",
     "text": [
      "2018-01-21 21:08:56,698 INFO sqlalchemy.engine.base.Engine INSERT INTO keywords (main_id, name, value) VALUES (?, ?, ?)\n"
     ]
    },
    {
     "name": "stdout",
     "output_type": "stream",
     "text": [
      "2018-01-21 21:08:56,700 INFO sqlalchemy.engine.base.Engine (4, 'abc', None)\n"
     ]
    },
    {
     "name": "stdout",
     "output_type": "stream",
     "text": [
      "2018-01-21 21:08:56,701 INFO sqlalchemy.engine.base.Engine INSERT INTO keywords (main_id, name, value) VALUES (?, ?, ?)\n"
     ]
    },
    {
     "name": "stdout",
     "output_type": "stream",
     "text": [
      "2018-01-21 21:08:56,703 INFO sqlalchemy.engine.base.Engine (5, 'surfactants', None)\n"
     ]
    },
    {
     "name": "stdout",
     "output_type": "stream",
     "text": [
      "2018-01-21 21:08:56,707 INFO sqlalchemy.engine.base.Engine INSERT INTO keywords (main_id, name, value) VALUES (?, ?, ?)\n"
     ]
    },
    {
     "name": "stdout",
     "output_type": "stream",
     "text": [
      "2018-01-21 21:08:56,709 INFO sqlalchemy.engine.base.Engine (5, 'pH', '8')\n"
     ]
    },
    {
     "name": "stdout",
     "output_type": "stream",
     "text": [
      "2018-01-21 21:08:56,710 INFO sqlalchemy.engine.base.Engine INSERT INTO keywords (main_id, name, value) VALUES (?, ?, ?)\n"
     ]
    },
    {
     "name": "stdout",
     "output_type": "stream",
     "text": [
      "2018-01-21 21:08:56,711 INFO sqlalchemy.engine.base.Engine (5, 'linker', 'd')\n"
     ]
    },
    {
     "name": "stdout",
     "output_type": "stream",
     "text": [
      "2018-01-21 21:08:56,713 INFO sqlalchemy.engine.base.Engine INSERT INTO keywords (main_id, name, value) VALUES (?, ?, ?)\n"
     ]
    },
    {
     "name": "stdout",
     "output_type": "stream",
     "text": [
      "2018-01-21 21:08:56,714 INFO sqlalchemy.engine.base.Engine (5, 'Temp', '500')\n"
     ]
    },
    {
     "name": "stdout",
     "output_type": "stream",
     "text": [
      "2018-01-21 21:08:56,716 INFO sqlalchemy.engine.base.Engine INSERT INTO keywords (main_id, name, value) VALUES (?, ?, ?)\n"
     ]
    },
    {
     "name": "stdout",
     "output_type": "stream",
     "text": [
      "2018-01-21 21:08:56,717 INFO sqlalchemy.engine.base.Engine (6, 'surfactants', None)\n"
     ]
    },
    {
     "name": "stdout",
     "output_type": "stream",
     "text": [
      "2018-01-21 21:08:56,720 INFO sqlalchemy.engine.base.Engine INSERT INTO keywords (main_id, name, value) VALUES (?, ?, ?)\n"
     ]
    },
    {
     "name": "stdout",
     "output_type": "stream",
     "text": [
      "2018-01-21 21:08:56,720 INFO sqlalchemy.engine.base.Engine (6, 'pic', None)\n"
     ]
    },
    {
     "name": "stdout",
     "output_type": "stream",
     "text": [
      "2018-01-21 21:08:56,723 INFO sqlalchemy.engine.base.Engine INSERT INTO keywords (main_id, name, value) VALUES (?, ?, ?)\n"
     ]
    },
    {
     "name": "stdout",
     "output_type": "stream",
     "text": [
      "2018-01-21 21:08:56,724 INFO sqlalchemy.engine.base.Engine (6, 'dna', None)\n"
     ]
    },
    {
     "name": "stdout",
     "output_type": "stream",
     "text": [
      "2018-01-21 21:08:56,733 INFO sqlalchemy.engine.base.Engine INSERT INTO keywords (main_id, name, value) VALUES (?, ?, ?)\n"
     ]
    },
    {
     "name": "stdout",
     "output_type": "stream",
     "text": [
      "2018-01-21 21:08:56,734 INFO sqlalchemy.engine.base.Engine (6, 'ubi', None)\n"
     ]
    },
    {
     "name": "stdout",
     "output_type": "stream",
     "text": [
      "2018-01-21 21:08:56,736 INFO sqlalchemy.engine.base.Engine INSERT INTO keywords (main_id, name, value) VALUES (?, ?, ?)\n"
     ]
    },
    {
     "name": "stdout",
     "output_type": "stream",
     "text": [
      "2018-01-21 21:08:56,736 INFO sqlalchemy.engine.base.Engine (7, 'pic', None)\n"
     ]
    },
    {
     "name": "stdout",
     "output_type": "stream",
     "text": [
      "2018-01-21 21:08:56,737 INFO sqlalchemy.engine.base.Engine INSERT INTO keywords (main_id, name, value) VALUES (?, ?, ?)\n"
     ]
    },
    {
     "name": "stdout",
     "output_type": "stream",
     "text": [
      "2018-01-21 21:08:56,740 INFO sqlalchemy.engine.base.Engine (7, 'caco3', None)\n"
     ]
    },
    {
     "name": "stdout",
     "output_type": "stream",
     "text": [
      "2018-01-21 21:08:56,742 INFO sqlalchemy.engine.base.Engine INSERT INTO keywords (main_id, name, value) VALUES (?, ?, ?)\n"
     ]
    },
    {
     "name": "stdout",
     "output_type": "stream",
     "text": [
      "2018-01-21 21:08:56,743 INFO sqlalchemy.engine.base.Engine (8, 'pH', '8')\n"
     ]
    },
    {
     "name": "stdout",
     "output_type": "stream",
     "text": [
      "2018-01-21 21:08:56,744 INFO sqlalchemy.engine.base.Engine INSERT INTO keywords (main_id, name, value) VALUES (?, ?, ?)\n"
     ]
    },
    {
     "name": "stdout",
     "output_type": "stream",
     "text": [
      "2018-01-21 21:08:56,746 INFO sqlalchemy.engine.base.Engine (8, 'abc', None)\n"
     ]
    },
    {
     "name": "stdout",
     "output_type": "stream",
     "text": [
      "2018-01-21 21:08:56,749 INFO sqlalchemy.engine.base.Engine INSERT INTO keywords (main_id, name, value) VALUES (?, ?, ?)\n"
     ]
    },
    {
     "name": "stdout",
     "output_type": "stream",
     "text": [
      "2018-01-21 21:08:56,750 INFO sqlalchemy.engine.base.Engine (9, 'surfactants', None)\n"
     ]
    },
    {
     "name": "stdout",
     "output_type": "stream",
     "text": [
      "2018-01-21 21:08:56,755 INFO sqlalchemy.engine.base.Engine INSERT INTO keywords (main_id, name, value) VALUES (?, ?, ?)\n"
     ]
    },
    {
     "name": "stdout",
     "output_type": "stream",
     "text": [
      "2018-01-21 21:08:56,756 INFO sqlalchemy.engine.base.Engine (9, 'dna', None)\n"
     ]
    },
    {
     "name": "stdout",
     "output_type": "stream",
     "text": [
      "2018-01-21 21:08:56,760 INFO sqlalchemy.engine.base.Engine INSERT INTO keywords (main_id, name, value) VALUES (?, ?, ?)\n"
     ]
    },
    {
     "name": "stdout",
     "output_type": "stream",
     "text": [
      "2018-01-21 21:08:56,763 INFO sqlalchemy.engine.base.Engine (10, 'concentration', '1')\n"
     ]
    },
    {
     "name": "stdout",
     "output_type": "stream",
     "text": [
      "2018-01-21 21:08:56,763 INFO sqlalchemy.engine.base.Engine INSERT INTO keywords (main_id, name, value) VALUES (?, ?, ?)\n"
     ]
    },
    {
     "name": "stdout",
     "output_type": "stream",
     "text": [
      "2018-01-21 21:08:56,766 INFO sqlalchemy.engine.base.Engine (10, 'linker', 'd')\n"
     ]
    },
    {
     "name": "stdout",
     "output_type": "stream",
     "text": [
      "2018-01-21 21:08:56,766 INFO sqlalchemy.engine.base.Engine INSERT INTO keywords (main_id, name, value) VALUES (?, ?, ?)\n"
     ]
    },
    {
     "name": "stdout",
     "output_type": "stream",
     "text": [
      "2018-01-21 21:08:56,767 INFO sqlalchemy.engine.base.Engine (10, 'important', None)\n"
     ]
    },
    {
     "name": "stdout",
     "output_type": "stream",
     "text": [
      "2018-01-21 21:08:56,770 INFO sqlalchemy.engine.base.Engine INSERT INTO keywords (main_id, name, value) VALUES (?, ?, ?)\n"
     ]
    },
    {
     "name": "stdout",
     "output_type": "stream",
     "text": [
      "2018-01-21 21:08:56,773 INFO sqlalchemy.engine.base.Engine (11, 'linker', 'b')\n"
     ]
    },
    {
     "name": "stdout",
     "output_type": "stream",
     "text": [
      "2018-01-21 21:08:56,776 INFO sqlalchemy.engine.base.Engine INSERT INTO keywords (main_id, name, value) VALUES (?, ?, ?)\n"
     ]
    },
    {
     "name": "stdout",
     "output_type": "stream",
     "text": [
      "2018-01-21 21:08:56,776 INFO sqlalchemy.engine.base.Engine (11, 'abc', None)\n"
     ]
    },
    {
     "name": "stdout",
     "output_type": "stream",
     "text": [
      "2018-01-21 21:08:56,778 INFO sqlalchemy.engine.base.Engine INSERT INTO keywords (main_id, name, value) VALUES (?, ?, ?)\n"
     ]
    },
    {
     "name": "stdout",
     "output_type": "stream",
     "text": [
      "2018-01-21 21:08:56,779 INFO sqlalchemy.engine.base.Engine (11, 'ubi', None)\n"
     ]
    },
    {
     "name": "stdout",
     "output_type": "stream",
     "text": [
      "2018-01-21 21:08:56,780 INFO sqlalchemy.engine.base.Engine INSERT INTO keywords (main_id, name, value) VALUES (?, ?, ?)\n"
     ]
    },
    {
     "name": "stdout",
     "output_type": "stream",
     "text": [
      "2018-01-21 21:08:56,785 INFO sqlalchemy.engine.base.Engine (12, 'linker', 'd')\n"
     ]
    },
    {
     "name": "stdout",
     "output_type": "stream",
     "text": [
      "2018-01-21 21:08:56,786 INFO sqlalchemy.engine.base.Engine INSERT INTO keywords (main_id, name, value) VALUES (?, ?, ?)\n"
     ]
    },
    {
     "name": "stdout",
     "output_type": "stream",
     "text": [
      "2018-01-21 21:08:56,786 INFO sqlalchemy.engine.base.Engine (13, 'pH', '9')\n"
     ]
    },
    {
     "name": "stdout",
     "output_type": "stream",
     "text": [
      "2018-01-21 21:08:56,788 INFO sqlalchemy.engine.base.Engine INSERT INTO keywords (main_id, name, value) VALUES (?, ?, ?)\n"
     ]
    },
    {
     "name": "stdout",
     "output_type": "stream",
     "text": [
      "2018-01-21 21:08:56,789 INFO sqlalchemy.engine.base.Engine (13, 'linker', 'a')\n"
     ]
    },
    {
     "name": "stdout",
     "output_type": "stream",
     "text": [
      "2018-01-21 21:08:56,790 INFO sqlalchemy.engine.base.Engine INSERT INTO keywords (main_id, name, value) VALUES (?, ?, ?)\n"
     ]
    },
    {
     "name": "stdout",
     "output_type": "stream",
     "text": [
      "2018-01-21 21:08:56,792 INFO sqlalchemy.engine.base.Engine (13, 'abc', None)\n"
     ]
    },
    {
     "name": "stdout",
     "output_type": "stream",
     "text": [
      "2018-01-21 21:08:56,801 INFO sqlalchemy.engine.base.Engine INSERT INTO keywords (main_id, name, value) VALUES (?, ?, ?)\n"
     ]
    },
    {
     "name": "stdout",
     "output_type": "stream",
     "text": [
      "2018-01-21 21:08:56,806 INFO sqlalchemy.engine.base.Engine (13, 'Temp', '300')\n"
     ]
    },
    {
     "name": "stdout",
     "output_type": "stream",
     "text": [
      "2018-01-21 21:08:56,809 INFO sqlalchemy.engine.base.Engine INSERT INTO keywords (main_id, name, value) VALUES (?, ?, ?)\n"
     ]
    },
    {
     "name": "stdout",
     "output_type": "stream",
     "text": [
      "2018-01-21 21:08:56,813 INFO sqlalchemy.engine.base.Engine (14, 'pH', '7')\n"
     ]
    },
    {
     "name": "stdout",
     "output_type": "stream",
     "text": [
      "2018-01-21 21:08:56,815 INFO sqlalchemy.engine.base.Engine INSERT INTO keywords (main_id, name, value) VALUES (?, ?, ?)\n"
     ]
    },
    {
     "name": "stdout",
     "output_type": "stream",
     "text": [
      "2018-01-21 21:08:56,818 INFO sqlalchemy.engine.base.Engine (14, 'dna', None)\n"
     ]
    },
    {
     "name": "stdout",
     "output_type": "stream",
     "text": [
      "2018-01-21 21:08:56,819 INFO sqlalchemy.engine.base.Engine INSERT INTO keywords (main_id, name, value) VALUES (?, ?, ?)\n"
     ]
    },
    {
     "name": "stdout",
     "output_type": "stream",
     "text": [
      "2018-01-21 21:08:56,822 INFO sqlalchemy.engine.base.Engine (14, 'concentration', '1')\n"
     ]
    },
    {
     "name": "stdout",
     "output_type": "stream",
     "text": [
      "2018-01-21 21:08:56,822 INFO sqlalchemy.engine.base.Engine INSERT INTO keywords (main_id, name, value) VALUES (?, ?, ?)\n"
     ]
    },
    {
     "name": "stdout",
     "output_type": "stream",
     "text": [
      "2018-01-21 21:08:56,831 INFO sqlalchemy.engine.base.Engine (14, 'Temp', '300')\n"
     ]
    },
    {
     "name": "stdout",
     "output_type": "stream",
     "text": [
      "2018-01-21 21:08:56,834 INFO sqlalchemy.engine.base.Engine INSERT INTO keywords (main_id, name, value) VALUES (?, ?, ?)\n"
     ]
    },
    {
     "name": "stdout",
     "output_type": "stream",
     "text": [
      "2018-01-21 21:08:56,835 INFO sqlalchemy.engine.base.Engine (15, 'pH', '7')\n"
     ]
    },
    {
     "name": "stdout",
     "output_type": "stream",
     "text": [
      "2018-01-21 21:08:56,838 INFO sqlalchemy.engine.base.Engine INSERT INTO keywords (main_id, name, value) VALUES (?, ?, ?)\n"
     ]
    },
    {
     "name": "stdout",
     "output_type": "stream",
     "text": [
      "2018-01-21 21:08:56,838 INFO sqlalchemy.engine.base.Engine (15, 'concentration', '1')\n"
     ]
    },
    {
     "name": "stdout",
     "output_type": "stream",
     "text": [
      "2018-01-21 21:08:56,842 INFO sqlalchemy.engine.base.Engine INSERT INTO keywords (main_id, name, value) VALUES (?, ?, ?)\n"
     ]
    },
    {
     "name": "stdout",
     "output_type": "stream",
     "text": [
      "2018-01-21 21:08:56,844 INFO sqlalchemy.engine.base.Engine (16, 'pH', '9')\n"
     ]
    },
    {
     "name": "stdout",
     "output_type": "stream",
     "text": [
      "2018-01-21 21:08:56,846 INFO sqlalchemy.engine.base.Engine INSERT INTO keywords (main_id, name, value) VALUES (?, ?, ?)\n"
     ]
    },
    {
     "name": "stdout",
     "output_type": "stream",
     "text": [
      "2018-01-21 21:08:56,852 INFO sqlalchemy.engine.base.Engine (16, 'linker', 'c')\n"
     ]
    },
    {
     "name": "stdout",
     "output_type": "stream",
     "text": [
      "2018-01-21 21:08:56,857 INFO sqlalchemy.engine.base.Engine INSERT INTO keywords (main_id, name, value) VALUES (?, ?, ?)\n"
     ]
    },
    {
     "name": "stdout",
     "output_type": "stream",
     "text": [
      "2018-01-21 21:08:56,858 INFO sqlalchemy.engine.base.Engine (16, 'important', None)\n"
     ]
    },
    {
     "name": "stdout",
     "output_type": "stream",
     "text": [
      "2018-01-21 21:08:56,861 INFO sqlalchemy.engine.base.Engine INSERT INTO keywords (main_id, name, value) VALUES (?, ?, ?)\n"
     ]
    },
    {
     "name": "stdout",
     "output_type": "stream",
     "text": [
      "2018-01-21 21:08:56,865 INFO sqlalchemy.engine.base.Engine (18, 'linker', 'b')\n"
     ]
    },
    {
     "name": "stdout",
     "output_type": "stream",
     "text": [
      "2018-01-21 21:08:56,868 INFO sqlalchemy.engine.base.Engine INSERT INTO keywords (main_id, name, value) VALUES (?, ?, ?)\n"
     ]
    },
    {
     "name": "stdout",
     "output_type": "stream",
     "text": [
      "2018-01-21 21:08:56,871 INFO sqlalchemy.engine.base.Engine (18, 'ubi', None)\n"
     ]
    },
    {
     "name": "stdout",
     "output_type": "stream",
     "text": [
      "2018-01-21 21:08:56,874 INFO sqlalchemy.engine.base.Engine INSERT INTO keywords (main_id, name, value) VALUES (?, ?, ?)\n"
     ]
    },
    {
     "name": "stdout",
     "output_type": "stream",
     "text": [
      "2018-01-21 21:08:56,878 INFO sqlalchemy.engine.base.Engine (18, 'Temp', '500')\n"
     ]
    },
    {
     "name": "stdout",
     "output_type": "stream",
     "text": [
      "2018-01-21 21:08:56,878 INFO sqlalchemy.engine.base.Engine INSERT INTO keywords (main_id, name, value) VALUES (?, ?, ?)\n"
     ]
    },
    {
     "name": "stdout",
     "output_type": "stream",
     "text": [
      "2018-01-21 21:08:56,881 INFO sqlalchemy.engine.base.Engine (19, 'dna', None)\n"
     ]
    },
    {
     "name": "stdout",
     "output_type": "stream",
     "text": [
      "2018-01-21 21:08:56,882 INFO sqlalchemy.engine.base.Engine INSERT INTO keywords (main_id, name, value) VALUES (?, ?, ?)\n"
     ]
    },
    {
     "name": "stdout",
     "output_type": "stream",
     "text": [
      "2018-01-21 21:08:56,884 INFO sqlalchemy.engine.base.Engine (19, 'rna', None)\n"
     ]
    },
    {
     "name": "stdout",
     "output_type": "stream",
     "text": [
      "2018-01-21 21:08:56,885 INFO sqlalchemy.engine.base.Engine INSERT INTO keywords (main_id, name, value) VALUES (?, ?, ?)\n"
     ]
    },
    {
     "name": "stdout",
     "output_type": "stream",
     "text": [
      "2018-01-21 21:08:56,888 INFO sqlalchemy.engine.base.Engine (19, 'linker', 'b')\n"
     ]
    },
    {
     "name": "stdout",
     "output_type": "stream",
     "text": [
      "2018-01-21 21:08:56,888 INFO sqlalchemy.engine.base.Engine INSERT INTO keywords (main_id, name, value) VALUES (?, ?, ?)\n"
     ]
    },
    {
     "name": "stdout",
     "output_type": "stream",
     "text": [
      "2018-01-21 21:08:56,891 INFO sqlalchemy.engine.base.Engine (19, 'pic', None)\n"
     ]
    },
    {
     "name": "stdout",
     "output_type": "stream",
     "text": [
      "2018-01-21 21:08:56,892 INFO sqlalchemy.engine.base.Engine INSERT INTO keywords (main_id, name, value) VALUES (?, ?, ?)\n"
     ]
    },
    {
     "name": "stdout",
     "output_type": "stream",
     "text": [
      "2018-01-21 21:08:56,894 INFO sqlalchemy.engine.base.Engine (19, 'Temp', '500')\n"
     ]
    },
    {
     "name": "stdout",
     "output_type": "stream",
     "text": [
      "2018-01-21 21:08:56,895 INFO sqlalchemy.engine.base.Engine INSERT INTO keywords (main_id, name, value) VALUES (?, ?, ?)\n"
     ]
    },
    {
     "name": "stdout",
     "output_type": "stream",
     "text": [
      "2018-01-21 21:08:56,898 INFO sqlalchemy.engine.base.Engine (20, 'rna', None)\n"
     ]
    },
    {
     "name": "stdout",
     "output_type": "stream",
     "text": [
      "2018-01-21 21:08:56,898 INFO sqlalchemy.engine.base.Engine INSERT INTO keywords (main_id, name, value) VALUES (?, ?, ?)\n"
     ]
    },
    {
     "name": "stdout",
     "output_type": "stream",
     "text": [
      "2018-01-21 21:08:56,901 INFO sqlalchemy.engine.base.Engine (20, 'Temp', '500')\n"
     ]
    },
    {
     "name": "stdout",
     "output_type": "stream",
     "text": [
      "2018-01-21 21:08:56,901 INFO sqlalchemy.engine.base.Engine INSERT INTO keywords (main_id, name, value) VALUES (?, ?, ?)\n"
     ]
    },
    {
     "name": "stdout",
     "output_type": "stream",
     "text": [
      "2018-01-21 21:08:56,904 INFO sqlalchemy.engine.base.Engine (21, 'caco3', None)\n"
     ]
    },
    {
     "name": "stdout",
     "output_type": "stream",
     "text": [
      "2018-01-21 21:08:56,904 INFO sqlalchemy.engine.base.Engine INSERT INTO keywords (main_id, name, value) VALUES (?, ?, ?)\n"
     ]
    },
    {
     "name": "stdout",
     "output_type": "stream",
     "text": [
      "2018-01-21 21:08:56,905 INFO sqlalchemy.engine.base.Engine (21, 'pH', '8')\n"
     ]
    },
    {
     "name": "stdout",
     "output_type": "stream",
     "text": [
      "2018-01-21 21:08:56,908 INFO sqlalchemy.engine.base.Engine INSERT INTO keywords (main_id, name, value) VALUES (?, ?, ?)\n"
     ]
    },
    {
     "name": "stdout",
     "output_type": "stream",
     "text": [
      "2018-01-21 21:08:56,914 INFO sqlalchemy.engine.base.Engine (21, 'abc', None)\n"
     ]
    },
    {
     "name": "stdout",
     "output_type": "stream",
     "text": [
      "2018-01-21 21:08:56,917 INFO sqlalchemy.engine.base.Engine INSERT INTO keywords (main_id, name, value) VALUES (?, ?, ?)\n"
     ]
    },
    {
     "name": "stdout",
     "output_type": "stream",
     "text": [
      "2018-01-21 21:08:56,921 INFO sqlalchemy.engine.base.Engine (21, 'dna', None)\n"
     ]
    },
    {
     "name": "stdout",
     "output_type": "stream",
     "text": [
      "2018-01-21 21:08:56,921 INFO sqlalchemy.engine.base.Engine INSERT INTO keywords (main_id, name, value) VALUES (?, ?, ?)\n"
     ]
    },
    {
     "name": "stdout",
     "output_type": "stream",
     "text": [
      "2018-01-21 21:08:56,923 INFO sqlalchemy.engine.base.Engine (21, 'Temp', '500')\n"
     ]
    },
    {
     "name": "stdout",
     "output_type": "stream",
     "text": [
      "2018-01-21 21:08:56,924 INFO sqlalchemy.engine.base.Engine INSERT INTO keywords (main_id, name, value) VALUES (?, ?, ?)\n"
     ]
    },
    {
     "name": "stdout",
     "output_type": "stream",
     "text": [
      "2018-01-21 21:08:56,926 INFO sqlalchemy.engine.base.Engine (22, 'surfactants', None)\n"
     ]
    },
    {
     "name": "stdout",
     "output_type": "stream",
     "text": [
      "2018-01-21 21:08:56,927 INFO sqlalchemy.engine.base.Engine INSERT INTO keywords (main_id, name, value) VALUES (?, ?, ?)\n"
     ]
    },
    {
     "name": "stdout",
     "output_type": "stream",
     "text": [
      "2018-01-21 21:08:56,928 INFO sqlalchemy.engine.base.Engine (22, 'abc', None)\n"
     ]
    },
    {
     "name": "stdout",
     "output_type": "stream",
     "text": [
      "2018-01-21 21:08:56,931 INFO sqlalchemy.engine.base.Engine INSERT INTO keywords (main_id, name, value) VALUES (?, ?, ?)\n"
     ]
    },
    {
     "name": "stdout",
     "output_type": "stream",
     "text": [
      "2018-01-21 21:08:56,934 INFO sqlalchemy.engine.base.Engine (22, 'pic', None)\n"
     ]
    },
    {
     "name": "stdout",
     "output_type": "stream",
     "text": [
      "2018-01-21 21:08:56,937 INFO sqlalchemy.engine.base.Engine INSERT INTO keywords (main_id, name, value) VALUES (?, ?, ?)\n"
     ]
    },
    {
     "name": "stdout",
     "output_type": "stream",
     "text": [
      "2018-01-21 21:08:56,938 INFO sqlalchemy.engine.base.Engine (23, 'pH', '7')\n"
     ]
    },
    {
     "name": "stdout",
     "output_type": "stream",
     "text": [
      "2018-01-21 21:08:56,940 INFO sqlalchemy.engine.base.Engine INSERT INTO keywords (main_id, name, value) VALUES (?, ?, ?)\n"
     ]
    },
    {
     "name": "stdout",
     "output_type": "stream",
     "text": [
      "2018-01-21 21:08:56,941 INFO sqlalchemy.engine.base.Engine (23, 'linker', 'b')\n"
     ]
    },
    {
     "name": "stdout",
     "output_type": "stream",
     "text": [
      "2018-01-21 21:08:56,944 INFO sqlalchemy.engine.base.Engine INSERT INTO keywords (main_id, name, value) VALUES (?, ?, ?)\n"
     ]
    },
    {
     "name": "stdout",
     "output_type": "stream",
     "text": [
      "2018-01-21 21:08:56,946 INFO sqlalchemy.engine.base.Engine (23, 'Temp', '300')\n"
     ]
    },
    {
     "name": "stdout",
     "output_type": "stream",
     "text": [
      "2018-01-21 21:08:56,948 INFO sqlalchemy.engine.base.Engine INSERT INTO keywords (main_id, name, value) VALUES (?, ?, ?)\n"
     ]
    },
    {
     "name": "stdout",
     "output_type": "stream",
     "text": [
      "2018-01-21 21:08:56,950 INFO sqlalchemy.engine.base.Engine (24, 'pH', '8')\n"
     ]
    },
    {
     "name": "stdout",
     "output_type": "stream",
     "text": [
      "2018-01-21 21:08:56,953 INFO sqlalchemy.engine.base.Engine INSERT INTO keywords (main_id, name, value) VALUES (?, ?, ?)\n"
     ]
    },
    {
     "name": "stdout",
     "output_type": "stream",
     "text": [
      "2018-01-21 21:08:56,954 INFO sqlalchemy.engine.base.Engine (25, 'linker', 'c')\n"
     ]
    },
    {
     "name": "stdout",
     "output_type": "stream",
     "text": [
      "2018-01-21 21:08:56,957 INFO sqlalchemy.engine.base.Engine INSERT INTO keywords (main_id, name, value) VALUES (?, ?, ?)\n"
     ]
    },
    {
     "name": "stdout",
     "output_type": "stream",
     "text": [
      "2018-01-21 21:08:56,957 INFO sqlalchemy.engine.base.Engine (26, 'surfactants', None)\n"
     ]
    },
    {
     "name": "stdout",
     "output_type": "stream",
     "text": [
      "2018-01-21 21:08:56,960 INFO sqlalchemy.engine.base.Engine INSERT INTO keywords (main_id, name, value) VALUES (?, ?, ?)\n"
     ]
    },
    {
     "name": "stdout",
     "output_type": "stream",
     "text": [
      "2018-01-21 21:08:56,961 INFO sqlalchemy.engine.base.Engine (26, 'concentration', '1')\n"
     ]
    },
    {
     "name": "stdout",
     "output_type": "stream",
     "text": [
      "2018-01-21 21:08:56,969 INFO sqlalchemy.engine.base.Engine INSERT INTO keywords (main_id, name, value) VALUES (?, ?, ?)\n"
     ]
    },
    {
     "name": "stdout",
     "output_type": "stream",
     "text": [
      "2018-01-21 21:08:56,970 INFO sqlalchemy.engine.base.Engine (26, 'important', None)\n"
     ]
    },
    {
     "name": "stdout",
     "output_type": "stream",
     "text": [
      "2018-01-21 21:08:56,971 INFO sqlalchemy.engine.base.Engine INSERT INTO keywords (main_id, name, value) VALUES (?, ?, ?)\n"
     ]
    },
    {
     "name": "stdout",
     "output_type": "stream",
     "text": [
      "2018-01-21 21:08:56,973 INFO sqlalchemy.engine.base.Engine (27, 'surfactants', None)\n"
     ]
    },
    {
     "name": "stdout",
     "output_type": "stream",
     "text": [
      "2018-01-21 21:08:56,974 INFO sqlalchemy.engine.base.Engine INSERT INTO keywords (main_id, name, value) VALUES (?, ?, ?)\n"
     ]
    },
    {
     "name": "stdout",
     "output_type": "stream",
     "text": [
      "2018-01-21 21:08:56,976 INFO sqlalchemy.engine.base.Engine (27, 'pH', '7')\n"
     ]
    },
    {
     "name": "stdout",
     "output_type": "stream",
     "text": [
      "2018-01-21 21:08:56,976 INFO sqlalchemy.engine.base.Engine INSERT INTO keywords (main_id, name, value) VALUES (?, ?, ?)\n"
     ]
    },
    {
     "name": "stdout",
     "output_type": "stream",
     "text": [
      "2018-01-21 21:08:56,979 INFO sqlalchemy.engine.base.Engine (27, 'linker', 'a')\n"
     ]
    },
    {
     "name": "stdout",
     "output_type": "stream",
     "text": [
      "2018-01-21 21:08:56,980 INFO sqlalchemy.engine.base.Engine INSERT INTO keywords (main_id, name, value) VALUES (?, ?, ?)\n"
     ]
    },
    {
     "name": "stdout",
     "output_type": "stream",
     "text": [
      "2018-01-21 21:08:56,983 INFO sqlalchemy.engine.base.Engine (27, 'dna', None)\n"
     ]
    },
    {
     "name": "stdout",
     "output_type": "stream",
     "text": [
      "2018-01-21 21:08:56,983 INFO sqlalchemy.engine.base.Engine INSERT INTO keywords (main_id, name, value) VALUES (?, ?, ?)\n"
     ]
    },
    {
     "name": "stdout",
     "output_type": "stream",
     "text": [
      "2018-01-21 21:08:56,986 INFO sqlalchemy.engine.base.Engine (27, 'important', None)\n"
     ]
    },
    {
     "name": "stdout",
     "output_type": "stream",
     "text": [
      "2018-01-21 21:08:56,987 INFO sqlalchemy.engine.base.Engine INSERT INTO keywords (main_id, name, value) VALUES (?, ?, ?)\n"
     ]
    },
    {
     "name": "stdout",
     "output_type": "stream",
     "text": [
      "2018-01-21 21:08:56,990 INFO sqlalchemy.engine.base.Engine (28, 'rna', None)\n"
     ]
    },
    {
     "name": "stdout",
     "output_type": "stream",
     "text": [
      "2018-01-21 21:08:56,992 INFO sqlalchemy.engine.base.Engine INSERT INTO keywords (main_id, name, value) VALUES (?, ?, ?)\n"
     ]
    },
    {
     "name": "stdout",
     "output_type": "stream",
     "text": [
      "2018-01-21 21:08:56,993 INFO sqlalchemy.engine.base.Engine (28, 'linker', 'b')\n"
     ]
    },
    {
     "name": "stdout",
     "output_type": "stream",
     "text": [
      "2018-01-21 21:08:56,993 INFO sqlalchemy.engine.base.Engine INSERT INTO keywords (main_id, name, value) VALUES (?, ?, ?)\n"
     ]
    },
    {
     "name": "stdout",
     "output_type": "stream",
     "text": [
      "2018-01-21 21:08:56,994 INFO sqlalchemy.engine.base.Engine (28, 'ubi', None)\n"
     ]
    },
    {
     "name": "stdout",
     "output_type": "stream",
     "text": [
      "2018-01-21 21:08:56,996 INFO sqlalchemy.engine.base.Engine INSERT INTO keywords (main_id, name, value) VALUES (?, ?, ?)\n"
     ]
    },
    {
     "name": "stdout",
     "output_type": "stream",
     "text": [
      "2018-01-21 21:08:56,996 INFO sqlalchemy.engine.base.Engine (28, 'Temp', '300')\n"
     ]
    },
    {
     "name": "stdout",
     "output_type": "stream",
     "text": [
      "2018-01-21 21:08:56,997 INFO sqlalchemy.engine.base.Engine INSERT INTO keywords (main_id, name, value) VALUES (?, ?, ?)\n"
     ]
    },
    {
     "name": "stdout",
     "output_type": "stream",
     "text": [
      "2018-01-21 21:08:56,999 INFO sqlalchemy.engine.base.Engine (29, 'pic', None)\n"
     ]
    },
    {
     "name": "stdout",
     "output_type": "stream",
     "text": [
      "2018-01-21 21:08:57,000 INFO sqlalchemy.engine.base.Engine INSERT INTO keywords (main_id, name, value) VALUES (?, ?, ?)\n"
     ]
    },
    {
     "name": "stdout",
     "output_type": "stream",
     "text": [
      "2018-01-21 21:08:57,002 INFO sqlalchemy.engine.base.Engine (29, 'dna', None)\n"
     ]
    },
    {
     "name": "stdout",
     "output_type": "stream",
     "text": [
      "2018-01-21 21:08:57,003 INFO sqlalchemy.engine.base.Engine INSERT INTO keywords (main_id, name, value) VALUES (?, ?, ?)\n"
     ]
    },
    {
     "name": "stdout",
     "output_type": "stream",
     "text": [
      "2018-01-21 21:08:57,003 INFO sqlalchemy.engine.base.Engine (29, 'Temp', '500')\n"
     ]
    },
    {
     "name": "stdout",
     "output_type": "stream",
     "text": [
      "2018-01-21 21:08:57,005 INFO sqlalchemy.engine.base.Engine INSERT INTO keywords (main_id, name, value) VALUES (?, ?, ?)\n"
     ]
    },
    {
     "name": "stdout",
     "output_type": "stream",
     "text": [
      "2018-01-21 21:08:57,006 INFO sqlalchemy.engine.base.Engine (29, 'rna', None)\n"
     ]
    },
    {
     "name": "stdout",
     "output_type": "stream",
     "text": [
      "2018-01-21 21:08:57,006 INFO sqlalchemy.engine.base.Engine INSERT INTO keywords (main_id, name, value) VALUES (?, ?, ?)\n"
     ]
    },
    {
     "name": "stdout",
     "output_type": "stream",
     "text": [
      "2018-01-21 21:08:57,009 INFO sqlalchemy.engine.base.Engine (29, 'linker', 'd')\n"
     ]
    },
    {
     "name": "stdout",
     "output_type": "stream",
     "text": [
      "2018-01-21 21:08:57,010 INFO sqlalchemy.engine.base.Engine INSERT INTO keywords (main_id, name, value) VALUES (?, ?, ?)\n"
     ]
    },
    {
     "name": "stdout",
     "output_type": "stream",
     "text": [
      "2018-01-21 21:08:57,013 INFO sqlalchemy.engine.base.Engine (29, 'abc', None)\n"
     ]
    },
    {
     "name": "stdout",
     "output_type": "stream",
     "text": [
      "2018-01-21 21:08:57,019 INFO sqlalchemy.engine.base.Engine INSERT INTO keywords (main_id, name, value) VALUES (?, ?, ?)\n"
     ]
    },
    {
     "name": "stdout",
     "output_type": "stream",
     "text": [
      "2018-01-21 21:08:57,020 INFO sqlalchemy.engine.base.Engine (29, 'pH', '7')\n"
     ]
    },
    {
     "name": "stdout",
     "output_type": "stream",
     "text": [
      "2018-01-21 21:08:57,023 INFO sqlalchemy.engine.base.Engine INSERT INTO keywords (main_id, name, value) VALUES (?, ?, ?)\n"
     ]
    },
    {
     "name": "stdout",
     "output_type": "stream",
     "text": [
      "2018-01-21 21:08:57,023 INFO sqlalchemy.engine.base.Engine (30, 'pic', None)\n"
     ]
    },
    {
     "name": "stdout",
     "output_type": "stream",
     "text": [
      "2018-01-21 21:08:57,025 INFO sqlalchemy.engine.base.Engine INSERT INTO keywords (main_id, name, value) VALUES (?, ?, ?)\n"
     ]
    },
    {
     "name": "stdout",
     "output_type": "stream",
     "text": [
      "2018-01-21 21:08:57,026 INFO sqlalchemy.engine.base.Engine (30, 'ubi', None)\n"
     ]
    },
    {
     "name": "stdout",
     "output_type": "stream",
     "text": [
      "2018-01-21 21:08:57,026 INFO sqlalchemy.engine.base.Engine INSERT INTO keywords (main_id, name, value) VALUES (?, ?, ?)\n"
     ]
    },
    {
     "name": "stdout",
     "output_type": "stream",
     "text": [
      "2018-01-21 21:08:57,028 INFO sqlalchemy.engine.base.Engine (31, 'concentration', '1')\n"
     ]
    },
    {
     "name": "stdout",
     "output_type": "stream",
     "text": [
      "2018-01-21 21:08:57,029 INFO sqlalchemy.engine.base.Engine INSERT INTO keywords (main_id, name, value) VALUES (?, ?, ?)\n"
     ]
    },
    {
     "name": "stdout",
     "output_type": "stream",
     "text": [
      "2018-01-21 21:08:57,032 INFO sqlalchemy.engine.base.Engine (31, 'abc', None)\n"
     ]
    },
    {
     "name": "stdout",
     "output_type": "stream",
     "text": [
      "2018-01-21 21:08:57,035 INFO sqlalchemy.engine.base.Engine INSERT INTO keywords (main_id, name, value) VALUES (?, ?, ?)\n"
     ]
    },
    {
     "name": "stdout",
     "output_type": "stream",
     "text": [
      "2018-01-21 21:08:57,036 INFO sqlalchemy.engine.base.Engine (31, 'pH', '8')\n"
     ]
    },
    {
     "name": "stdout",
     "output_type": "stream",
     "text": [
      "2018-01-21 21:08:57,039 INFO sqlalchemy.engine.base.Engine INSERT INTO keywords (main_id, name, value) VALUES (?, ?, ?)\n"
     ]
    },
    {
     "name": "stdout",
     "output_type": "stream",
     "text": [
      "2018-01-21 21:08:57,040 INFO sqlalchemy.engine.base.Engine (31, 'Temp', '300')\n"
     ]
    },
    {
     "name": "stdout",
     "output_type": "stream",
     "text": [
      "2018-01-21 21:08:57,042 INFO sqlalchemy.engine.base.Engine INSERT INTO keywords (main_id, name, value) VALUES (?, ?, ?)\n"
     ]
    },
    {
     "name": "stdout",
     "output_type": "stream",
     "text": [
      "2018-01-21 21:08:57,042 INFO sqlalchemy.engine.base.Engine (31, 'ubi', None)\n"
     ]
    },
    {
     "name": "stdout",
     "output_type": "stream",
     "text": [
      "2018-01-21 21:08:57,043 INFO sqlalchemy.engine.base.Engine INSERT INTO keywords (main_id, name, value) VALUES (?, ?, ?)\n"
     ]
    },
    {
     "name": "stdout",
     "output_type": "stream",
     "text": [
      "2018-01-21 21:08:57,045 INFO sqlalchemy.engine.base.Engine (32, 'linker', 'b')\n"
     ]
    },
    {
     "name": "stdout",
     "output_type": "stream",
     "text": [
      "2018-01-21 21:08:57,046 INFO sqlalchemy.engine.base.Engine INSERT INTO keywords (main_id, name, value) VALUES (?, ?, ?)\n"
     ]
    },
    {
     "name": "stdout",
     "output_type": "stream",
     "text": [
      "2018-01-21 21:08:57,046 INFO sqlalchemy.engine.base.Engine (33, 'pH', '7')\n"
     ]
    },
    {
     "name": "stdout",
     "output_type": "stream",
     "text": [
      "2018-01-21 21:08:57,048 INFO sqlalchemy.engine.base.Engine INSERT INTO keywords (main_id, name, value) VALUES (?, ?, ?)\n"
     ]
    },
    {
     "name": "stdout",
     "output_type": "stream",
     "text": [
      "2018-01-21 21:08:57,049 INFO sqlalchemy.engine.base.Engine (33, 'important', None)\n"
     ]
    },
    {
     "name": "stdout",
     "output_type": "stream",
     "text": [
      "2018-01-21 21:08:57,049 INFO sqlalchemy.engine.base.Engine INSERT INTO keywords (main_id, name, value) VALUES (?, ?, ?)\n"
     ]
    },
    {
     "name": "stdout",
     "output_type": "stream",
     "text": [
      "2018-01-21 21:08:57,051 INFO sqlalchemy.engine.base.Engine (33, 'dna', None)\n"
     ]
    },
    {
     "name": "stdout",
     "output_type": "stream",
     "text": [
      "2018-01-21 21:08:57,052 INFO sqlalchemy.engine.base.Engine INSERT INTO keywords (main_id, name, value) VALUES (?, ?, ?)\n"
     ]
    },
    {
     "name": "stdout",
     "output_type": "stream",
     "text": [
      "2018-01-21 21:08:57,052 INFO sqlalchemy.engine.base.Engine (33, 'ubi', None)\n"
     ]
    },
    {
     "name": "stdout",
     "output_type": "stream",
     "text": [
      "2018-01-21 21:08:57,055 INFO sqlalchemy.engine.base.Engine INSERT INTO keywords (main_id, name, value) VALUES (?, ?, ?)\n"
     ]
    },
    {
     "name": "stdout",
     "output_type": "stream",
     "text": [
      "2018-01-21 21:08:57,055 INFO sqlalchemy.engine.base.Engine (34, 'important', None)\n"
     ]
    },
    {
     "name": "stdout",
     "output_type": "stream",
     "text": [
      "2018-01-21 21:08:57,058 INFO sqlalchemy.engine.base.Engine INSERT INTO keywords (main_id, name, value) VALUES (?, ?, ?)\n"
     ]
    },
    {
     "name": "stdout",
     "output_type": "stream",
     "text": [
      "2018-01-21 21:08:57,059 INFO sqlalchemy.engine.base.Engine (34, 'concentration', '1')\n"
     ]
    },
    {
     "name": "stdout",
     "output_type": "stream",
     "text": [
      "2018-01-21 21:08:57,062 INFO sqlalchemy.engine.base.Engine INSERT INTO keywords (main_id, name, value) VALUES (?, ?, ?)\n"
     ]
    },
    {
     "name": "stdout",
     "output_type": "stream",
     "text": [
      "2018-01-21 21:08:57,063 INFO sqlalchemy.engine.base.Engine (34, 'linker', 'b')\n"
     ]
    },
    {
     "name": "stdout",
     "output_type": "stream",
     "text": [
      "2018-01-21 21:08:57,072 INFO sqlalchemy.engine.base.Engine INSERT INTO keywords (main_id, name, value) VALUES (?, ?, ?)\n"
     ]
    },
    {
     "name": "stdout",
     "output_type": "stream",
     "text": [
      "2018-01-21 21:08:57,075 INFO sqlalchemy.engine.base.Engine (34, 'pH', '8')\n"
     ]
    },
    {
     "name": "stdout",
     "output_type": "stream",
     "text": [
      "2018-01-21 21:08:57,075 INFO sqlalchemy.engine.base.Engine INSERT INTO keywords (main_id, name, value) VALUES (?, ?, ?)\n"
     ]
    },
    {
     "name": "stdout",
     "output_type": "stream",
     "text": [
      "2018-01-21 21:08:57,085 INFO sqlalchemy.engine.base.Engine (34, 'abc', None)\n"
     ]
    },
    {
     "name": "stdout",
     "output_type": "stream",
     "text": [
      "2018-01-21 21:08:57,088 INFO sqlalchemy.engine.base.Engine INSERT INTO keywords (main_id, name, value) VALUES (?, ?, ?)\n"
     ]
    },
    {
     "name": "stdout",
     "output_type": "stream",
     "text": [
      "2018-01-21 21:08:57,092 INFO sqlalchemy.engine.base.Engine (35, 'linker', 'b')\n"
     ]
    },
    {
     "name": "stdout",
     "output_type": "stream",
     "text": [
      "2018-01-21 21:08:57,092 INFO sqlalchemy.engine.base.Engine INSERT INTO keywords (main_id, name, value) VALUES (?, ?, ?)\n"
     ]
    },
    {
     "name": "stdout",
     "output_type": "stream",
     "text": [
      "2018-01-21 21:08:57,095 INFO sqlalchemy.engine.base.Engine (36, 'pH', '7')\n"
     ]
    },
    {
     "name": "stdout",
     "output_type": "stream",
     "text": [
      "2018-01-21 21:08:57,095 INFO sqlalchemy.engine.base.Engine INSERT INTO keywords (main_id, name, value) VALUES (?, ?, ?)\n"
     ]
    },
    {
     "name": "stdout",
     "output_type": "stream",
     "text": [
      "2018-01-21 21:08:57,098 INFO sqlalchemy.engine.base.Engine (36, 'linker', 'd')\n"
     ]
    },
    {
     "name": "stdout",
     "output_type": "stream",
     "text": [
      "2018-01-21 21:08:57,098 INFO sqlalchemy.engine.base.Engine INSERT INTO keywords (main_id, name, value) VALUES (?, ?, ?)\n"
     ]
    },
    {
     "name": "stdout",
     "output_type": "stream",
     "text": [
      "2018-01-21 21:08:57,101 INFO sqlalchemy.engine.base.Engine (36, 'caco3', None)\n"
     ]
    },
    {
     "name": "stdout",
     "output_type": "stream",
     "text": [
      "2018-01-21 21:08:57,105 INFO sqlalchemy.engine.base.Engine INSERT INTO keywords (main_id, name, value) VALUES (?, ?, ?)\n"
     ]
    },
    {
     "name": "stdout",
     "output_type": "stream",
     "text": [
      "2018-01-21 21:08:57,108 INFO sqlalchemy.engine.base.Engine (36, 'rna', None)\n"
     ]
    },
    {
     "name": "stdout",
     "output_type": "stream",
     "text": [
      "2018-01-21 21:08:57,108 INFO sqlalchemy.engine.base.Engine INSERT INTO keywords (main_id, name, value) VALUES (?, ?, ?)\n"
     ]
    },
    {
     "name": "stdout",
     "output_type": "stream",
     "text": [
      "2018-01-21 21:08:57,111 INFO sqlalchemy.engine.base.Engine (37, 'surfactants', None)\n"
     ]
    },
    {
     "name": "stdout",
     "output_type": "stream",
     "text": [
      "2018-01-21 21:08:57,111 INFO sqlalchemy.engine.base.Engine INSERT INTO keywords (main_id, name, value) VALUES (?, ?, ?)\n"
     ]
    },
    {
     "name": "stdout",
     "output_type": "stream",
     "text": [
      "2018-01-21 21:08:57,114 INFO sqlalchemy.engine.base.Engine (37, 'pic', None)\n"
     ]
    },
    {
     "name": "stdout",
     "output_type": "stream",
     "text": [
      "2018-01-21 21:08:57,115 INFO sqlalchemy.engine.base.Engine INSERT INTO keywords (main_id, name, value) VALUES (?, ?, ?)\n"
     ]
    },
    {
     "name": "stdout",
     "output_type": "stream",
     "text": [
      "2018-01-21 21:08:57,117 INFO sqlalchemy.engine.base.Engine (38, 'linker', 'a')\n"
     ]
    },
    {
     "name": "stdout",
     "output_type": "stream",
     "text": [
      "2018-01-21 21:08:57,118 INFO sqlalchemy.engine.base.Engine INSERT INTO keywords (main_id, name, value) VALUES (?, ?, ?)\n"
     ]
    },
    {
     "name": "stdout",
     "output_type": "stream",
     "text": [
      "2018-01-21 21:08:57,118 INFO sqlalchemy.engine.base.Engine (38, 'ubi', None)\n"
     ]
    },
    {
     "name": "stdout",
     "output_type": "stream",
     "text": [
      "2018-01-21 21:08:57,121 INFO sqlalchemy.engine.base.Engine INSERT INTO keywords (main_id, name, value) VALUES (?, ?, ?)\n"
     ]
    },
    {
     "name": "stdout",
     "output_type": "stream",
     "text": [
      "2018-01-21 21:08:57,121 INFO sqlalchemy.engine.base.Engine (39, 'pH', '9')\n"
     ]
    },
    {
     "name": "stdout",
     "output_type": "stream",
     "text": [
      "2018-01-21 21:08:57,124 INFO sqlalchemy.engine.base.Engine INSERT INTO keywords (main_id, name, value) VALUES (?, ?, ?)\n"
     ]
    },
    {
     "name": "stdout",
     "output_type": "stream",
     "text": [
      "2018-01-21 21:08:57,125 INFO sqlalchemy.engine.base.Engine (39, 'linker', 'b')\n"
     ]
    },
    {
     "name": "stdout",
     "output_type": "stream",
     "text": [
      "2018-01-21 21:08:57,127 INFO sqlalchemy.engine.base.Engine INSERT INTO keywords (main_id, name, value) VALUES (?, ?, ?)\n"
     ]
    },
    {
     "name": "stdout",
     "output_type": "stream",
     "text": [
      "2018-01-21 21:08:57,130 INFO sqlalchemy.engine.base.Engine (39, 'concentration', '1')\n"
     ]
    },
    {
     "name": "stdout",
     "output_type": "stream",
     "text": [
      "2018-01-21 21:08:57,131 INFO sqlalchemy.engine.base.Engine INSERT INTO keywords (main_id, name, value) VALUES (?, ?, ?)\n"
     ]
    },
    {
     "name": "stdout",
     "output_type": "stream",
     "text": [
      "2018-01-21 21:08:57,131 INFO sqlalchemy.engine.base.Engine (39, 'ubi', None)\n"
     ]
    },
    {
     "name": "stdout",
     "output_type": "stream",
     "text": [
      "2018-01-21 21:08:57,134 INFO sqlalchemy.engine.base.Engine INSERT INTO keywords (main_id, name, value) VALUES (?, ?, ?)\n"
     ]
    },
    {
     "name": "stdout",
     "output_type": "stream",
     "text": [
      "2018-01-21 21:08:57,134 INFO sqlalchemy.engine.base.Engine (40, 'concentration', '1')\n"
     ]
    },
    {
     "name": "stdout",
     "output_type": "stream",
     "text": [
      "2018-01-21 21:08:57,138 INFO sqlalchemy.engine.base.Engine INSERT INTO keywords (main_id, name, value) VALUES (?, ?, ?)\n"
     ]
    },
    {
     "name": "stdout",
     "output_type": "stream",
     "text": [
      "2018-01-21 21:08:57,142 INFO sqlalchemy.engine.base.Engine (40, 'abc', None)\n"
     ]
    },
    {
     "name": "stdout",
     "output_type": "stream",
     "text": [
      "2018-01-21 21:08:57,147 INFO sqlalchemy.engine.base.Engine INSERT INTO keywords (main_id, name, value) VALUES (?, ?, ?)\n"
     ]
    },
    {
     "name": "stdout",
     "output_type": "stream",
     "text": [
      "2018-01-21 21:08:57,148 INFO sqlalchemy.engine.base.Engine (40, 'caco3', None)\n"
     ]
    },
    {
     "name": "stdout",
     "output_type": "stream",
     "text": [
      "2018-01-21 21:08:57,150 INFO sqlalchemy.engine.base.Engine INSERT INTO keywords (main_id, name, value) VALUES (?, ?, ?)\n"
     ]
    },
    {
     "name": "stdout",
     "output_type": "stream",
     "text": [
      "2018-01-21 21:08:57,153 INFO sqlalchemy.engine.base.Engine (40, 'Temp', '500')\n"
     ]
    },
    {
     "name": "stdout",
     "output_type": "stream",
     "text": [
      "2018-01-21 21:08:57,154 INFO sqlalchemy.engine.base.Engine INSERT INTO keywords (main_id, name, value) VALUES (?, ?, ?)\n"
     ]
    },
    {
     "name": "stdout",
     "output_type": "stream",
     "text": [
      "2018-01-21 21:08:57,157 INFO sqlalchemy.engine.base.Engine (41, 'surfactants', None)\n"
     ]
    },
    {
     "name": "stdout",
     "output_type": "stream",
     "text": [
      "2018-01-21 21:08:57,163 INFO sqlalchemy.engine.base.Engine INSERT INTO keywords (main_id, name, value) VALUES (?, ?, ?)\n"
     ]
    },
    {
     "name": "stdout",
     "output_type": "stream",
     "text": [
      "2018-01-21 21:08:57,164 INFO sqlalchemy.engine.base.Engine (41, 'concentration', '1')\n"
     ]
    },
    {
     "name": "stdout",
     "output_type": "stream",
     "text": [
      "2018-01-21 21:08:57,171 INFO sqlalchemy.engine.base.Engine INSERT INTO keywords (main_id, name, value) VALUES (?, ?, ?)\n"
     ]
    },
    {
     "name": "stdout",
     "output_type": "stream",
     "text": [
      "2018-01-21 21:08:57,173 INFO sqlalchemy.engine.base.Engine (41, 'pic', None)\n"
     ]
    },
    {
     "name": "stdout",
     "output_type": "stream",
     "text": [
      "2018-01-21 21:08:57,174 INFO sqlalchemy.engine.base.Engine INSERT INTO keywords (main_id, name, value) VALUES (?, ?, ?)\n"
     ]
    },
    {
     "name": "stdout",
     "output_type": "stream",
     "text": [
      "2018-01-21 21:08:57,177 INFO sqlalchemy.engine.base.Engine (42, 'linker', 'c')\n"
     ]
    },
    {
     "name": "stdout",
     "output_type": "stream",
     "text": [
      "2018-01-21 21:08:57,177 INFO sqlalchemy.engine.base.Engine INSERT INTO keywords (main_id, name, value) VALUES (?, ?, ?)\n"
     ]
    },
    {
     "name": "stdout",
     "output_type": "stream",
     "text": [
      "2018-01-21 21:08:57,180 INFO sqlalchemy.engine.base.Engine (42, 'pic', None)\n"
     ]
    },
    {
     "name": "stdout",
     "output_type": "stream",
     "text": [
      "2018-01-21 21:08:57,180 INFO sqlalchemy.engine.base.Engine INSERT INTO keywords (main_id, name, value) VALUES (?, ?, ?)\n"
     ]
    },
    {
     "name": "stdout",
     "output_type": "stream",
     "text": [
      "2018-01-21 21:08:57,187 INFO sqlalchemy.engine.base.Engine (42, 'abc', None)\n"
     ]
    },
    {
     "name": "stdout",
     "output_type": "stream",
     "text": [
      "2018-01-21 21:08:57,190 INFO sqlalchemy.engine.base.Engine INSERT INTO keywords (main_id, name, value) VALUES (?, ?, ?)\n"
     ]
    },
    {
     "name": "stdout",
     "output_type": "stream",
     "text": [
      "2018-01-21 21:08:57,196 INFO sqlalchemy.engine.base.Engine (42, 'Temp', '500')\n"
     ]
    },
    {
     "name": "stdout",
     "output_type": "stream",
     "text": [
      "2018-01-21 21:08:57,197 INFO sqlalchemy.engine.base.Engine INSERT INTO keywords (main_id, name, value) VALUES (?, ?, ?)\n"
     ]
    },
    {
     "name": "stdout",
     "output_type": "stream",
     "text": [
      "2018-01-21 21:08:57,198 INFO sqlalchemy.engine.base.Engine (43, 'concentration', '1')\n"
     ]
    },
    {
     "name": "stdout",
     "output_type": "stream",
     "text": [
      "2018-01-21 21:08:57,203 INFO sqlalchemy.engine.base.Engine INSERT INTO keywords (main_id, name, value) VALUES (?, ?, ?)\n"
     ]
    },
    {
     "name": "stdout",
     "output_type": "stream",
     "text": [
      "2018-01-21 21:08:57,206 INFO sqlalchemy.engine.base.Engine (43, 'linker', 'd')\n"
     ]
    },
    {
     "name": "stdout",
     "output_type": "stream",
     "text": [
      "2018-01-21 21:08:57,210 INFO sqlalchemy.engine.base.Engine INSERT INTO keywords (main_id, name, value) VALUES (?, ?, ?)\n"
     ]
    },
    {
     "name": "stdout",
     "output_type": "stream",
     "text": [
      "2018-01-21 21:08:57,211 INFO sqlalchemy.engine.base.Engine (44, 'linker', 'a')\n"
     ]
    },
    {
     "name": "stdout",
     "output_type": "stream",
     "text": [
      "2018-01-21 21:08:57,213 INFO sqlalchemy.engine.base.Engine INSERT INTO keywords (main_id, name, value) VALUES (?, ?, ?)\n"
     ]
    },
    {
     "name": "stdout",
     "output_type": "stream",
     "text": [
      "2018-01-21 21:08:57,214 INFO sqlalchemy.engine.base.Engine (45, 'linker', 'd')\n"
     ]
    },
    {
     "name": "stdout",
     "output_type": "stream",
     "text": [
      "2018-01-21 21:08:57,217 INFO sqlalchemy.engine.base.Engine INSERT INTO keywords (main_id, name, value) VALUES (?, ?, ?)\n"
     ]
    },
    {
     "name": "stdout",
     "output_type": "stream",
     "text": [
      "2018-01-21 21:08:57,219 INFO sqlalchemy.engine.base.Engine (45, 'caco3', None)\n"
     ]
    },
    {
     "name": "stdout",
     "output_type": "stream",
     "text": [
      "2018-01-21 21:08:57,221 INFO sqlalchemy.engine.base.Engine INSERT INTO keywords (main_id, name, value) VALUES (?, ?, ?)\n"
     ]
    },
    {
     "name": "stdout",
     "output_type": "stream",
     "text": [
      "2018-01-21 21:08:57,224 INFO sqlalchemy.engine.base.Engine (45, 'Temp', '500')\n"
     ]
    },
    {
     "name": "stdout",
     "output_type": "stream",
     "text": [
      "2018-01-21 21:08:57,226 INFO sqlalchemy.engine.base.Engine INSERT INTO keywords (main_id, name, value) VALUES (?, ?, ?)\n"
     ]
    },
    {
     "name": "stdout",
     "output_type": "stream",
     "text": [
      "2018-01-21 21:08:57,229 INFO sqlalchemy.engine.base.Engine (46, 'pH', '7')\n"
     ]
    },
    {
     "name": "stdout",
     "output_type": "stream",
     "text": [
      "2018-01-21 21:08:57,230 INFO sqlalchemy.engine.base.Engine INSERT INTO keywords (main_id, name, value) VALUES (?, ?, ?)\n"
     ]
    },
    {
     "name": "stdout",
     "output_type": "stream",
     "text": [
      "2018-01-21 21:08:57,233 INFO sqlalchemy.engine.base.Engine (46, 'abc', None)\n"
     ]
    },
    {
     "name": "stdout",
     "output_type": "stream",
     "text": [
      "2018-01-21 21:08:57,234 INFO sqlalchemy.engine.base.Engine INSERT INTO keywords (main_id, name, value) VALUES (?, ?, ?)\n"
     ]
    },
    {
     "name": "stdout",
     "output_type": "stream",
     "text": [
      "2018-01-21 21:08:57,236 INFO sqlalchemy.engine.base.Engine (46, 'Temp', '300')\n"
     ]
    },
    {
     "name": "stdout",
     "output_type": "stream",
     "text": [
      "2018-01-21 21:08:57,237 INFO sqlalchemy.engine.base.Engine INSERT INTO keywords (main_id, name, value) VALUES (?, ?, ?)\n"
     ]
    },
    {
     "name": "stdout",
     "output_type": "stream",
     "text": [
      "2018-01-21 21:08:57,240 INFO sqlalchemy.engine.base.Engine (47, 'important', None)\n"
     ]
    },
    {
     "name": "stdout",
     "output_type": "stream",
     "text": [
      "2018-01-21 21:08:57,243 INFO sqlalchemy.engine.base.Engine INSERT INTO keywords (main_id, name, value) VALUES (?, ?, ?)\n"
     ]
    },
    {
     "name": "stdout",
     "output_type": "stream",
     "text": [
      "2018-01-21 21:08:57,243 INFO sqlalchemy.engine.base.Engine (47, 'abc', None)\n"
     ]
    },
    {
     "name": "stdout",
     "output_type": "stream",
     "text": [
      "2018-01-21 21:08:57,246 INFO sqlalchemy.engine.base.Engine INSERT INTO keywords (main_id, name, value) VALUES (?, ?, ?)\n"
     ]
    },
    {
     "name": "stdout",
     "output_type": "stream",
     "text": [
      "2018-01-21 21:08:57,247 INFO sqlalchemy.engine.base.Engine (48, 'linker', 'c')\n"
     ]
    },
    {
     "name": "stdout",
     "output_type": "stream",
     "text": [
      "2018-01-21 21:08:57,250 INFO sqlalchemy.engine.base.Engine INSERT INTO keywords (main_id, name, value) VALUES (?, ?, ?)\n"
     ]
    },
    {
     "name": "stdout",
     "output_type": "stream",
     "text": [
      "2018-01-21 21:08:57,252 INFO sqlalchemy.engine.base.Engine (48, 'ubi', None)\n"
     ]
    },
    {
     "name": "stdout",
     "output_type": "stream",
     "text": [
      "2018-01-21 21:08:57,253 INFO sqlalchemy.engine.base.Engine INSERT INTO keywords (main_id, name, value) VALUES (?, ?, ?)\n"
     ]
    },
    {
     "name": "stdout",
     "output_type": "stream",
     "text": [
      "2018-01-21 21:08:57,253 INFO sqlalchemy.engine.base.Engine (49, 'concentration', '1')\n"
     ]
    },
    {
     "name": "stdout",
     "output_type": "stream",
     "text": [
      "2018-01-21 21:08:57,256 INFO sqlalchemy.engine.base.Engine INSERT INTO keywords (main_id, name, value) VALUES (?, ?, ?)\n"
     ]
    },
    {
     "name": "stdout",
     "output_type": "stream",
     "text": [
      "2018-01-21 21:08:57,256 INFO sqlalchemy.engine.base.Engine (49, 'dna', None)\n"
     ]
    },
    {
     "name": "stdout",
     "output_type": "stream",
     "text": [
      "2018-01-21 21:08:57,257 INFO sqlalchemy.engine.base.Engine INSERT INTO keywords (main_id, name, value) VALUES (?, ?, ?)\n"
     ]
    },
    {
     "name": "stdout",
     "output_type": "stream",
     "text": [
      "2018-01-21 21:08:57,259 INFO sqlalchemy.engine.base.Engine (49, 'ubi', None)\n"
     ]
    },
    {
     "name": "stdout",
     "output_type": "stream",
     "text": [
      "2018-01-21 21:08:57,262 INFO sqlalchemy.engine.base.Engine INSERT INTO keywords (main_id, name, value) VALUES (?, ?, ?)\n"
     ]
    },
    {
     "name": "stdout",
     "output_type": "stream",
     "text": [
      "2018-01-21 21:08:57,263 INFO sqlalchemy.engine.base.Engine (49, 'Temp', '300')\n"
     ]
    },
    {
     "name": "stdout",
     "output_type": "stream",
     "text": [
      "2018-01-21 21:08:57,266 INFO sqlalchemy.engine.base.Engine INSERT INTO keywords (main_id, name, value) VALUES (?, ?, ?)\n"
     ]
    },
    {
     "name": "stdout",
     "output_type": "stream",
     "text": [
      "2018-01-21 21:08:57,266 INFO sqlalchemy.engine.base.Engine (50, 'surfactants', None)\n"
     ]
    },
    {
     "name": "stdout",
     "output_type": "stream",
     "text": [
      "2018-01-21 21:08:57,269 INFO sqlalchemy.engine.base.Engine INSERT INTO keywords (main_id, name, value) VALUES (?, ?, ?)\n"
     ]
    },
    {
     "name": "stdout",
     "output_type": "stream",
     "text": [
      "2018-01-21 21:08:57,270 INFO sqlalchemy.engine.base.Engine (50, 'pH', '7')\n"
     ]
    },
    {
     "name": "stdout",
     "output_type": "stream",
     "text": [
      "2018-01-21 21:08:57,273 INFO sqlalchemy.engine.base.Engine INSERT INTO keywords (main_id, name, value) VALUES (?, ?, ?)\n"
     ]
    },
    {
     "name": "stdout",
     "output_type": "stream",
     "text": [
      "2018-01-21 21:08:57,275 INFO sqlalchemy.engine.base.Engine (50, 'ubi', None)\n"
     ]
    },
    {
     "name": "stdout",
     "output_type": "stream",
     "text": [
      "2018-01-21 21:08:57,276 INFO sqlalchemy.engine.base.Engine INSERT INTO keywords (main_id, name, value) VALUES (?, ?, ?)\n"
     ]
    },
    {
     "name": "stdout",
     "output_type": "stream",
     "text": [
      "2018-01-21 21:08:57,278 INFO sqlalchemy.engine.base.Engine (50, 'Temp', '500')\n"
     ]
    },
    {
     "name": "stdout",
     "output_type": "stream",
     "text": [
      "2018-01-21 21:08:57,279 INFO sqlalchemy.engine.base.Engine INSERT INTO keywords (main_id, name, value) VALUES (?, ?, ?)\n"
     ]
    },
    {
     "name": "stdout",
     "output_type": "stream",
     "text": [
      "2018-01-21 21:08:57,280 INFO sqlalchemy.engine.base.Engine (51, 'surfactants', None)\n"
     ]
    },
    {
     "name": "stdout",
     "output_type": "stream",
     "text": [
      "2018-01-21 21:08:57,282 INFO sqlalchemy.engine.base.Engine INSERT INTO keywords (main_id, name, value) VALUES (?, ?, ?)\n"
     ]
    },
    {
     "name": "stdout",
     "output_type": "stream",
     "text": [
      "2018-01-21 21:08:57,283 INFO sqlalchemy.engine.base.Engine (51, 'pH', '9')\n"
     ]
    },
    {
     "name": "stdout",
     "output_type": "stream",
     "text": [
      "2018-01-21 21:08:57,286 INFO sqlalchemy.engine.base.Engine INSERT INTO keywords (main_id, name, value) VALUES (?, ?, ?)\n"
     ]
    },
    {
     "name": "stdout",
     "output_type": "stream",
     "text": [
      "2018-01-21 21:08:57,286 INFO sqlalchemy.engine.base.Engine (51, 'linker', 'b')\n"
     ]
    },
    {
     "name": "stdout",
     "output_type": "stream",
     "text": [
      "2018-01-21 21:08:57,288 INFO sqlalchemy.engine.base.Engine INSERT INTO keywords (main_id, name, value) VALUES (?, ?, ?)\n"
     ]
    },
    {
     "name": "stdout",
     "output_type": "stream",
     "text": [
      "2018-01-21 21:08:57,289 INFO sqlalchemy.engine.base.Engine (51, 'abc', None)\n"
     ]
    },
    {
     "name": "stdout",
     "output_type": "stream",
     "text": [
      "2018-01-21 21:08:57,289 INFO sqlalchemy.engine.base.Engine INSERT INTO keywords (main_id, name, value) VALUES (?, ?, ?)\n"
     ]
    },
    {
     "name": "stdout",
     "output_type": "stream",
     "text": [
      "2018-01-21 21:08:57,290 INFO sqlalchemy.engine.base.Engine (51, 'ubi', None)\n"
     ]
    },
    {
     "name": "stdout",
     "output_type": "stream",
     "text": [
      "2018-01-21 21:08:57,292 INFO sqlalchemy.engine.base.Engine INSERT INTO keywords (main_id, name, value) VALUES (?, ?, ?)\n"
     ]
    },
    {
     "name": "stdout",
     "output_type": "stream",
     "text": [
      "2018-01-21 21:08:57,293 INFO sqlalchemy.engine.base.Engine (52, 'surfactants', None)\n"
     ]
    },
    {
     "name": "stdout",
     "output_type": "stream",
     "text": [
      "2018-01-21 21:08:57,296 INFO sqlalchemy.engine.base.Engine INSERT INTO keywords (main_id, name, value) VALUES (?, ?, ?)\n"
     ]
    },
    {
     "name": "stdout",
     "output_type": "stream",
     "text": [
      "2018-01-21 21:08:57,296 INFO sqlalchemy.engine.base.Engine (52, 'pH', '7')\n"
     ]
    },
    {
     "name": "stdout",
     "output_type": "stream",
     "text": [
      "2018-01-21 21:08:57,299 INFO sqlalchemy.engine.base.Engine INSERT INTO keywords (main_id, name, value) VALUES (?, ?, ?)\n"
     ]
    },
    {
     "name": "stdout",
     "output_type": "stream",
     "text": [
      "2018-01-21 21:08:57,299 INFO sqlalchemy.engine.base.Engine (52, 'linker', 'd')\n"
     ]
    },
    {
     "name": "stdout",
     "output_type": "stream",
     "text": [
      "2018-01-21 21:08:57,302 INFO sqlalchemy.engine.base.Engine INSERT INTO keywords (main_id, name, value) VALUES (?, ?, ?)\n"
     ]
    },
    {
     "name": "stdout",
     "output_type": "stream",
     "text": [
      "2018-01-21 21:08:57,302 INFO sqlalchemy.engine.base.Engine (52, 'concentration', '1')\n"
     ]
    },
    {
     "name": "stdout",
     "output_type": "stream",
     "text": [
      "2018-01-21 21:08:57,305 INFO sqlalchemy.engine.base.Engine INSERT INTO keywords (main_id, name, value) VALUES (?, ?, ?)\n"
     ]
    },
    {
     "name": "stdout",
     "output_type": "stream",
     "text": [
      "2018-01-21 21:08:57,306 INFO sqlalchemy.engine.base.Engine (52, 'ubi', None)\n"
     ]
    },
    {
     "name": "stdout",
     "output_type": "stream",
     "text": [
      "2018-01-21 21:08:57,309 INFO sqlalchemy.engine.base.Engine INSERT INTO keywords (main_id, name, value) VALUES (?, ?, ?)\n"
     ]
    },
    {
     "name": "stdout",
     "output_type": "stream",
     "text": [
      "2018-01-21 21:08:57,312 INFO sqlalchemy.engine.base.Engine (53, 'linker', 'b')\n"
     ]
    },
    {
     "name": "stdout",
     "output_type": "stream",
     "text": [
      "2018-01-21 21:08:57,313 INFO sqlalchemy.engine.base.Engine INSERT INTO keywords (main_id, name, value) VALUES (?, ?, ?)\n"
     ]
    },
    {
     "name": "stdout",
     "output_type": "stream",
     "text": [
      "2018-01-21 21:08:57,315 INFO sqlalchemy.engine.base.Engine (53, 'ubi', None)\n"
     ]
    },
    {
     "name": "stdout",
     "output_type": "stream",
     "text": [
      "2018-01-21 21:08:57,316 INFO sqlalchemy.engine.base.Engine INSERT INTO keywords (main_id, name, value) VALUES (?, ?, ?)\n"
     ]
    },
    {
     "name": "stdout",
     "output_type": "stream",
     "text": [
      "2018-01-21 21:08:57,318 INFO sqlalchemy.engine.base.Engine (53, 'important', None)\n"
     ]
    },
    {
     "name": "stdout",
     "output_type": "stream",
     "text": [
      "2018-01-21 21:08:57,319 INFO sqlalchemy.engine.base.Engine INSERT INTO keywords (main_id, name, value) VALUES (?, ?, ?)\n"
     ]
    },
    {
     "name": "stdout",
     "output_type": "stream",
     "text": [
      "2018-01-21 21:08:57,321 INFO sqlalchemy.engine.base.Engine (54, 'pH', '8')\n"
     ]
    },
    {
     "name": "stdout",
     "output_type": "stream",
     "text": [
      "2018-01-21 21:08:57,322 INFO sqlalchemy.engine.base.Engine INSERT INTO keywords (main_id, name, value) VALUES (?, ?, ?)\n"
     ]
    },
    {
     "name": "stdout",
     "output_type": "stream",
     "text": [
      "2018-01-21 21:08:57,322 INFO sqlalchemy.engine.base.Engine (55, 'dna', None)\n"
     ]
    },
    {
     "name": "stdout",
     "output_type": "stream",
     "text": [
      "2018-01-21 21:08:57,325 INFO sqlalchemy.engine.base.Engine INSERT INTO keywords (main_id, name, value) VALUES (?, ?, ?)\n"
     ]
    },
    {
     "name": "stdout",
     "output_type": "stream",
     "text": [
      "2018-01-21 21:08:57,325 INFO sqlalchemy.engine.base.Engine (55, 'pH', '8')\n"
     ]
    },
    {
     "name": "stdout",
     "output_type": "stream",
     "text": [
      "2018-01-21 21:08:57,328 INFO sqlalchemy.engine.base.Engine INSERT INTO keywords (main_id, name, value) VALUES (?, ?, ?)\n"
     ]
    },
    {
     "name": "stdout",
     "output_type": "stream",
     "text": [
      "2018-01-21 21:08:57,328 INFO sqlalchemy.engine.base.Engine (55, 'caco3', None)\n"
     ]
    },
    {
     "name": "stdout",
     "output_type": "stream",
     "text": [
      "2018-01-21 21:08:57,332 INFO sqlalchemy.engine.base.Engine INSERT INTO keywords (main_id, name, value) VALUES (?, ?, ?)\n"
     ]
    },
    {
     "name": "stdout",
     "output_type": "stream",
     "text": [
      "2018-01-21 21:08:57,334 INFO sqlalchemy.engine.base.Engine (56, 'surfactants', None)\n"
     ]
    },
    {
     "name": "stdout",
     "output_type": "stream",
     "text": [
      "2018-01-21 21:08:57,335 INFO sqlalchemy.engine.base.Engine INSERT INTO keywords (main_id, name, value) VALUES (?, ?, ?)\n"
     ]
    },
    {
     "name": "stdout",
     "output_type": "stream",
     "text": [
      "2018-01-21 21:08:57,336 INFO sqlalchemy.engine.base.Engine (56, 'pH', '7')\n"
     ]
    },
    {
     "name": "stdout",
     "output_type": "stream",
     "text": [
      "2018-01-21 21:08:57,338 INFO sqlalchemy.engine.base.Engine INSERT INTO keywords (main_id, name, value) VALUES (?, ?, ?)\n"
     ]
    },
    {
     "name": "stdout",
     "output_type": "stream",
     "text": [
      "2018-01-21 21:08:57,339 INFO sqlalchemy.engine.base.Engine (56, 'linker', 'a')\n"
     ]
    },
    {
     "name": "stdout",
     "output_type": "stream",
     "text": [
      "2018-01-21 21:08:57,342 INFO sqlalchemy.engine.base.Engine INSERT INTO keywords (main_id, name, value) VALUES (?, ?, ?)\n"
     ]
    },
    {
     "name": "stdout",
     "output_type": "stream",
     "text": [
      "2018-01-21 21:08:57,342 INFO sqlalchemy.engine.base.Engine (56, 'dna', None)\n"
     ]
    },
    {
     "name": "stdout",
     "output_type": "stream",
     "text": [
      "2018-01-21 21:08:57,345 INFO sqlalchemy.engine.base.Engine INSERT INTO keywords (main_id, name, value) VALUES (?, ?, ?)\n"
     ]
    },
    {
     "name": "stdout",
     "output_type": "stream",
     "text": [
      "2018-01-21 21:08:57,346 INFO sqlalchemy.engine.base.Engine (57, 'surfactants', None)\n"
     ]
    },
    {
     "name": "stdout",
     "output_type": "stream",
     "text": [
      "2018-01-21 21:08:57,348 INFO sqlalchemy.engine.base.Engine INSERT INTO keywords (main_id, name, value) VALUES (?, ?, ?)\n"
     ]
    },
    {
     "name": "stdout",
     "output_type": "stream",
     "text": [
      "2018-01-21 21:08:57,349 INFO sqlalchemy.engine.base.Engine (57, 'abc', None)\n"
     ]
    },
    {
     "name": "stdout",
     "output_type": "stream",
     "text": [
      "2018-01-21 21:08:57,351 INFO sqlalchemy.engine.base.Engine INSERT INTO keywords (main_id, name, value) VALUES (?, ?, ?)\n"
     ]
    },
    {
     "name": "stdout",
     "output_type": "stream",
     "text": [
      "2018-01-21 21:08:57,354 INFO sqlalchemy.engine.base.Engine (57, 'ubi', None)\n"
     ]
    },
    {
     "name": "stdout",
     "output_type": "stream",
     "text": [
      "2018-01-21 21:08:57,355 INFO sqlalchemy.engine.base.Engine INSERT INTO keywords (main_id, name, value) VALUES (?, ?, ?)\n"
     ]
    },
    {
     "name": "stdout",
     "output_type": "stream",
     "text": [
      "2018-01-21 21:08:57,357 INFO sqlalchemy.engine.base.Engine (58, 'concentration', '1')\n"
     ]
    },
    {
     "name": "stdout",
     "output_type": "stream",
     "text": [
      "2018-01-21 21:08:57,358 INFO sqlalchemy.engine.base.Engine INSERT INTO keywords (main_id, name, value) VALUES (?, ?, ?)\n"
     ]
    },
    {
     "name": "stdout",
     "output_type": "stream",
     "text": [
      "2018-01-21 21:08:57,359 INFO sqlalchemy.engine.base.Engine (58, 'linker', 'b')\n"
     ]
    },
    {
     "name": "stdout",
     "output_type": "stream",
     "text": [
      "2018-01-21 21:08:57,361 INFO sqlalchemy.engine.base.Engine INSERT INTO keywords (main_id, name, value) VALUES (?, ?, ?)\n"
     ]
    },
    {
     "name": "stdout",
     "output_type": "stream",
     "text": [
      "2018-01-21 21:08:57,362 INFO sqlalchemy.engine.base.Engine (58, 'pic', None)\n"
     ]
    },
    {
     "name": "stdout",
     "output_type": "stream",
     "text": [
      "2018-01-21 21:08:57,365 INFO sqlalchemy.engine.base.Engine INSERT INTO keywords (main_id, name, value) VALUES (?, ?, ?)\n"
     ]
    },
    {
     "name": "stdout",
     "output_type": "stream",
     "text": [
      "2018-01-21 21:08:57,368 INFO sqlalchemy.engine.base.Engine (59, 'rna', None)\n"
     ]
    },
    {
     "name": "stdout",
     "output_type": "stream",
     "text": [
      "2018-01-21 21:08:57,369 INFO sqlalchemy.engine.base.Engine INSERT INTO keywords (main_id, name, value) VALUES (?, ?, ?)\n"
     ]
    },
    {
     "name": "stdout",
     "output_type": "stream",
     "text": [
      "2018-01-21 21:08:57,371 INFO sqlalchemy.engine.base.Engine (59, 'linker', 'c')\n"
     ]
    },
    {
     "name": "stdout",
     "output_type": "stream",
     "text": [
      "2018-01-21 21:08:57,375 INFO sqlalchemy.engine.base.Engine INSERT INTO keywords (main_id, name, value) VALUES (?, ?, ?)\n"
     ]
    },
    {
     "name": "stdout",
     "output_type": "stream",
     "text": [
      "2018-01-21 21:08:57,375 INFO sqlalchemy.engine.base.Engine (59, 'dna', None)\n"
     ]
    },
    {
     "name": "stdout",
     "output_type": "stream",
     "text": [
      "2018-01-21 21:08:57,378 INFO sqlalchemy.engine.base.Engine INSERT INTO keywords (main_id, name, value) VALUES (?, ?, ?)\n"
     ]
    },
    {
     "name": "stdout",
     "output_type": "stream",
     "text": [
      "2018-01-21 21:08:57,381 INFO sqlalchemy.engine.base.Engine (60, 'linker', 'c')\n"
     ]
    },
    {
     "name": "stdout",
     "output_type": "stream",
     "text": [
      "2018-01-21 21:08:57,384 INFO sqlalchemy.engine.base.Engine INSERT INTO keywords (main_id, name, value) VALUES (?, ?, ?)\n"
     ]
    },
    {
     "name": "stdout",
     "output_type": "stream",
     "text": [
      "2018-01-21 21:08:57,384 INFO sqlalchemy.engine.base.Engine (60, 'abc', None)\n"
     ]
    },
    {
     "name": "stdout",
     "output_type": "stream",
     "text": [
      "2018-01-21 21:08:57,387 INFO sqlalchemy.engine.base.Engine INSERT INTO keywords (main_id, name, value) VALUES (?, ?, ?)\n"
     ]
    },
    {
     "name": "stdout",
     "output_type": "stream",
     "text": [
      "2018-01-21 21:08:57,388 INFO sqlalchemy.engine.base.Engine (60, 'Temp', '300')\n"
     ]
    },
    {
     "name": "stdout",
     "output_type": "stream",
     "text": [
      "2018-01-21 21:08:57,388 INFO sqlalchemy.engine.base.Engine INSERT INTO keywords (main_id, name, value) VALUES (?, ?, ?)\n"
     ]
    },
    {
     "name": "stdout",
     "output_type": "stream",
     "text": [
      "2018-01-21 21:08:57,391 INFO sqlalchemy.engine.base.Engine (60, 'ubi', None)\n"
     ]
    },
    {
     "name": "stdout",
     "output_type": "stream",
     "text": [
      "2018-01-21 21:08:57,392 INFO sqlalchemy.engine.base.Engine INSERT INTO keywords (main_id, name, value) VALUES (?, ?, ?)\n"
     ]
    },
    {
     "name": "stdout",
     "output_type": "stream",
     "text": [
      "2018-01-21 21:08:57,394 INFO sqlalchemy.engine.base.Engine (61, 'surfactants', None)\n"
     ]
    },
    {
     "name": "stdout",
     "output_type": "stream",
     "text": [
      "2018-01-21 21:08:57,398 INFO sqlalchemy.engine.base.Engine INSERT INTO keywords (main_id, name, value) VALUES (?, ?, ?)\n"
     ]
    },
    {
     "name": "stdout",
     "output_type": "stream",
     "text": [
      "2018-01-21 21:08:57,398 INFO sqlalchemy.engine.base.Engine (61, 'pH', '7')\n"
     ]
    },
    {
     "name": "stdout",
     "output_type": "stream",
     "text": [
      "2018-01-21 21:08:57,401 INFO sqlalchemy.engine.base.Engine INSERT INTO keywords (main_id, name, value) VALUES (?, ?, ?)\n"
     ]
    },
    {
     "name": "stdout",
     "output_type": "stream",
     "text": [
      "2018-01-21 21:08:57,405 INFO sqlalchemy.engine.base.Engine (61, 'important', None)\n"
     ]
    },
    {
     "name": "stdout",
     "output_type": "stream",
     "text": [
      "2018-01-21 21:08:57,407 INFO sqlalchemy.engine.base.Engine INSERT INTO keywords (main_id, name, value) VALUES (?, ?, ?)\n"
     ]
    },
    {
     "name": "stdout",
     "output_type": "stream",
     "text": [
      "2018-01-21 21:08:57,408 INFO sqlalchemy.engine.base.Engine (61, 'Temp', '500')\n"
     ]
    },
    {
     "name": "stdout",
     "output_type": "stream",
     "text": [
      "2018-01-21 21:08:57,411 INFO sqlalchemy.engine.base.Engine INSERT INTO keywords (main_id, name, value) VALUES (?, ?, ?)\n"
     ]
    },
    {
     "name": "stdout",
     "output_type": "stream",
     "text": [
      "2018-01-21 21:08:57,411 INFO sqlalchemy.engine.base.Engine (62, 'pH', '8')\n"
     ]
    },
    {
     "name": "stdout",
     "output_type": "stream",
     "text": [
      "2018-01-21 21:08:57,414 INFO sqlalchemy.engine.base.Engine INSERT INTO keywords (main_id, name, value) VALUES (?, ?, ?)\n"
     ]
    },
    {
     "name": "stdout",
     "output_type": "stream",
     "text": [
      "2018-01-21 21:08:57,414 INFO sqlalchemy.engine.base.Engine (62, 'linker', 'd')\n"
     ]
    },
    {
     "name": "stdout",
     "output_type": "stream",
     "text": [
      "2018-01-21 21:08:57,417 INFO sqlalchemy.engine.base.Engine INSERT INTO keywords (main_id, name, value) VALUES (?, ?, ?)\n"
     ]
    },
    {
     "name": "stdout",
     "output_type": "stream",
     "text": [
      "2018-01-21 21:08:57,418 INFO sqlalchemy.engine.base.Engine (62, 'pic', None)\n"
     ]
    },
    {
     "name": "stdout",
     "output_type": "stream",
     "text": [
      "2018-01-21 21:08:57,420 INFO sqlalchemy.engine.base.Engine INSERT INTO keywords (main_id, name, value) VALUES (?, ?, ?)\n"
     ]
    },
    {
     "name": "stdout",
     "output_type": "stream",
     "text": [
      "2018-01-21 21:08:57,421 INFO sqlalchemy.engine.base.Engine (62, 'rna', None)\n"
     ]
    },
    {
     "name": "stdout",
     "output_type": "stream",
     "text": [
      "2018-01-21 21:08:57,423 INFO sqlalchemy.engine.base.Engine INSERT INTO keywords (main_id, name, value) VALUES (?, ?, ?)\n"
     ]
    },
    {
     "name": "stdout",
     "output_type": "stream",
     "text": [
      "2018-01-21 21:08:57,424 INFO sqlalchemy.engine.base.Engine (62, 'Temp', '300')\n"
     ]
    },
    {
     "name": "stdout",
     "output_type": "stream",
     "text": [
      "2018-01-21 21:08:57,426 INFO sqlalchemy.engine.base.Engine INSERT INTO keywords (main_id, name, value) VALUES (?, ?, ?)\n"
     ]
    },
    {
     "name": "stdout",
     "output_type": "stream",
     "text": [
      "2018-01-21 21:08:57,427 INFO sqlalchemy.engine.base.Engine (63, 'concentration', '1')\n"
     ]
    },
    {
     "name": "stdout",
     "output_type": "stream",
     "text": [
      "2018-01-21 21:08:57,428 INFO sqlalchemy.engine.base.Engine INSERT INTO keywords (main_id, name, value) VALUES (?, ?, ?)\n"
     ]
    },
    {
     "name": "stdout",
     "output_type": "stream",
     "text": [
      "2018-01-21 21:08:57,430 INFO sqlalchemy.engine.base.Engine (63, 'linker', 'c')\n"
     ]
    },
    {
     "name": "stdout",
     "output_type": "stream",
     "text": [
      "2018-01-21 21:08:57,434 INFO sqlalchemy.engine.base.Engine INSERT INTO keywords (main_id, name, value) VALUES (?, ?, ?)\n"
     ]
    },
    {
     "name": "stdout",
     "output_type": "stream",
     "text": [
      "2018-01-21 21:08:57,437 INFO sqlalchemy.engine.base.Engine (63, 'caco3', None)\n"
     ]
    },
    {
     "name": "stdout",
     "output_type": "stream",
     "text": [
      "2018-01-21 21:08:57,440 INFO sqlalchemy.engine.base.Engine INSERT INTO keywords (main_id, name, value) VALUES (?, ?, ?)\n"
     ]
    },
    {
     "name": "stdout",
     "output_type": "stream",
     "text": [
      "2018-01-21 21:08:57,440 INFO sqlalchemy.engine.base.Engine (63, 'abc', None)\n"
     ]
    },
    {
     "name": "stdout",
     "output_type": "stream",
     "text": [
      "2018-01-21 21:08:57,441 INFO sqlalchemy.engine.base.Engine INSERT INTO keywords (main_id, name, value) VALUES (?, ?, ?)\n"
     ]
    },
    {
     "name": "stdout",
     "output_type": "stream",
     "text": [
      "2018-01-21 21:08:57,444 INFO sqlalchemy.engine.base.Engine (63, 'ubi', None)\n"
     ]
    },
    {
     "name": "stdout",
     "output_type": "stream",
     "text": [
      "2018-01-21 21:08:57,444 INFO sqlalchemy.engine.base.Engine INSERT INTO keywords (main_id, name, value) VALUES (?, ?, ?)\n"
     ]
    },
    {
     "name": "stdout",
     "output_type": "stream",
     "text": [
      "2018-01-21 21:08:57,446 INFO sqlalchemy.engine.base.Engine (64, 'linker', 'b')\n"
     ]
    },
    {
     "name": "stdout",
     "output_type": "stream",
     "text": [
      "2018-01-21 21:08:57,447 INFO sqlalchemy.engine.base.Engine INSERT INTO keywords (main_id, name, value) VALUES (?, ?, ?)\n"
     ]
    },
    {
     "name": "stdout",
     "output_type": "stream",
     "text": [
      "2018-01-21 21:08:57,450 INFO sqlalchemy.engine.base.Engine (65, 'surfactants', None)\n"
     ]
    },
    {
     "name": "stdout",
     "output_type": "stream",
     "text": [
      "2018-01-21 21:08:57,451 INFO sqlalchemy.engine.base.Engine INSERT INTO keywords (main_id, name, value) VALUES (?, ?, ?)\n"
     ]
    },
    {
     "name": "stdout",
     "output_type": "stream",
     "text": [
      "2018-01-21 21:08:57,451 INFO sqlalchemy.engine.base.Engine (66, 'linker', 'b')\n"
     ]
    },
    {
     "name": "stdout",
     "output_type": "stream",
     "text": [
      "2018-01-21 21:08:57,453 INFO sqlalchemy.engine.base.Engine INSERT INTO keywords (main_id, name, value) VALUES (?, ?, ?)\n"
     ]
    },
    {
     "name": "stdout",
     "output_type": "stream",
     "text": [
      "2018-01-21 21:08:57,456 INFO sqlalchemy.engine.base.Engine (67, 'caco3', None)\n"
     ]
    },
    {
     "name": "stdout",
     "output_type": "stream",
     "text": [
      "2018-01-21 21:08:57,457 INFO sqlalchemy.engine.base.Engine INSERT INTO keywords (main_id, name, value) VALUES (?, ?, ?)\n"
     ]
    },
    {
     "name": "stdout",
     "output_type": "stream",
     "text": [
      "2018-01-21 21:08:57,459 INFO sqlalchemy.engine.base.Engine (67, 'concentration', '1')\n"
     ]
    },
    {
     "name": "stdout",
     "output_type": "stream",
     "text": [
      "2018-01-21 21:08:57,460 INFO sqlalchemy.engine.base.Engine INSERT INTO keywords (main_id, name, value) VALUES (?, ?, ?)\n"
     ]
    },
    {
     "name": "stdout",
     "output_type": "stream",
     "text": [
      "2018-01-21 21:08:57,461 INFO sqlalchemy.engine.base.Engine (67, 'important', None)\n"
     ]
    },
    {
     "name": "stdout",
     "output_type": "stream",
     "text": [
      "2018-01-21 21:08:57,463 INFO sqlalchemy.engine.base.Engine INSERT INTO keywords (main_id, name, value) VALUES (?, ?, ?)\n"
     ]
    },
    {
     "name": "stdout",
     "output_type": "stream",
     "text": [
      "2018-01-21 21:08:57,466 INFO sqlalchemy.engine.base.Engine (67, 'dna', None)\n"
     ]
    },
    {
     "name": "stdout",
     "output_type": "stream",
     "text": [
      "2018-01-21 21:08:57,469 INFO sqlalchemy.engine.base.Engine INSERT INTO keywords (main_id, name, value) VALUES (?, ?, ?)\n"
     ]
    },
    {
     "name": "stdout",
     "output_type": "stream",
     "text": [
      "2018-01-21 21:08:57,470 INFO sqlalchemy.engine.base.Engine (68, 'surfactants', None)\n"
     ]
    },
    {
     "name": "stdout",
     "output_type": "stream",
     "text": [
      "2018-01-21 21:08:57,473 INFO sqlalchemy.engine.base.Engine INSERT INTO keywords (main_id, name, value) VALUES (?, ?, ?)\n"
     ]
    },
    {
     "name": "stdout",
     "output_type": "stream",
     "text": [
      "2018-01-21 21:08:57,474 INFO sqlalchemy.engine.base.Engine (68, 'linker', 'b')\n"
     ]
    },
    {
     "name": "stdout",
     "output_type": "stream",
     "text": [
      "2018-01-21 21:08:57,476 INFO sqlalchemy.engine.base.Engine INSERT INTO keywords (main_id, name, value) VALUES (?, ?, ?)\n"
     ]
    },
    {
     "name": "stdout",
     "output_type": "stream",
     "text": [
      "2018-01-21 21:08:57,479 INFO sqlalchemy.engine.base.Engine (68, 'pic', None)\n"
     ]
    },
    {
     "name": "stdout",
     "output_type": "stream",
     "text": [
      "2018-01-21 21:08:57,480 INFO sqlalchemy.engine.base.Engine INSERT INTO keywords (main_id, name, value) VALUES (?, ?, ?)\n"
     ]
    },
    {
     "name": "stdout",
     "output_type": "stream",
     "text": [
      "2018-01-21 21:08:57,483 INFO sqlalchemy.engine.base.Engine (68, 'important', None)\n"
     ]
    },
    {
     "name": "stdout",
     "output_type": "stream",
     "text": [
      "2018-01-21 21:08:57,483 INFO sqlalchemy.engine.base.Engine INSERT INTO keywords (main_id, name, value) VALUES (?, ?, ?)\n"
     ]
    },
    {
     "name": "stdout",
     "output_type": "stream",
     "text": [
      "2018-01-21 21:08:57,486 INFO sqlalchemy.engine.base.Engine (69, 'pH', '9')\n"
     ]
    },
    {
     "name": "stdout",
     "output_type": "stream",
     "text": [
      "2018-01-21 21:08:57,489 INFO sqlalchemy.engine.base.Engine INSERT INTO keywords (main_id, name, value) VALUES (?, ?, ?)\n"
     ]
    },
    {
     "name": "stdout",
     "output_type": "stream",
     "text": [
      "2018-01-21 21:08:57,490 INFO sqlalchemy.engine.base.Engine (69, 'linker', 'a')\n"
     ]
    },
    {
     "name": "stdout",
     "output_type": "stream",
     "text": [
      "2018-01-21 21:08:57,493 INFO sqlalchemy.engine.base.Engine INSERT INTO keywords (main_id, name, value) VALUES (?, ?, ?)\n"
     ]
    },
    {
     "name": "stdout",
     "output_type": "stream",
     "text": [
      "2018-01-21 21:08:57,494 INFO sqlalchemy.engine.base.Engine (69, 'abc', None)\n"
     ]
    },
    {
     "name": "stdout",
     "output_type": "stream",
     "text": [
      "2018-01-21 21:08:57,496 INFO sqlalchemy.engine.base.Engine INSERT INTO keywords (main_id, name, value) VALUES (?, ?, ?)\n"
     ]
    },
    {
     "name": "stdout",
     "output_type": "stream",
     "text": [
      "2018-01-21 21:08:57,499 INFO sqlalchemy.engine.base.Engine (69, 'Temp', '300')\n"
     ]
    },
    {
     "name": "stdout",
     "output_type": "stream",
     "text": [
      "2018-01-21 21:08:57,502 INFO sqlalchemy.engine.base.Engine INSERT INTO keywords (main_id, name, value) VALUES (?, ?, ?)\n"
     ]
    },
    {
     "name": "stdout",
     "output_type": "stream",
     "text": [
      "2018-01-21 21:08:57,503 INFO sqlalchemy.engine.base.Engine (70, 'pic', None)\n"
     ]
    },
    {
     "name": "stdout",
     "output_type": "stream",
     "text": [
      "2018-01-21 21:08:57,505 INFO sqlalchemy.engine.base.Engine INSERT INTO keywords (main_id, name, value) VALUES (?, ?, ?)\n"
     ]
    },
    {
     "name": "stdout",
     "output_type": "stream",
     "text": [
      "2018-01-21 21:08:57,506 INFO sqlalchemy.engine.base.Engine (70, 'dna', None)\n"
     ]
    },
    {
     "name": "stdout",
     "output_type": "stream",
     "text": [
      "2018-01-21 21:08:57,507 INFO sqlalchemy.engine.base.Engine INSERT INTO keywords (main_id, name, value) VALUES (?, ?, ?)\n"
     ]
    },
    {
     "name": "stdout",
     "output_type": "stream",
     "text": [
      "2018-01-21 21:08:57,509 INFO sqlalchemy.engine.base.Engine (70, 'important', None)\n"
     ]
    },
    {
     "name": "stdout",
     "output_type": "stream",
     "text": [
      "2018-01-21 21:08:57,512 INFO sqlalchemy.engine.base.Engine INSERT INTO keywords (main_id, name, value) VALUES (?, ?, ?)\n"
     ]
    },
    {
     "name": "stdout",
     "output_type": "stream",
     "text": [
      "2018-01-21 21:08:57,513 INFO sqlalchemy.engine.base.Engine (71, 'pH', '8')\n"
     ]
    },
    {
     "name": "stdout",
     "output_type": "stream",
     "text": [
      "2018-01-21 21:08:57,515 INFO sqlalchemy.engine.base.Engine INSERT INTO keywords (main_id, name, value) VALUES (?, ?, ?)\n"
     ]
    },
    {
     "name": "stdout",
     "output_type": "stream",
     "text": [
      "2018-01-21 21:08:57,516 INFO sqlalchemy.engine.base.Engine (71, 'rna', None)\n"
     ]
    },
    {
     "name": "stdout",
     "output_type": "stream",
     "text": [
      "2018-01-21 21:08:57,519 INFO sqlalchemy.engine.base.Engine INSERT INTO keywords (main_id, name, value) VALUES (?, ?, ?)\n"
     ]
    },
    {
     "name": "stdout",
     "output_type": "stream",
     "text": [
      "2018-01-21 21:08:57,523 INFO sqlalchemy.engine.base.Engine (71, 'Temp', '300')\n"
     ]
    },
    {
     "name": "stdout",
     "output_type": "stream",
     "text": [
      "2018-01-21 21:08:57,525 INFO sqlalchemy.engine.base.Engine INSERT INTO keywords (main_id, name, value) VALUES (?, ?, ?)\n"
     ]
    },
    {
     "name": "stdout",
     "output_type": "stream",
     "text": [
      "2018-01-21 21:08:57,526 INFO sqlalchemy.engine.base.Engine (71, 'ubi', None)\n"
     ]
    },
    {
     "name": "stdout",
     "output_type": "stream",
     "text": [
      "2018-01-21 21:08:57,526 INFO sqlalchemy.engine.base.Engine INSERT INTO keywords (main_id, name, value) VALUES (?, ?, ?)\n"
     ]
    },
    {
     "name": "stdout",
     "output_type": "stream",
     "text": [
      "2018-01-21 21:08:57,528 INFO sqlalchemy.engine.base.Engine (72, 'pic', None)\n"
     ]
    },
    {
     "name": "stdout",
     "output_type": "stream",
     "text": [
      "2018-01-21 21:08:57,529 INFO sqlalchemy.engine.base.Engine INSERT INTO keywords (main_id, name, value) VALUES (?, ?, ?)\n"
     ]
    },
    {
     "name": "stdout",
     "output_type": "stream",
     "text": [
      "2018-01-21 21:08:57,532 INFO sqlalchemy.engine.base.Engine (72, 'caco3', None)\n"
     ]
    },
    {
     "name": "stdout",
     "output_type": "stream",
     "text": [
      "2018-01-21 21:08:57,535 INFO sqlalchemy.engine.base.Engine INSERT INTO keywords (main_id, name, value) VALUES (?, ?, ?)\n"
     ]
    },
    {
     "name": "stdout",
     "output_type": "stream",
     "text": [
      "2018-01-21 21:08:57,536 INFO sqlalchemy.engine.base.Engine (72, 'linker', 'c')\n"
     ]
    },
    {
     "name": "stdout",
     "output_type": "stream",
     "text": [
      "2018-01-21 21:08:57,539 INFO sqlalchemy.engine.base.Engine INSERT INTO keywords (main_id, name, value) VALUES (?, ?, ?)\n"
     ]
    },
    {
     "name": "stdout",
     "output_type": "stream",
     "text": [
      "2018-01-21 21:08:57,539 INFO sqlalchemy.engine.base.Engine (72, 'dna', None)\n"
     ]
    },
    {
     "name": "stdout",
     "output_type": "stream",
     "text": [
      "2018-01-21 21:08:57,542 INFO sqlalchemy.engine.base.Engine INSERT INTO keywords (main_id, name, value) VALUES (?, ?, ?)\n"
     ]
    },
    {
     "name": "stdout",
     "output_type": "stream",
     "text": [
      "2018-01-21 21:08:57,545 INFO sqlalchemy.engine.base.Engine (72, 'Temp', '300')\n"
     ]
    },
    {
     "name": "stdout",
     "output_type": "stream",
     "text": [
      "2018-01-21 21:08:57,546 INFO sqlalchemy.engine.base.Engine INSERT INTO keywords (main_id, name, value) VALUES (?, ?, ?)\n"
     ]
    },
    {
     "name": "stdout",
     "output_type": "stream",
     "text": [
      "2018-01-21 21:08:57,549 INFO sqlalchemy.engine.base.Engine (73, 'surfactants', None)\n"
     ]
    },
    {
     "name": "stdout",
     "output_type": "stream",
     "text": [
      "2018-01-21 21:08:57,552 INFO sqlalchemy.engine.base.Engine INSERT INTO keywords (main_id, name, value) VALUES (?, ?, ?)\n"
     ]
    },
    {
     "name": "stdout",
     "output_type": "stream",
     "text": [
      "2018-01-21 21:08:57,552 INFO sqlalchemy.engine.base.Engine (73, 'pH', '9')\n"
     ]
    },
    {
     "name": "stdout",
     "output_type": "stream",
     "text": [
      "2018-01-21 21:08:57,556 INFO sqlalchemy.engine.base.Engine INSERT INTO keywords (main_id, name, value) VALUES (?, ?, ?)\n"
     ]
    },
    {
     "name": "stdout",
     "output_type": "stream",
     "text": [
      "2018-01-21 21:08:57,559 INFO sqlalchemy.engine.base.Engine (73, 'pic', None)\n"
     ]
    },
    {
     "name": "stdout",
     "output_type": "stream",
     "text": [
      "2018-01-21 21:08:57,559 INFO sqlalchemy.engine.base.Engine INSERT INTO keywords (main_id, name, value) VALUES (?, ?, ?)\n"
     ]
    },
    {
     "name": "stdout",
     "output_type": "stream",
     "text": [
      "2018-01-21 21:08:57,562 INFO sqlalchemy.engine.base.Engine (73, 'dna', None)\n"
     ]
    },
    {
     "name": "stdout",
     "output_type": "stream",
     "text": [
      "2018-01-21 21:08:57,563 INFO sqlalchemy.engine.base.Engine INSERT INTO keywords (main_id, name, value) VALUES (?, ?, ?)\n"
     ]
    },
    {
     "name": "stdout",
     "output_type": "stream",
     "text": [
      "2018-01-21 21:08:57,565 INFO sqlalchemy.engine.base.Engine (74, 'rna', None)\n"
     ]
    },
    {
     "name": "stdout",
     "output_type": "stream",
     "text": [
      "2018-01-21 21:08:57,566 INFO sqlalchemy.engine.base.Engine INSERT INTO keywords (main_id, name, value) VALUES (?, ?, ?)\n"
     ]
    },
    {
     "name": "stdout",
     "output_type": "stream",
     "text": [
      "2018-01-21 21:08:57,569 INFO sqlalchemy.engine.base.Engine (74, 'pic', None)\n"
     ]
    },
    {
     "name": "stdout",
     "output_type": "stream",
     "text": [
      "2018-01-21 21:08:57,572 INFO sqlalchemy.engine.base.Engine INSERT INTO keywords (main_id, name, value) VALUES (?, ?, ?)\n"
     ]
    },
    {
     "name": "stdout",
     "output_type": "stream",
     "text": [
      "2018-01-21 21:08:57,573 INFO sqlalchemy.engine.base.Engine (74, 'Temp', '500')\n"
     ]
    },
    {
     "name": "stdout",
     "output_type": "stream",
     "text": [
      "2018-01-21 21:08:57,575 INFO sqlalchemy.engine.base.Engine INSERT INTO keywords (main_id, name, value) VALUES (?, ?, ?)\n"
     ]
    },
    {
     "name": "stdout",
     "output_type": "stream",
     "text": [
      "2018-01-21 21:08:57,575 INFO sqlalchemy.engine.base.Engine (75, 'concentration', '1')\n"
     ]
    },
    {
     "name": "stdout",
     "output_type": "stream",
     "text": [
      "2018-01-21 21:08:57,578 INFO sqlalchemy.engine.base.Engine INSERT INTO keywords (main_id, name, value) VALUES (?, ?, ?)\n"
     ]
    },
    {
     "name": "stdout",
     "output_type": "stream",
     "text": [
      "2018-01-21 21:08:57,578 INFO sqlalchemy.engine.base.Engine (75, 'linker', 'c')\n"
     ]
    },
    {
     "name": "stdout",
     "output_type": "stream",
     "text": [
      "2018-01-21 21:08:57,581 INFO sqlalchemy.engine.base.Engine INSERT INTO keywords (main_id, name, value) VALUES (?, ?, ?)\n"
     ]
    },
    {
     "name": "stdout",
     "output_type": "stream",
     "text": [
      "2018-01-21 21:08:57,582 INFO sqlalchemy.engine.base.Engine (76, 'pH', '8')\n"
     ]
    },
    {
     "name": "stdout",
     "output_type": "stream",
     "text": [
      "2018-01-21 21:08:57,585 INFO sqlalchemy.engine.base.Engine INSERT INTO keywords (main_id, name, value) VALUES (?, ?, ?)\n"
     ]
    },
    {
     "name": "stdout",
     "output_type": "stream",
     "text": [
      "2018-01-21 21:08:57,585 INFO sqlalchemy.engine.base.Engine (76, 'Temp', '500')\n"
     ]
    },
    {
     "name": "stdout",
     "output_type": "stream",
     "text": [
      "2018-01-21 21:08:57,588 INFO sqlalchemy.engine.base.Engine INSERT INTO keywords (main_id, name, value) VALUES (?, ?, ?)\n"
     ]
    },
    {
     "name": "stdout",
     "output_type": "stream",
     "text": [
      "2018-01-21 21:08:57,588 INFO sqlalchemy.engine.base.Engine (77, 'concentration', '1')\n"
     ]
    },
    {
     "name": "stdout",
     "output_type": "stream",
     "text": [
      "2018-01-21 21:08:57,591 INFO sqlalchemy.engine.base.Engine INSERT INTO keywords (main_id, name, value) VALUES (?, ?, ?)\n"
     ]
    },
    {
     "name": "stdout",
     "output_type": "stream",
     "text": [
      "2018-01-21 21:08:57,592 INFO sqlalchemy.engine.base.Engine (77, 'ubi', None)\n"
     ]
    },
    {
     "name": "stdout",
     "output_type": "stream",
     "text": [
      "2018-01-21 21:08:57,594 INFO sqlalchemy.engine.base.Engine INSERT INTO keywords (main_id, name, value) VALUES (?, ?, ?)\n"
     ]
    },
    {
     "name": "stdout",
     "output_type": "stream",
     "text": [
      "2018-01-21 21:08:57,595 INFO sqlalchemy.engine.base.Engine (77, 'Temp', '500')\n"
     ]
    },
    {
     "name": "stdout",
     "output_type": "stream",
     "text": [
      "2018-01-21 21:08:57,598 INFO sqlalchemy.engine.base.Engine INSERT INTO keywords (main_id, name, value) VALUES (?, ?, ?)\n"
     ]
    },
    {
     "name": "stdout",
     "output_type": "stream",
     "text": [
      "2018-01-21 21:08:57,599 INFO sqlalchemy.engine.base.Engine (78, 'pH', '9')\n"
     ]
    },
    {
     "name": "stdout",
     "output_type": "stream",
     "text": [
      "2018-01-21 21:08:57,601 INFO sqlalchemy.engine.base.Engine INSERT INTO keywords (main_id, name, value) VALUES (?, ?, ?)\n"
     ]
    },
    {
     "name": "stdout",
     "output_type": "stream",
     "text": [
      "2018-01-21 21:08:57,601 INFO sqlalchemy.engine.base.Engine (78, 'abc', None)\n"
     ]
    },
    {
     "name": "stdout",
     "output_type": "stream",
     "text": [
      "2018-01-21 21:08:57,602 INFO sqlalchemy.engine.base.Engine INSERT INTO keywords (main_id, name, value) VALUES (?, ?, ?)\n"
     ]
    },
    {
     "name": "stdout",
     "output_type": "stream",
     "text": [
      "2018-01-21 21:08:57,605 INFO sqlalchemy.engine.base.Engine (78, 'Temp', '300')\n"
     ]
    },
    {
     "name": "stdout",
     "output_type": "stream",
     "text": [
      "2018-01-21 21:08:57,605 INFO sqlalchemy.engine.base.Engine INSERT INTO keywords (main_id, name, value) VALUES (?, ?, ?)\n"
     ]
    },
    {
     "name": "stdout",
     "output_type": "stream",
     "text": [
      "2018-01-21 21:08:57,608 INFO sqlalchemy.engine.base.Engine (79, 'pH', '7')\n"
     ]
    },
    {
     "name": "stdout",
     "output_type": "stream",
     "text": [
      "2018-01-21 21:08:57,609 INFO sqlalchemy.engine.base.Engine INSERT INTO keywords (main_id, name, value) VALUES (?, ?, ?)\n"
     ]
    },
    {
     "name": "stdout",
     "output_type": "stream",
     "text": [
      "2018-01-21 21:08:57,611 INFO sqlalchemy.engine.base.Engine (79, 'important', None)\n"
     ]
    },
    {
     "name": "stdout",
     "output_type": "stream",
     "text": [
      "2018-01-21 21:08:57,612 INFO sqlalchemy.engine.base.Engine INSERT INTO keywords (main_id, name, value) VALUES (?, ?, ?)\n"
     ]
    },
    {
     "name": "stdout",
     "output_type": "stream",
     "text": [
      "2018-01-21 21:08:57,614 INFO sqlalchemy.engine.base.Engine (79, 'dna', None)\n"
     ]
    },
    {
     "name": "stdout",
     "output_type": "stream",
     "text": [
      "2018-01-21 21:08:57,615 INFO sqlalchemy.engine.base.Engine INSERT INTO keywords (main_id, name, value) VALUES (?, ?, ?)\n"
     ]
    },
    {
     "name": "stdout",
     "output_type": "stream",
     "text": [
      "2018-01-21 21:08:57,618 INFO sqlalchemy.engine.base.Engine (79, 'abc', None)\n"
     ]
    },
    {
     "name": "stdout",
     "output_type": "stream",
     "text": [
      "2018-01-21 21:08:57,619 INFO sqlalchemy.engine.base.Engine INSERT INTO keywords (main_id, name, value) VALUES (?, ?, ?)\n"
     ]
    },
    {
     "name": "stdout",
     "output_type": "stream",
     "text": [
      "2018-01-21 21:08:57,621 INFO sqlalchemy.engine.base.Engine (79, 'Temp', '500')\n"
     ]
    },
    {
     "name": "stdout",
     "output_type": "stream",
     "text": [
      "2018-01-21 21:08:57,621 INFO sqlalchemy.engine.base.Engine INSERT INTO keywords (main_id, name, value) VALUES (?, ?, ?)\n"
     ]
    },
    {
     "name": "stdout",
     "output_type": "stream",
     "text": [
      "2018-01-21 21:08:57,624 INFO sqlalchemy.engine.base.Engine (80, 'rna', None)\n"
     ]
    },
    {
     "name": "stdout",
     "output_type": "stream",
     "text": [
      "2018-01-21 21:08:57,625 INFO sqlalchemy.engine.base.Engine INSERT INTO keywords (main_id, name, value) VALUES (?, ?, ?)\n"
     ]
    },
    {
     "name": "stdout",
     "output_type": "stream",
     "text": [
      "2018-01-21 21:08:57,627 INFO sqlalchemy.engine.base.Engine (80, 'Temp', '500')\n"
     ]
    },
    {
     "name": "stdout",
     "output_type": "stream",
     "text": [
      "2018-01-21 21:08:57,628 INFO sqlalchemy.engine.base.Engine INSERT INTO keywords (main_id, name, value) VALUES (?, ?, ?)\n"
     ]
    },
    {
     "name": "stdout",
     "output_type": "stream",
     "text": [
      "2018-01-21 21:08:57,631 INFO sqlalchemy.engine.base.Engine (81, 'pic', None)\n"
     ]
    },
    {
     "name": "stdout",
     "output_type": "stream",
     "text": [
      "2018-01-21 21:08:57,634 INFO sqlalchemy.engine.base.Engine INSERT INTO keywords (main_id, name, value) VALUES (?, ?, ?)\n"
     ]
    },
    {
     "name": "stdout",
     "output_type": "stream",
     "text": [
      "2018-01-21 21:08:57,634 INFO sqlalchemy.engine.base.Engine (81, 'caco3', None)\n"
     ]
    },
    {
     "name": "stdout",
     "output_type": "stream",
     "text": [
      "2018-01-21 21:08:57,635 INFO sqlalchemy.engine.base.Engine INSERT INTO keywords (main_id, name, value) VALUES (?, ?, ?)\n"
     ]
    },
    {
     "name": "stdout",
     "output_type": "stream",
     "text": [
      "2018-01-21 21:08:57,638 INFO sqlalchemy.engine.base.Engine (82, 'concentration', '1')\n"
     ]
    },
    {
     "name": "stdout",
     "output_type": "stream",
     "text": [
      "2018-01-21 21:08:57,638 INFO sqlalchemy.engine.base.Engine INSERT INTO keywords (main_id, name, value) VALUES (?, ?, ?)\n"
     ]
    },
    {
     "name": "stdout",
     "output_type": "stream",
     "text": [
      "2018-01-21 21:08:57,641 INFO sqlalchemy.engine.base.Engine (82, 'linker', 'a')\n"
     ]
    },
    {
     "name": "stdout",
     "output_type": "stream",
     "text": [
      "2018-01-21 21:08:57,642 INFO sqlalchemy.engine.base.Engine INSERT INTO keywords (main_id, name, value) VALUES (?, ?, ?)\n"
     ]
    },
    {
     "name": "stdout",
     "output_type": "stream",
     "text": [
      "2018-01-21 21:08:57,644 INFO sqlalchemy.engine.base.Engine (82, 'rna', None)\n"
     ]
    },
    {
     "name": "stdout",
     "output_type": "stream",
     "text": [
      "2018-01-21 21:08:57,645 INFO sqlalchemy.engine.base.Engine INSERT INTO keywords (main_id, name, value) VALUES (?, ?, ?)\n"
     ]
    },
    {
     "name": "stdout",
     "output_type": "stream",
     "text": [
      "2018-01-21 21:08:57,647 INFO sqlalchemy.engine.base.Engine (82, 'pH', '9')\n"
     ]
    },
    {
     "name": "stdout",
     "output_type": "stream",
     "text": [
      "2018-01-21 21:08:57,648 INFO sqlalchemy.engine.base.Engine INSERT INTO keywords (main_id, name, value) VALUES (?, ?, ?)\n"
     ]
    },
    {
     "name": "stdout",
     "output_type": "stream",
     "text": [
      "2018-01-21 21:08:57,650 INFO sqlalchemy.engine.base.Engine (83, 'surfactants', None)\n"
     ]
    },
    {
     "name": "stdout",
     "output_type": "stream",
     "text": [
      "2018-01-21 21:08:57,653 INFO sqlalchemy.engine.base.Engine INSERT INTO keywords (main_id, name, value) VALUES (?, ?, ?)\n"
     ]
    },
    {
     "name": "stdout",
     "output_type": "stream",
     "text": [
      "2018-01-21 21:08:57,654 INFO sqlalchemy.engine.base.Engine (83, 'rna', None)\n"
     ]
    },
    {
     "name": "stdout",
     "output_type": "stream",
     "text": [
      "2018-01-21 21:08:57,655 INFO sqlalchemy.engine.base.Engine INSERT INTO keywords (main_id, name, value) VALUES (?, ?, ?)\n"
     ]
    },
    {
     "name": "stdout",
     "output_type": "stream",
     "text": [
      "2018-01-21 21:08:57,657 INFO sqlalchemy.engine.base.Engine (83, 'linker', 'd')\n"
     ]
    },
    {
     "name": "stdout",
     "output_type": "stream",
     "text": [
      "2018-01-21 21:08:57,658 INFO sqlalchemy.engine.base.Engine INSERT INTO keywords (main_id, name, value) VALUES (?, ?, ?)\n"
     ]
    },
    {
     "name": "stdout",
     "output_type": "stream",
     "text": [
      "2018-01-21 21:08:57,660 INFO sqlalchemy.engine.base.Engine (83, 'pic', None)\n"
     ]
    },
    {
     "name": "stdout",
     "output_type": "stream",
     "text": [
      "2018-01-21 21:08:57,661 INFO sqlalchemy.engine.base.Engine INSERT INTO keywords (main_id, name, value) VALUES (?, ?, ?)\n"
     ]
    },
    {
     "name": "stdout",
     "output_type": "stream",
     "text": [
      "2018-01-21 21:08:57,664 INFO sqlalchemy.engine.base.Engine (83, 'Temp', '500')\n"
     ]
    },
    {
     "name": "stdout",
     "output_type": "stream",
     "text": [
      "2018-01-21 21:08:57,665 INFO sqlalchemy.engine.base.Engine INSERT INTO keywords (main_id, name, value) VALUES (?, ?, ?)\n"
     ]
    },
    {
     "name": "stdout",
     "output_type": "stream",
     "text": [
      "2018-01-21 21:08:57,671 INFO sqlalchemy.engine.base.Engine (84, 'pH', '8')\n"
     ]
    },
    {
     "name": "stdout",
     "output_type": "stream",
     "text": [
      "2018-01-21 21:08:57,674 INFO sqlalchemy.engine.base.Engine INSERT INTO keywords (main_id, name, value) VALUES (?, ?, ?)\n"
     ]
    },
    {
     "name": "stdout",
     "output_type": "stream",
     "text": [
      "2018-01-21 21:08:57,677 INFO sqlalchemy.engine.base.Engine (84, 'linker', 'd')\n"
     ]
    },
    {
     "name": "stdout",
     "output_type": "stream",
     "text": [
      "2018-01-21 21:08:57,680 INFO sqlalchemy.engine.base.Engine INSERT INTO keywords (main_id, name, value) VALUES (?, ?, ?)\n"
     ]
    },
    {
     "name": "stdout",
     "output_type": "stream",
     "text": [
      "2018-01-21 21:08:57,684 INFO sqlalchemy.engine.base.Engine (84, 'ubi', None)\n"
     ]
    },
    {
     "name": "stdout",
     "output_type": "stream",
     "text": [
      "2018-01-21 21:08:57,686 INFO sqlalchemy.engine.base.Engine INSERT INTO keywords (main_id, name, value) VALUES (?, ?, ?)\n"
     ]
    },
    {
     "name": "stdout",
     "output_type": "stream",
     "text": [
      "2018-01-21 21:08:57,687 INFO sqlalchemy.engine.base.Engine (85, 'important', None)\n"
     ]
    },
    {
     "name": "stdout",
     "output_type": "stream",
     "text": [
      "2018-01-21 21:08:57,690 INFO sqlalchemy.engine.base.Engine INSERT INTO keywords (main_id, name, value) VALUES (?, ?, ?)\n"
     ]
    },
    {
     "name": "stdout",
     "output_type": "stream",
     "text": [
      "2018-01-21 21:08:57,691 INFO sqlalchemy.engine.base.Engine (86, 'concentration', '1')\n"
     ]
    },
    {
     "name": "stdout",
     "output_type": "stream",
     "text": [
      "2018-01-21 21:08:57,694 INFO sqlalchemy.engine.base.Engine INSERT INTO keywords (main_id, name, value) VALUES (?, ?, ?)\n"
     ]
    },
    {
     "name": "stdout",
     "output_type": "stream",
     "text": [
      "2018-01-21 21:08:57,697 INFO sqlalchemy.engine.base.Engine (86, 'Temp', '300')\n"
     ]
    },
    {
     "name": "stdout",
     "output_type": "stream",
     "text": [
      "2018-01-21 21:08:57,697 INFO sqlalchemy.engine.base.Engine INSERT INTO keywords (main_id, name, value) VALUES (?, ?, ?)\n"
     ]
    },
    {
     "name": "stdout",
     "output_type": "stream",
     "text": [
      "2018-01-21 21:08:57,700 INFO sqlalchemy.engine.base.Engine (87, 'concentration', '1')\n"
     ]
    },
    {
     "name": "stdout",
     "output_type": "stream",
     "text": [
      "2018-01-21 21:08:57,700 INFO sqlalchemy.engine.base.Engine INSERT INTO keywords (main_id, name, value) VALUES (?, ?, ?)\n"
     ]
    },
    {
     "name": "stdout",
     "output_type": "stream",
     "text": [
      "2018-01-21 21:08:57,703 INFO sqlalchemy.engine.base.Engine (87, 'linker', 'd')\n"
     ]
    },
    {
     "name": "stdout",
     "output_type": "stream",
     "text": [
      "2018-01-21 21:08:57,704 INFO sqlalchemy.engine.base.Engine INSERT INTO keywords (main_id, name, value) VALUES (?, ?, ?)\n"
     ]
    },
    {
     "name": "stdout",
     "output_type": "stream",
     "text": [
      "2018-01-21 21:08:57,707 INFO sqlalchemy.engine.base.Engine (87, 'dna', None)\n"
     ]
    },
    {
     "name": "stdout",
     "output_type": "stream",
     "text": [
      "2018-01-21 21:08:57,707 INFO sqlalchemy.engine.base.Engine INSERT INTO keywords (main_id, name, value) VALUES (?, ?, ?)\n"
     ]
    },
    {
     "name": "stdout",
     "output_type": "stream",
     "text": [
      "2018-01-21 21:08:57,710 INFO sqlalchemy.engine.base.Engine (87, 'pH', '9')\n"
     ]
    },
    {
     "name": "stdout",
     "output_type": "stream",
     "text": [
      "2018-01-21 21:08:57,714 INFO sqlalchemy.engine.base.Engine INSERT INTO keywords (main_id, name, value) VALUES (?, ?, ?)\n"
     ]
    },
    {
     "name": "stdout",
     "output_type": "stream",
     "text": [
      "2018-01-21 21:08:57,717 INFO sqlalchemy.engine.base.Engine (87, 'important', None)\n"
     ]
    },
    {
     "name": "stdout",
     "output_type": "stream",
     "text": [
      "2018-01-21 21:08:57,720 INFO sqlalchemy.engine.base.Engine INSERT INTO keywords (main_id, name, value) VALUES (?, ?, ?)\n"
     ]
    },
    {
     "name": "stdout",
     "output_type": "stream",
     "text": [
      "2018-01-21 21:08:57,723 INFO sqlalchemy.engine.base.Engine (88, 'pH', '8')\n"
     ]
    },
    {
     "name": "stdout",
     "output_type": "stream",
     "text": [
      "2018-01-21 21:08:57,723 INFO sqlalchemy.engine.base.Engine INSERT INTO keywords (main_id, name, value) VALUES (?, ?, ?)\n"
     ]
    },
    {
     "name": "stdout",
     "output_type": "stream",
     "text": [
      "2018-01-21 21:08:57,726 INFO sqlalchemy.engine.base.Engine (88, 'important', None)\n"
     ]
    },
    {
     "name": "stdout",
     "output_type": "stream",
     "text": [
      "2018-01-21 21:08:57,727 INFO sqlalchemy.engine.base.Engine INSERT INTO keywords (main_id, name, value) VALUES (?, ?, ?)\n"
     ]
    },
    {
     "name": "stdout",
     "output_type": "stream",
     "text": [
      "2018-01-21 21:08:57,729 INFO sqlalchemy.engine.base.Engine (89, 'important', None)\n"
     ]
    },
    {
     "name": "stdout",
     "output_type": "stream",
     "text": [
      "2018-01-21 21:08:57,730 INFO sqlalchemy.engine.base.Engine INSERT INTO keywords (main_id, name, value) VALUES (?, ?, ?)\n"
     ]
    },
    {
     "name": "stdout",
     "output_type": "stream",
     "text": [
      "2018-01-21 21:08:57,733 INFO sqlalchemy.engine.base.Engine (89, 'dna', None)\n"
     ]
    },
    {
     "name": "stdout",
     "output_type": "stream",
     "text": [
      "2018-01-21 21:08:57,736 INFO sqlalchemy.engine.base.Engine INSERT INTO keywords (main_id, name, value) VALUES (?, ?, ?)\n"
     ]
    },
    {
     "name": "stdout",
     "output_type": "stream",
     "text": [
      "2018-01-21 21:08:57,737 INFO sqlalchemy.engine.base.Engine (89, 'ubi', None)\n"
     ]
    },
    {
     "name": "stdout",
     "output_type": "stream",
     "text": [
      "2018-01-21 21:08:57,740 INFO sqlalchemy.engine.base.Engine INSERT INTO keywords (main_id, name, value) VALUES (?, ?, ?)\n"
     ]
    },
    {
     "name": "stdout",
     "output_type": "stream",
     "text": [
      "2018-01-21 21:08:57,740 INFO sqlalchemy.engine.base.Engine (91, 'surfactants', None)\n"
     ]
    },
    {
     "name": "stdout",
     "output_type": "stream",
     "text": [
      "2018-01-21 21:08:57,742 INFO sqlalchemy.engine.base.Engine INSERT INTO keywords (main_id, name, value) VALUES (?, ?, ?)\n"
     ]
    },
    {
     "name": "stdout",
     "output_type": "stream",
     "text": [
      "2018-01-21 21:08:57,743 INFO sqlalchemy.engine.base.Engine (91, 'pic', None)\n"
     ]
    },
    {
     "name": "stdout",
     "output_type": "stream",
     "text": [
      "2018-01-21 21:08:57,744 INFO sqlalchemy.engine.base.Engine INSERT INTO keywords (main_id, name, value) VALUES (?, ?, ?)\n"
     ]
    },
    {
     "name": "stdout",
     "output_type": "stream",
     "text": [
      "2018-01-21 21:08:57,746 INFO sqlalchemy.engine.base.Engine (91, 'ubi', None)\n"
     ]
    },
    {
     "name": "stdout",
     "output_type": "stream",
     "text": [
      "2018-01-21 21:08:57,747 INFO sqlalchemy.engine.base.Engine INSERT INTO keywords (main_id, name, value) VALUES (?, ?, ?)\n"
     ]
    },
    {
     "name": "stdout",
     "output_type": "stream",
     "text": [
      "2018-01-21 21:08:57,750 INFO sqlalchemy.engine.base.Engine (91, 'Temp', '300')\n"
     ]
    },
    {
     "name": "stdout",
     "output_type": "stream",
     "text": [
      "2018-01-21 21:08:57,752 INFO sqlalchemy.engine.base.Engine INSERT INTO keywords (main_id, name, value) VALUES (?, ?, ?)\n"
     ]
    },
    {
     "name": "stdout",
     "output_type": "stream",
     "text": [
      "2018-01-21 21:08:57,753 INFO sqlalchemy.engine.base.Engine (92, 'surfactants', None)\n"
     ]
    },
    {
     "name": "stdout",
     "output_type": "stream",
     "text": [
      "2018-01-21 21:08:57,755 INFO sqlalchemy.engine.base.Engine INSERT INTO keywords (main_id, name, value) VALUES (?, ?, ?)\n"
     ]
    },
    {
     "name": "stdout",
     "output_type": "stream",
     "text": [
      "2018-01-21 21:08:57,756 INFO sqlalchemy.engine.base.Engine (92, 'rna', None)\n"
     ]
    },
    {
     "name": "stdout",
     "output_type": "stream",
     "text": [
      "2018-01-21 21:08:57,756 INFO sqlalchemy.engine.base.Engine INSERT INTO keywords (main_id, name, value) VALUES (?, ?, ?)\n"
     ]
    },
    {
     "name": "stdout",
     "output_type": "stream",
     "text": [
      "2018-01-21 21:08:57,760 INFO sqlalchemy.engine.base.Engine (92, 'linker', 'a')\n"
     ]
    },
    {
     "name": "stdout",
     "output_type": "stream",
     "text": [
      "2018-01-21 21:08:57,765 INFO sqlalchemy.engine.base.Engine INSERT INTO keywords (main_id, name, value) VALUES (?, ?, ?)\n"
     ]
    },
    {
     "name": "stdout",
     "output_type": "stream",
     "text": [
      "2018-01-21 21:08:57,767 INFO sqlalchemy.engine.base.Engine (92, 'caco3', None)\n"
     ]
    },
    {
     "name": "stdout",
     "output_type": "stream",
     "text": [
      "2018-01-21 21:08:57,769 INFO sqlalchemy.engine.base.Engine INSERT INTO keywords (main_id, name, value) VALUES (?, ?, ?)\n"
     ]
    },
    {
     "name": "stdout",
     "output_type": "stream",
     "text": [
      "2018-01-21 21:08:57,770 INFO sqlalchemy.engine.base.Engine (92, 'dna', None)\n"
     ]
    },
    {
     "name": "stdout",
     "output_type": "stream",
     "text": [
      "2018-01-21 21:08:57,773 INFO sqlalchemy.engine.base.Engine INSERT INTO keywords (main_id, name, value) VALUES (?, ?, ?)\n"
     ]
    },
    {
     "name": "stdout",
     "output_type": "stream",
     "text": [
      "2018-01-21 21:08:57,776 INFO sqlalchemy.engine.base.Engine (93, 'pH', '7')\n"
     ]
    },
    {
     "name": "stdout",
     "output_type": "stream",
     "text": [
      "2018-01-21 21:08:57,778 INFO sqlalchemy.engine.base.Engine INSERT INTO keywords (main_id, name, value) VALUES (?, ?, ?)\n"
     ]
    },
    {
     "name": "stdout",
     "output_type": "stream",
     "text": [
      "2018-01-21 21:08:57,782 INFO sqlalchemy.engine.base.Engine (93, 'dna', None)\n"
     ]
    },
    {
     "name": "stdout",
     "output_type": "stream",
     "text": [
      "2018-01-21 21:08:57,783 INFO sqlalchemy.engine.base.Engine INSERT INTO keywords (main_id, name, value) VALUES (?, ?, ?)\n"
     ]
    },
    {
     "name": "stdout",
     "output_type": "stream",
     "text": [
      "2018-01-21 21:08:57,786 INFO sqlalchemy.engine.base.Engine (93, 'rna', None)\n"
     ]
    },
    {
     "name": "stdout",
     "output_type": "stream",
     "text": [
      "2018-01-21 21:08:57,788 INFO sqlalchemy.engine.base.Engine INSERT INTO keywords (main_id, name, value) VALUES (?, ?, ?)\n"
     ]
    },
    {
     "name": "stdout",
     "output_type": "stream",
     "text": [
      "2018-01-21 21:08:57,789 INFO sqlalchemy.engine.base.Engine (94, 'rna', None)\n"
     ]
    },
    {
     "name": "stdout",
     "output_type": "stream",
     "text": [
      "2018-01-21 21:08:57,792 INFO sqlalchemy.engine.base.Engine INSERT INTO keywords (main_id, name, value) VALUES (?, ?, ?)\n"
     ]
    },
    {
     "name": "stdout",
     "output_type": "stream",
     "text": [
      "2018-01-21 21:08:57,793 INFO sqlalchemy.engine.base.Engine (94, 'pic', None)\n"
     ]
    },
    {
     "name": "stdout",
     "output_type": "stream",
     "text": [
      "2018-01-21 21:08:57,796 INFO sqlalchemy.engine.base.Engine INSERT INTO keywords (main_id, name, value) VALUES (?, ?, ?)\n"
     ]
    },
    {
     "name": "stdout",
     "output_type": "stream",
     "text": [
      "2018-01-21 21:08:57,796 INFO sqlalchemy.engine.base.Engine (95, 'pH', '8')\n"
     ]
    },
    {
     "name": "stdout",
     "output_type": "stream",
     "text": [
      "2018-01-21 21:08:57,802 INFO sqlalchemy.engine.base.Engine INSERT INTO keywords (main_id, name, value) VALUES (?, ?, ?)\n"
     ]
    },
    {
     "name": "stdout",
     "output_type": "stream",
     "text": [
      "2018-01-21 21:08:57,802 INFO sqlalchemy.engine.base.Engine (95, 'linker', 'c')\n"
     ]
    },
    {
     "name": "stdout",
     "output_type": "stream",
     "text": [
      "2018-01-21 21:08:57,806 INFO sqlalchemy.engine.base.Engine INSERT INTO keywords (main_id, name, value) VALUES (?, ?, ?)\n"
     ]
    },
    {
     "name": "stdout",
     "output_type": "stream",
     "text": [
      "2018-01-21 21:08:57,809 INFO sqlalchemy.engine.base.Engine (95, 'Temp', '300')\n"
     ]
    },
    {
     "name": "stdout",
     "output_type": "stream",
     "text": [
      "2018-01-21 21:08:57,812 INFO sqlalchemy.engine.base.Engine INSERT INTO keywords (main_id, name, value) VALUES (?, ?, ?)\n"
     ]
    },
    {
     "name": "stdout",
     "output_type": "stream",
     "text": [
      "2018-01-21 21:08:57,813 INFO sqlalchemy.engine.base.Engine (96, 'concentration', '1')\n"
     ]
    },
    {
     "name": "stdout",
     "output_type": "stream",
     "text": [
      "2018-01-21 21:08:57,816 INFO sqlalchemy.engine.base.Engine INSERT INTO keywords (main_id, name, value) VALUES (?, ?, ?)\n"
     ]
    },
    {
     "name": "stdout",
     "output_type": "stream",
     "text": [
      "2018-01-21 21:08:57,819 INFO sqlalchemy.engine.base.Engine (96, 'linker', 'd')\n"
     ]
    },
    {
     "name": "stdout",
     "output_type": "stream",
     "text": [
      "2018-01-21 21:08:57,821 INFO sqlalchemy.engine.base.Engine INSERT INTO keywords (main_id, name, value) VALUES (?, ?, ?)\n"
     ]
    },
    {
     "name": "stdout",
     "output_type": "stream",
     "text": [
      "2018-01-21 21:08:57,823 INFO sqlalchemy.engine.base.Engine (96, 'dna', None)\n"
     ]
    },
    {
     "name": "stdout",
     "output_type": "stream",
     "text": [
      "2018-01-21 21:08:57,825 INFO sqlalchemy.engine.base.Engine INSERT INTO keywords (main_id, name, value) VALUES (?, ?, ?)\n"
     ]
    },
    {
     "name": "stdout",
     "output_type": "stream",
     "text": [
      "2018-01-21 21:08:57,828 INFO sqlalchemy.engine.base.Engine (97, 'rna', None)\n"
     ]
    },
    {
     "name": "stdout",
     "output_type": "stream",
     "text": [
      "2018-01-21 21:08:57,828 INFO sqlalchemy.engine.base.Engine INSERT INTO keywords (main_id, name, value) VALUES (?, ?, ?)\n"
     ]
    },
    {
     "name": "stdout",
     "output_type": "stream",
     "text": [
      "2018-01-21 21:08:57,829 INFO sqlalchemy.engine.base.Engine (97, 'dna', None)\n"
     ]
    },
    {
     "name": "stdout",
     "output_type": "stream",
     "text": [
      "2018-01-21 21:08:57,832 INFO sqlalchemy.engine.base.Engine INSERT INTO keywords (main_id, name, value) VALUES (?, ?, ?)\n"
     ]
    },
    {
     "name": "stdout",
     "output_type": "stream",
     "text": [
      "2018-01-21 21:08:57,834 INFO sqlalchemy.engine.base.Engine (97, 'Temp', '300')\n"
     ]
    },
    {
     "name": "stdout",
     "output_type": "stream",
     "text": [
      "2018-01-21 21:08:57,835 INFO sqlalchemy.engine.base.Engine INSERT INTO keywords (main_id, name, value) VALUES (?, ?, ?)\n"
     ]
    },
    {
     "name": "stdout",
     "output_type": "stream",
     "text": [
      "2018-01-21 21:08:57,838 INFO sqlalchemy.engine.base.Engine (98, 'surfactants', None)\n"
     ]
    },
    {
     "name": "stdout",
     "output_type": "stream",
     "text": [
      "2018-01-21 21:08:57,838 INFO sqlalchemy.engine.base.Engine INSERT INTO keywords (main_id, name, value) VALUES (?, ?, ?)\n"
     ]
    },
    {
     "name": "stdout",
     "output_type": "stream",
     "text": [
      "2018-01-21 21:08:57,839 INFO sqlalchemy.engine.base.Engine (98, 'pH', '7')\n"
     ]
    },
    {
     "name": "stdout",
     "output_type": "stream",
     "text": [
      "2018-01-21 21:08:57,842 INFO sqlalchemy.engine.base.Engine INSERT INTO keywords (main_id, name, value) VALUES (?, ?, ?)\n"
     ]
    },
    {
     "name": "stdout",
     "output_type": "stream",
     "text": [
      "2018-01-21 21:08:57,842 INFO sqlalchemy.engine.base.Engine (98, 'linker', 'b')\n"
     ]
    },
    {
     "name": "stdout",
     "output_type": "stream",
     "text": [
      "2018-01-21 21:08:57,845 INFO sqlalchemy.engine.base.Engine INSERT INTO keywords (main_id, name, value) VALUES (?, ?, ?)\n"
     ]
    },
    {
     "name": "stdout",
     "output_type": "stream",
     "text": [
      "2018-01-21 21:08:57,848 INFO sqlalchemy.engine.base.Engine (98, 'pic', None)\n"
     ]
    },
    {
     "name": "stdout",
     "output_type": "stream",
     "text": [
      "2018-01-21 21:08:57,849 INFO sqlalchemy.engine.base.Engine INSERT INTO keywords (main_id, name, value) VALUES (?, ?, ?)\n"
     ]
    },
    {
     "name": "stdout",
     "output_type": "stream",
     "text": [
      "2018-01-21 21:08:57,851 INFO sqlalchemy.engine.base.Engine (98, 'ubi', None)\n"
     ]
    },
    {
     "name": "stdout",
     "output_type": "stream",
     "text": [
      "2018-01-21 21:08:57,854 INFO sqlalchemy.engine.base.Engine INSERT INTO keywords (main_id, name, value) VALUES (?, ?, ?)\n"
     ]
    },
    {
     "name": "stdout",
     "output_type": "stream",
     "text": [
      "2018-01-21 21:08:57,855 INFO sqlalchemy.engine.base.Engine (99, 'dna', None)\n"
     ]
    },
    {
     "name": "stdout",
     "output_type": "stream",
     "text": [
      "2018-01-21 21:08:57,857 INFO sqlalchemy.engine.base.Engine INSERT INTO keywords (main_id, name, value) VALUES (?, ?, ?)\n"
     ]
    },
    {
     "name": "stdout",
     "output_type": "stream",
     "text": [
      "2018-01-21 21:08:57,858 INFO sqlalchemy.engine.base.Engine (99, 'Temp', '300')\n"
     ]
    },
    {
     "name": "stdout",
     "output_type": "stream",
     "text": [
      "2018-01-21 21:08:57,861 INFO sqlalchemy.engine.base.Engine INSERT INTO keywords (main_id, name, value) VALUES (?, ?, ?)\n"
     ]
    },
    {
     "name": "stdout",
     "output_type": "stream",
     "text": [
      "2018-01-21 21:08:57,862 INFO sqlalchemy.engine.base.Engine (99, 'linker', 'a')\n"
     ]
    },
    {
     "name": "stdout",
     "output_type": "stream",
     "text": [
      "2018-01-21 21:08:57,865 INFO sqlalchemy.engine.base.Engine INSERT INTO keywords (main_id, name, value) VALUES (?, ?, ?)\n"
     ]
    },
    {
     "name": "stdout",
     "output_type": "stream",
     "text": [
      "2018-01-21 21:08:57,867 INFO sqlalchemy.engine.base.Engine (99, 'caco3', None)\n"
     ]
    },
    {
     "name": "stdout",
     "output_type": "stream",
     "text": [
      "2018-01-21 21:08:57,868 INFO sqlalchemy.engine.base.Engine INSERT INTO keywords (main_id, name, value) VALUES (?, ?, ?)\n"
     ]
    },
    {
     "name": "stdout",
     "output_type": "stream",
     "text": [
      "2018-01-21 21:08:57,871 INFO sqlalchemy.engine.base.Engine (99, 'important', None)\n"
     ]
    },
    {
     "name": "stdout",
     "output_type": "stream",
     "text": [
      "2018-01-21 21:08:57,872 INFO sqlalchemy.engine.base.Engine INSERT INTO keywords (main_id, name, value) VALUES (?, ?, ?)\n"
     ]
    },
    {
     "name": "stdout",
     "output_type": "stream",
     "text": [
      "2018-01-21 21:08:57,875 INFO sqlalchemy.engine.base.Engine (99, 'pH', '9')\n"
     ]
    },
    {
     "name": "stdout",
     "output_type": "stream",
     "text": [
      "2018-01-21 21:08:57,880 INFO sqlalchemy.engine.base.Engine INSERT INTO keywords (main_id, name, value) VALUES (?, ?, ?)\n"
     ]
    },
    {
     "name": "stdout",
     "output_type": "stream",
     "text": [
      "2018-01-21 21:08:57,885 INFO sqlalchemy.engine.base.Engine (100, 'abc', None)\n"
     ]
    },
    {
     "name": "stdout",
     "output_type": "stream",
     "text": [
      "2018-01-21 21:08:57,888 INFO sqlalchemy.engine.base.Engine INSERT INTO keywords (main_id, name, value) VALUES (?, ?, ?)\n"
     ]
    },
    {
     "name": "stdout",
     "output_type": "stream",
     "text": [
      "2018-01-21 21:08:57,892 INFO sqlalchemy.engine.base.Engine (100, 'dna', None)\n"
     ]
    },
    {
     "name": "stdout",
     "output_type": "stream",
     "text": [
      "2018-01-21 21:08:57,894 INFO sqlalchemy.engine.base.Engine INSERT INTO keywords (main_id, name, value) VALUES (?, ?, ?)\n"
     ]
    },
    {
     "name": "stdout",
     "output_type": "stream",
     "text": [
      "2018-01-21 21:08:57,895 INFO sqlalchemy.engine.base.Engine (100, 'linker', 'd')\n"
     ]
    },
    {
     "name": "stdout",
     "output_type": "stream",
     "text": [
      "2018-01-21 21:08:57,898 INFO sqlalchemy.engine.base.Engine INSERT INTO keywords (main_id, name, value) VALUES (?, ?, ?)\n"
     ]
    },
    {
     "name": "stdout",
     "output_type": "stream",
     "text": [
      "2018-01-21 21:08:57,901 INFO sqlalchemy.engine.base.Engine (100, 'caco3', None)\n"
     ]
    },
    {
     "name": "stdout",
     "output_type": "stream",
     "text": [
      "2018-01-21 21:08:57,901 INFO sqlalchemy.engine.base.Engine INSERT INTO keywords (main_id, name, value) VALUES (?, ?, ?)\n"
     ]
    },
    {
     "name": "stdout",
     "output_type": "stream",
     "text": [
      "2018-01-21 21:08:57,904 INFO sqlalchemy.engine.base.Engine (100, 'important', None)\n"
     ]
    },
    {
     "name": "stdout",
     "output_type": "stream",
     "text": [
      "2018-01-21 21:08:57,905 INFO sqlalchemy.engine.base.Engine INSERT INTO keywords (main_id, name, value) VALUES (?, ?, ?)\n"
     ]
    },
    {
     "name": "stdout",
     "output_type": "stream",
     "text": [
      "2018-01-21 21:08:57,907 INFO sqlalchemy.engine.base.Engine (100, 'concentration', '1')\n"
     ]
    },
    {
     "name": "stdout",
     "output_type": "stream",
     "text": [
      "2018-01-21 21:08:57,917 INFO sqlalchemy.engine.base.Engine COMMIT\n"
     ]
    }
   ],
   "source": [
    "for i in range(num_testdata):\n",
    "    tags=random_tags()\n",
    "    keywords=random_keywords()\n",
    "    keywords.update((tag,None) for tag in tags)\n",
    "    sim = Simulation(\n",
    "            sim_id=\"MK{:04d}\".format(i+1),\n",
    "            mediawiki=\"MK{:04d}\".format(i+1),\n",
    "            sim_type=random_type(),\n",
    "            keywords=[Keywords(name=k,value=v) for k,v in keywords.iteritems()]\n",
    "        )\n",
    "    session.add(sim)\n",
    "session.commit()"
   ]
  },
  {
   "cell_type": "code",
   "execution_count": null,
   "metadata": {},
   "outputs": [],
   "source": []
  }
 ],
 "metadata": {
  "kernelspec": {
   "display_name": "Python 2",
   "language": "python",
   "name": "python2"
  },
  "language_info": {
   "codemirror_mode": {
    "name": "ipython",
    "version": 2
   },
   "file_extension": ".py",
   "mimetype": "text/x-python",
   "name": "python",
   "nbconvert_exporter": "python",
   "pygments_lexer": "ipython2",
   "version": "2.7.12"
  },
  "toc": {
   "nav_menu": {},
   "number_sections": true,
   "sideBar": true,
   "skip_h1_title": false,
   "toc_cell": false,
   "toc_position": {},
   "toc_section_display": "block",
   "toc_window_display": false
  }
 },
 "nbformat": 4,
 "nbformat_minor": 2
}
