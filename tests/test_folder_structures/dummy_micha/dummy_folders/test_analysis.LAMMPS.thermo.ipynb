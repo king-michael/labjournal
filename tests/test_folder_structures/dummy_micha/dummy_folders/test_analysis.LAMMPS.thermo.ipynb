{
 "cells": [
  {
   "cell_type": "code",
   "execution_count": 1,
   "metadata": {},
   "outputs": [],
   "source": [
    "# Begin import system libs\n",
    "from __future__ import print_function\n",
    "import os, sys\n",
    "import numpy as np\n",
    "# End import system libs"
   ]
  },
  {
   "cell_type": "code",
   "execution_count": 30,
   "metadata": {},
   "outputs": [],
   "source": [
    "sys.path.append(os.path.relpath('/home/micha/SIM-PhD-King/labjournal/',os.getcwd()))"
   ]
  },
  {
   "cell_type": "code",
   "execution_count": 33,
   "metadata": {},
   "outputs": [],
   "source": [
    "for i in sys.modules.keys(): \n",
    "    if i.startswith(\"analysis.LAMMPS.thermo\"): del(sys.modules[i])\n",
    "from analysis.LAMMPS.thermo import Thermo"
   ]
  },
  {
   "cell_type": "code",
   "execution_count": 34,
   "metadata": {},
   "outputs": [
    {
     "name": "stdout",
     "output_type": "stream",
     "text": [
      "85000\n",
      "read 86 log entries\n"
     ]
    }
   ],
   "source": [
    "if __name__ == '__main__':\n",
    "    path = \"./testcase_normalMD/production/\"\n",
    "    thermo = Thermo(path=path)"
   ]
  },
  {
   "cell_type": "code",
   "execution_count": 35,
   "metadata": {},
   "outputs": [
    {
     "data": {
      "text/plain": [
       "array([ 309.87934,  304.21862,  298.03983,  305.16491,  295.97154,\n",
       "        301.20125,  303.43786,  298.33433,  298.76038,  299.01164,\n",
       "        293.31035,  302.75739,  288.47036,  299.07695,  300.3149 ,\n",
       "        302.90596,  301.91367,  308.27306,  298.02137,  298.03312,\n",
       "        300.81914,  305.48238,  292.92384,  302.8764 ,  302.24477,\n",
       "        298.18758,  293.10048,  306.13358,  295.77851,  287.58257,\n",
       "        294.19739,  286.59826,  302.11628,  298.02024,  304.24894,\n",
       "        297.12258,  289.76195,  298.33051,  287.84608,  301.58257,\n",
       "        285.20281,  293.987  ,  300.28546,  306.34934,  301.64154,\n",
       "        299.88057,  295.70825,  296.53629,  291.50472,  306.55972,\n",
       "        287.18114,  296.15382,  301.10087,  308.14954,  298.08504,\n",
       "        298.81326,  307.08518,  309.40929,  302.17205,  298.15916,\n",
       "        297.68725,  302.32815,  300.74749,  305.24911,  300.76726,\n",
       "        298.09126,  300.6697 ,  299.75598,  295.29323,  302.47388,\n",
       "        293.20427,  300.31354,  297.7327 ,  306.41348,  303.08884,\n",
       "        302.47756,  298.35717,  292.70809,  303.20421,  303.72034,\n",
       "        289.62371,  296.62907,  294.05617,  297.48141,  297.1452 ,\n",
       "        299.34117])"
      ]
     },
     "execution_count": 35,
     "metadata": {},
     "output_type": "execute_result"
    }
   ],
   "source": [
    "thermo[\"Temp\"]"
   ]
  },
  {
   "cell_type": "code",
   "execution_count": null,
   "metadata": {},
   "outputs": [],
   "source": []
  }
 ],
 "metadata": {
  "kernelspec": {
   "display_name": "Python 2",
   "language": "python",
   "name": "python2"
  },
  "language_info": {
   "codemirror_mode": {
    "name": "ipython",
    "version": 2
   },
   "file_extension": ".py",
   "mimetype": "text/x-python",
   "name": "python",
   "nbconvert_exporter": "python",
   "pygments_lexer": "ipython2",
   "version": "2.7.12"
  },
  "toc": {
   "nav_menu": {},
   "number_sections": true,
   "sideBar": true,
   "skip_h1_title": false,
   "toc_cell": false,
   "toc_position": {},
   "toc_section_display": "block",
   "toc_window_display": false
  }
 },
 "nbformat": 4,
 "nbformat_minor": 2
}
