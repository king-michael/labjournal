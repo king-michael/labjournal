{
 "cells": [
  {
   "cell_type": "code",
   "execution_count": 6,
   "metadata": {},
   "outputs": [],
   "source": [
    "import os\n",
    "import pandas as pd"
   ]
  },
  {
   "cell_type": "code",
   "execution_count": 7,
   "metadata": {},
   "outputs": [],
   "source": [
    "PATH='/home/micha/SIM-PhD-King/ubiquitin/atomistic/ub.N25CP.D32CP.D58CP_pH7_CaCl2-0.075M_charmm/simulation/'\n",
    "mdp_file = \"input.0.lammps\""
   ]
  },
  {
   "cell_type": "code",
   "execution_count": 166,
   "metadata": {},
   "outputs": [],
   "source": [
    "dict_selection = {\n",
    "    # keyword    : [index_name, index_value, ?index_value_end?]\n",
    "    'atom_style'   : [0,1],    # atom_style\n",
    "    'kspace_style' : [0,1,None], # style + accuracy\n",
    "    'newton'       : [0,1],    # on / off\n",
    "    'units'        : [0,1],    # unit\n",
    "    'variable'     : [1,3],    \n",
    "}\n",
    "class Lammps_Parameter:\n",
    "    def __init__(self,**kwargs):\n",
    "        \"\"\"\n",
    "        \n",
    "        Parameters\n",
    "        ----------\n",
    "        kwargs : dict\n",
    "        \n",
    "        kwargs\n",
    "        ------\n",
    "        fname : str\n",
    "            filename of the input file\n",
    "        \"\"\"\n",
    "        # set attributes\n",
    "        for k,v in kwargs.iteritems():\n",
    "            setattr(self,k,v)\n",
    "        \n",
    "        if hasattr(self, 'fname'):\n",
    "            self.read_file(self.fname)\n",
    "\n",
    "    def __repr__(self):\n",
    "        STR=\"{}(\\n\".format(self.__class__.__name__)\n",
    "        for k,v in vars(self).iteritems():\n",
    "            if type(k) == str:\n",
    "                STR+=\" {}={},\\n\".format(k,repr(v))\n",
    "        STR+=\")\"\n",
    "        return STR\n",
    "    \n",
    "    def __str__(self):\n",
    "        return str(vars(self))\n",
    "    \n",
    "    def read_file(self,path_to_mdp_file):\n",
    "        \"\"\"\n",
    "        Function to read a input file\n",
    "        \"\"\"\n",
    "        dict_variables=dict()\n",
    "        # Open the file\n",
    "        with open(path_to_mdp_file) as fp:\n",
    "            # iterate of the file\n",
    "            for line in fp:\n",
    "                line_strip=line.strip()  # strip lines for easy processing\n",
    "                if len(line_strip) == 0: continue  # skip empty lines\n",
    "                if line_strip[0] == '#': continue  # skip comments\n",
    "                line_split=line_strip.split() \n",
    "                # interpret the line split\n",
    "                entry = self.interpret_line_split(line_split)\n",
    "                # if the value is not None update the dict\n",
    "                if entry is not None:\n",
    "                    dict_variables.update(entry)  \n",
    "\n",
    "        # set attributes           \n",
    "        for k,v in dict_variables.iteritems():\n",
    "            setattr(self,k,v)\n",
    "            \n",
    "    def interpret_line_split(self,line_split):\n",
    "        \"\"\"\n",
    "        Function to interpret the line_split\n",
    "\n",
    "        Return\n",
    "        ------\n",
    "            dict_entry : dict or None\n",
    "                Dictionary Entry or None if not in the list\n",
    "        \"\"\"\n",
    "\n",
    "        # key to look for\n",
    "        key = line_split[0]\n",
    "        if key in dict_selection.keys():  # check if the key is in there\n",
    "            # get the indicies\n",
    "            indicies = dict_selection[key]\n",
    "            # get the name and the properties\n",
    "            if len(indicies) == 2:\n",
    "                index_name, index_value = indicies \n",
    "                name = line_split[index_name]\n",
    "                prop = self.convert_value_type(line_split[index_value])\n",
    "            elif len(indicies) == 3:\n",
    "                index_name, index_value, index_value_end  = indicies\n",
    "                # check for comments:\n",
    "                if index_value_end is None and '#' in line_split:\n",
    "                    # reset index_value\n",
    "                    index_value_end = line_split.index(\"#\")\n",
    "                name = line_split[index_name]\n",
    "                prop = [self.convert_value_type(i) for i in line_split[index_value:index_value_end]]\n",
    "            # return them in form of a dictionary\n",
    "            return {name : prop}\n",
    "        else:  # if the key is not defined return None\n",
    "            return None\n",
    "    \n",
    "    def convert_value_type(self,value):\n",
    "        \"\"\"\n",
    "        Function to convert the type of the value\n",
    "        \"\"\"\n",
    "        \n",
    "        if type(value) == str:\n",
    "            try:\n",
    "                tmp = float(value)\n",
    "                if tmp.is_integer():\n",
    "                    return int(value)\n",
    "                else:\n",
    "                    return float(value)\n",
    "            except ValueError:\n",
    "                return value\n",
    "        elif type(value) == list:\n",
    "            return [self.convert_value_type(i) for i in value]\n",
    "        elif type(value) == tuple:\n",
    "            return (self.convert_value_type(i) for i in value)\n",
    "        else:\n",
    "            return value"
   ]
  },
  {
   "cell_type": "code",
   "execution_count": 167,
   "metadata": {},
   "outputs": [],
   "source": [
    "path_to_mdp_file = os.path.join(PATH,mdp_file)\n",
    "para_mini = Lammps_Parameter(fname=path_to_mdp_file)    "
   ]
  },
  {
   "cell_type": "code",
   "execution_count": 169,
   "metadata": {},
   "outputs": [
    {
     "data": {
      "text/plain": [
       "Lammps_Parameter(\n",
       " deltat=10,\n",
       " atom_style='full',\n",
       " newton='on',\n",
       " etol=1e-06,\n",
       " eramp='100.0*(${nsteps}+${nequil}-step+1)/${nsteps}',\n",
       " ntraj=1000,\n",
       " n='${shrink}',\n",
       " ftol=1e-06,\n",
       " ntraj_s=-100,\n",
       " prel=1000,\n",
       " vReadData=0,\n",
       " fffile='ff-charmm_ubiquitin.N25CP.D32CP.D58CP_CaCl2.lammps',\n",
       " ts=1,\n",
       " plumed=0,\n",
       " ens=2,\n",
       " fname='/home/micha/SIM-PhD-King/ubiquitin/atomistic/ub.N25CP.D32CP.D58CP_pH7_CaCl2-0.075M_charmm/simulation/input.0.lammps',\n",
       " minimise=1,\n",
       " units='real',\n",
       " vBalance=0,\n",
       " shrink=0,\n",
       " inpfile='system_start.data',\n",
       " relax=1,\n",
       " str_dbg=\"'\",\n",
       " temp_f=300,\n",
       " nthermo=1000,\n",
       " resfile='final_restart.$(v_run_no',\n",
       " nequil=50000,\n",
       " kspace_style=['pppm', 1e-05],\n",
       " mtraj=-1,\n",
       " temp_s=200,\n",
       " dbg_erg=0,\n",
       " md=0,\n",
       " tscale=1,\n",
       " trel=100,\n",
       " maxiter=100,\n",
       " nsteps=100000,\n",
       " pres='1.0',\n",
       " str_ens=\"'\",\n",
       " str_basic=\"'step\",\n",
       " npttype='iso',\n",
       ")"
      ]
     },
     "execution_count": 169,
     "metadata": {},
     "output_type": "execute_result"
    }
   ],
   "source": [
    "para_mini"
   ]
  },
  {
   "cell_type": "code",
   "execution_count": 144,
   "metadata": {},
   "outputs": [],
   "source": [
    "a='1a'"
   ]
  },
  {
   "cell_type": "code",
   "execution_count": 160,
   "metadata": {},
   "outputs": [
    {
     "ename": "ValueError",
     "evalue": "could not convert string to float: DA",
     "output_type": "error",
     "traceback": [
      "\u001b[0;31m---------------------------------------------------------------------------\u001b[0m",
      "\u001b[0;31mValueError\u001b[0m                                Traceback (most recent call last)",
      "\u001b[0;32m<ipython-input-160-0df69b4c9f2e>\u001b[0m in \u001b[0;36m<module>\u001b[0;34m()\u001b[0m\n\u001b[0;32m----> 1\u001b[0;31m \u001b[0mfloat\u001b[0m\u001b[0;34m(\u001b[0m\u001b[0;34m\"DA\"\u001b[0m\u001b[0;34m)\u001b[0m\u001b[0;34m\u001b[0m\u001b[0m\n\u001b[0m",
      "\u001b[0;31mValueError\u001b[0m: could not convert string to float: DA"
     ]
    }
   ],
   "source": [
    "cat "
   ]
  },
  {
   "cell_type": "code",
   "execution_count": null,
   "metadata": {},
   "outputs": [],
   "source": []
  },
  {
   "cell_type": "code",
   "execution_count": null,
   "metadata": {},
   "outputs": [],
   "source": []
  }
 ],
 "metadata": {
  "kernelspec": {
   "display_name": "Python 2",
   "language": "python",
   "name": "python2"
  },
  "language_info": {
   "codemirror_mode": {
    "name": "ipython",
    "version": 2
   },
   "file_extension": ".py",
   "mimetype": "text/x-python",
   "name": "python",
   "nbconvert_exporter": "python",
   "pygments_lexer": "ipython2",
   "version": "2.7.12"
  },
  "toc": {
   "nav_menu": {},
   "number_sections": true,
   "sideBar": true,
   "skip_h1_title": false,
   "toc_cell": false,
   "toc_position": {},
   "toc_section_display": "block",
   "toc_window_display": false
  }
 },
 "nbformat": 4,
 "nbformat_minor": 2
}
