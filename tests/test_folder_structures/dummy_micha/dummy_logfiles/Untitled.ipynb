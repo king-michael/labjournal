{
 "cells": [
  {
   "cell_type": "code",
   "execution_count": 1,
   "metadata": {
    "collapsed": true
   },
   "outputs": [],
   "source": [
    "filename = \"log.nve.lammps\""
   ]
  },
  {
   "cell_type": "code",
   "execution_count": 148,
   "metadata": {
    "collapsed": false
   },
   "outputs": [],
   "source": [
    "from copy import deepcopy\n",
    "class StorageObjectLAMMPS:\n",
    "    \"\"\"\n",
    "    Object to restore the LAMMPS defaults\n",
    "\n",
    "    Details\n",
    "    -------\n",
    "    active_dumps :\n",
    "        empty dict\n",
    "    active_fixes :\n",
    "        empty dict\n",
    "    integrator : \n",
    "        None\n",
    "    thermostat :\n",
    "        None\n",
    "    barostat :\n",
    "        None\n",
    "    nsteps :\n",
    "        None\n",
    "    LAMMPS-Defaults\n",
    "    ---------------\n",
    "    run_style='verlet'\n",
    "    \"\"\"\n",
    "    active_fixes=dict()  #\n",
    "    active_dumps=dict()  #\n",
    "    \n",
    "    integrator=None\n",
    "    barostat=None\n",
    "    thermostat=None\n",
    "\n",
    "    nsteps = None \n",
    "    \n",
    "    run_style='verlet'\n",
    "        \n",
    "        \n",
    "\n",
    "class LogFileReader(StorageObjectLAMMPS):\n",
    "    def __init__(self,filename):\n",
    "        \"\"\"\n",
    "        \n",
    "        Attributes\n",
    "        ----------\n",
    "        runs :\n",
    "            List of the run objects\n",
    "        \"\"\"\n",
    "        self.filename = filename\n",
    "       \n",
    "        # some defaults\n",
    "        self.runs=[]\n",
    "        # parse logfile\n",
    "        self.parse_file(self.filename) \n",
    "        \n",
    "    def parse_file(self,filename):\n",
    "        \"\"\"\n",
    "        Parse a lammps logfile\n",
    "        \"\"\"\n",
    "        with open(filename) as fp:\n",
    "            for line in fp:\n",
    "                line_strip=line.strip()\n",
    "                if len(line_strip) == 0: continue  # empty line\n",
    "                if line_strip[0] == \"#\": continue  # comment line\n",
    "                self.interprete_line(line)\n",
    "        self.compile_infos()\n",
    "        \n",
    "    def interprete_line(self,line):\n",
    "        \"\"\"\n",
    "        Function to interprete the line\n",
    "        \"\"\"\n",
    "        line_split = line.split()\n",
    "        keyword = line_split[0]\n",
    "        # Handle fixes\n",
    "        if   keyword in ['fix', 'unfix']:\n",
    "            self.handle_fix(line_split)\n",
    "        elif keyword == 'run':\n",
    "            self.handle_run(line_split)\n",
    "    \n",
    "    def handle_fix(self,line_split):\n",
    "        \"\"\"\n",
    "        Handle a fix & unfix\n",
    "        \"\"\"\n",
    "        keyword  = line_split[0]\n",
    "        if   keyword == 'fix':\n",
    "            fix_id   = line_split[1]  # id\n",
    "            fix_grp  = line_split[2]  # group\n",
    "            fix_type = line_split[3]  # type\n",
    "            fix_args = line_split[4:] # args \n",
    "            self.active_fixes[fix_id]=[fix_grp,fix_type,fix_args]\n",
    "        elif keyword == 'unfix':\n",
    "            del self.active_fixes[line_split[1]]\n",
    "        \n",
    "    def handle_run(self,line_split):\n",
    "        \"\"\"\n",
    "        Add a run\n",
    "        \"\"\"\n",
    "        \n",
    "        self.compile_infos()\n",
    "        \n",
    "        run = StorageObjectLAMMPS()\n",
    "        for key in vars(StorageObjectLAMMPS).keys():\n",
    "            if not key.startswith(\"__\"):\n",
    "                setattr(run,key,getattr(self,key))\n",
    "        run.nsteps = int(line_split[1])\n",
    "        if self.nsteps is None:\n",
    "            self.nsteps = 0\n",
    "        self.nsteps+= int(line_split[1])\n",
    "        self.runs.append(run)\n",
    "    \n",
    "    def compile_infos(self):\n",
    "        \"\"\"\n",
    "        Function to compile the infos.\n",
    "        Finds integrator, thermostat, barostat\n",
    "        \"\"\"\n",
    "        self.integrator = None\n",
    "        self.thermostat = None\n",
    "        self.barostat = None\n",
    "        # go over all fix IDS\n",
    "        for fixid,(fix_grp, fix_type, fix_args) in self.active_fixes.iteritems():\n",
    "            \n",
    "            # check if have set an integrator\n",
    "            if fix_type in ['nve', 'nvt', 'npt', 'nph']:\n",
    "                assert self.integrator is None, \"Multiple Integreators are not implemented\"\n",
    "                self.integrator = fix_type\n",
    "            \n",
    "            # check for thermostat\n",
    "            for part in fix_type.split(\"/\"):  # get rid of combinations\n",
    "                if part in ['nvt', 'npt', 'temp', 'langevin']:\n",
    "                    assert self.thermostat is None, \"Multiple Thermostats are not implemented\"\n",
    "                    self.thermostat = fix_type\n",
    "            \n",
    "            # check for barostat\n",
    "            for part in fix_type.split(\"/\"):  # get rid of combinations\n",
    "                if part in ['nph', 'npt', 'press']:\n",
    "                    assert self.barostat is None, \"Multiple Barostats are not implemented\"\n",
    "                    self.barostat = fix_type\n",
    "            "
   ]
  },
  {
   "cell_type": "code",
   "execution_count": 149,
   "metadata": {
    "collapsed": false
   },
   "outputs": [
    {
     "name": "stdout",
     "output_type": "stream",
     "text": [
      "{'barostat': None, 'thermostat': None, 'run_style': 'verlet', 'integrator': 'nve', 'active_fixes': {'1': ['all', 'nve', []]}, 'active_dumps': {}, 'nsteps': 100}\n"
     ]
    }
   ],
   "source": [
    "L = LogFileReader(\"log.nve.lammps\")\n",
    "for run in L.runs:\n",
    "    print run.__dict__"
   ]
  },
  {
   "cell_type": "code",
   "execution_count": 150,
   "metadata": {
    "collapsed": false
   },
   "outputs": [
    {
     "name": "stdout",
     "output_type": "stream",
     "text": [
      "{'barostat': None, 'thermostat': 'nvt', 'run_style': 'verlet', 'integrator': 'nvt', 'active_fixes': {'1': ['all', 'nvt', ['temp', '1', '1', '1']]}, 'active_dumps': {}, 'nsteps': 100}\n"
     ]
    }
   ],
   "source": [
    "L = LogFileReader(\"log.nvt.lammps\")\n",
    "for run in L.runs:\n",
    "    print run.__dict__"
   ]
  },
  {
   "cell_type": "code",
   "execution_count": null,
   "metadata": {
    "collapsed": false
   },
   "outputs": [],
   "source": []
  },
  {
   "cell_type": "code",
   "execution_count": null,
   "metadata": {
    "collapsed": true
   },
   "outputs": [],
   "source": []
  }
 ],
 "metadata": {
  "kernelspec": {
   "display_name": "Python 2",
   "language": "python",
   "name": "python2"
  },
  "language_info": {
   "codemirror_mode": {
    "name": "ipython",
    "version": 2
   },
   "file_extension": ".py",
   "mimetype": "text/x-python",
   "name": "python",
   "nbconvert_exporter": "python",
   "pygments_lexer": "ipython2",
   "version": "2.7.12"
  }
 },
 "nbformat": 4,
 "nbformat_minor": 2
}
