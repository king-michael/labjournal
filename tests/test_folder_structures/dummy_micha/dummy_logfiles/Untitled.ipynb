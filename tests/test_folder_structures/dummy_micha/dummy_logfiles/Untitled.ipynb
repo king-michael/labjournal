{
 "cells": [
  {
   "cell_type": "code",
   "execution_count": 4,
   "metadata": {
    "collapsed": true,
    "deletable": true,
    "editable": true
   },
   "outputs": [],
   "source": [
    "from copy import deepcopy"
   ]
  },
  {
   "cell_type": "code",
   "execution_count": 26,
   "metadata": {
    "code_folding": [],
    "collapsed": false,
    "deletable": true,
    "editable": true
   },
   "outputs": [],
   "source": [
    "class StorageObjectLAMMPS:\n",
    "    def __init__(self):\n",
    "\n",
    "        \"\"\"\n",
    "        Object to restore the LAMMPS defaults\n",
    "\n",
    "        Details\n",
    "        -------\n",
    "        active_dumps : dict\n",
    "            empty dict\n",
    "        active_fixes : dict\n",
    "            empty dict\n",
    "        integrator : None or str\n",
    "            None\n",
    "        thermostat : None or str\n",
    "            None\n",
    "        barostat : None or str\n",
    "            None\n",
    "        nsteps : None or str\n",
    "            None\n",
    "        LAMMPS-Defaults\n",
    "        ---------------\n",
    "        run_style='verlet'\n",
    "        \"\"\"\n",
    "        self.active_fixes=dict()  #\n",
    "        self.active_dumps=dict()  #\n",
    "        \n",
    "        self.integrator=None\n",
    "        self.barostat=None\n",
    "        self.thermostat=None\n",
    "\n",
    "        self.nsteps = None \n",
    "\n",
    "        self.run_style='verlet'\n",
    "    def __str__(self):\n",
    "        STR=\"Run:\\n\"\n",
    "        STR+=\" nsteps     : {}\\n\".format(self.nsteps)\n",
    "        STR+=\" integrator : {}\\n\".format(self.integrator)\n",
    "        STR+=\"   barostat : {}\\n\".format(self.barostat)\n",
    "        STR+=\" thermostat : {}\\n\".format(self.thermostat)\n",
    "        return STR\n",
    "    \n",
    "    @property\n",
    "    def run_properties(self):\n",
    "        \"\"\"run_property\"\"\"\n",
    "        prop = dict()\n",
    "        ##  run type\n",
    "        # no time integration\n",
    "        if self.integrator is None:\n",
    "            prop['type'] = 'none'\n",
    "        # energy minization\n",
    "        elif self.integrator == 'minimize':\n",
    "            prop['type'] = 'EM'\n",
    "        # some kind of run\n",
    "        else:\n",
    "            prop['nsteps'] = self.nsteps\n",
    "            if self.thermostat is None:\n",
    "                # NVE (no thermostat & no barostat)\n",
    "                if self.barostat is None:\n",
    "                    if self.integrator == 'nve':\n",
    "                        prop['type'] = 'NVE'\n",
    "                    else:\n",
    "                        raise ImplementationError(\"Something is off.\")\n",
    "                # NPH (no thermostat but a barostat)\n",
    "                else:\n",
    "                    prop['type'] = 'NPH'\n",
    "                    prop['p_start'] = self.press_start\n",
    "                    prop['p_stop'] = self.press_stop\n",
    "                    prop['p_rel'] = self.press_relax\n",
    "                    prop['p_mode']=  self.press_mode\n",
    "            else:\n",
    "                # NVT\n",
    "                if self.barostat is None:\n",
    "                    prop['type'] = 'NVT'\n",
    "                    prop['T_start'] = self.temp_start\n",
    "                    prop['T_stop'] = self.temp_stop\n",
    "                    prop['T_rel'] = self.temp_relax\n",
    "                # NPT\n",
    "                else:\n",
    "                    prop['type'] = 'NPT'\n",
    "                    prop['T_start'] = self.temp_start\n",
    "                    prop['T_stop'] = self.temp_stop\n",
    "                    prop['T_rel'] = self.temp_relax\n",
    "                    # barostat\n",
    "                    prop['p_start'] = self.press_start\n",
    "                    prop['p_stop'] = self.press_stop\n",
    "                    prop['p_rel'] = self.press_relax\n",
    "                    prop['p_mode']=  self.press_mode\n",
    "        return prop\n",
    "    \n",
    "    #def _get_thermostat_info=\n",
    "    def get_run(self):\n",
    "        \"\"\"\n",
    "        Function returns the run_information\n",
    "        \"\"\""
   ]
  },
  {
   "cell_type": "code",
   "execution_count": 27,
   "metadata": {
    "code_folding": [
     40,
     56,
     88
    ],
    "collapsed": false,
    "deletable": true,
    "editable": true
   },
   "outputs": [],
   "source": [
    "class LogFileReader:\n",
    "    def __init__(self,filename):\n",
    "        \"\"\"\n",
    "        \n",
    "        Attributes\n",
    "        ----------\n",
    "        runs :\n",
    "            List of the run objects\n",
    "        \n",
    "        Todo\n",
    "        ----\n",
    "        rigid bodies\n",
    "            not implemented ridig body integrator\n",
    "        multiple integrators / thermostat / barostat\n",
    "            not implemented yet (so we can temp different groups)\n",
    "        \"\"\"\n",
    "        self.filename = filename\n",
    "        self._run = StorageObjectLAMMPS()\n",
    "        \n",
    "        # list of WARNINGS\n",
    "        self.WARNINGS = [] \n",
    "        # some defaults\n",
    "        self.runs=[]\n",
    "        # parse logfile\n",
    "        self.parse_file(self.filename) \n",
    "        \n",
    "    def parse_file(self,filename):\n",
    "        \"\"\"\n",
    "        Parse a lammps logfile\n",
    "        \"\"\"\n",
    "        with open(filename) as fp:\n",
    "            for line in fp:\n",
    "                line_strip=line.strip()\n",
    "                if len(line_strip) == 0: continue  # empty line\n",
    "                if line_strip[0] == \"#\": continue  # comment line\n",
    "                line_split = line_strip.split()\n",
    "                if line_strip.find(\"$\") == -1:\n",
    "                    self.interprete_line(line_strip)\n",
    "        self.compile_infos()\n",
    "        \n",
    "    def interprete_line(self,line):\n",
    "        \"\"\"\n",
    "        Function to interprete the line\n",
    "        \"\"\"\n",
    "        line_split = line.split()\n",
    "        keyword = line_split[0]\n",
    "        # Handle fixes\n",
    "        if   keyword in ['fix', 'unfix']:\n",
    "            self.handle_fix(line_split)\n",
    "        elif keyword == 'minimize': \n",
    "            self.handle_minimize(line_split)\n",
    "        elif keyword == 'run':\n",
    "            self.handle_run(line_split)\n",
    "        elif keyword == 'WARNING:':\n",
    "            self.WARNINGS.append(line)\n",
    "        \n",
    "    def handle_fix(self,line_split):\n",
    "        \"\"\"\n",
    "        Handle a fix & unfix\n",
    "        \"\"\"\n",
    "        keyword  = line_split[0]\n",
    "        if   keyword == 'fix':\n",
    "            fix_id   = line_split[1]  # id\n",
    "            fix_grp  = line_split[2]  # group\n",
    "            fix_type = line_split[3]  # type\n",
    "            fix_args = line_split[4:] # args \n",
    "            self._run.active_fixes[fix_id]=[fix_grp,fix_type,fix_args]\n",
    "        elif keyword == 'unfix':\n",
    "            del self._run.active_fixes[line_split[1]]\n",
    "        \n",
    "    def handle_run(self,line_split):\n",
    "        \"\"\"\n",
    "        Add a run\n",
    "        \"\"\"\n",
    "        \n",
    "        self.compile_infos()\n",
    "        \n",
    "        run = StorageObjectLAMMPS()\n",
    "        for key in vars(self._run).keys():\n",
    "            if not key.startswith(\"_\"):\n",
    "                setattr(run,key,getattr(self._run,key))\n",
    "        run.nsteps = int(line_split[1])\n",
    "        if self._run.nsteps is None:\n",
    "            self._run.nsteps = 0\n",
    "        self._run.nsteps+= int(line_split[1])\n",
    "        self.runs.append(run)\n",
    "        \n",
    "    def handle_minimize(self,line_split):\n",
    "        \"\"\"\n",
    "        Add a minimization\n",
    "        \"\"\"\n",
    "        \n",
    "        run = StorageObjectLAMMPS()\n",
    "        run.integrator = 'minimize'\n",
    "        run.minimize_prop=dict(\n",
    "            etol=float(line_split[1]),\n",
    "            ftol=float(line_split[2]),\n",
    "            maxiter=int(line_split[3]),\n",
    "            maxeval=int(line_split[4]),\n",
    "        )\n",
    "        self.runs.append(run)\n",
    "        \n",
    "    def compile_infos(self):\n",
    "        \"\"\"\n",
    "        Function to compile the infos.\n",
    "        Finds integrator, thermostat, barostat\n",
    "        \"\"\"\n",
    "        self._run.integrator = None\n",
    "        self._run.thermostat = None\n",
    "        self._run.barostat = None\n",
    "        \n",
    "        # go over all fix IDS\n",
    "        for fixid,(fix_grp, fix_type, fix_args) in self._run.active_fixes.iteritems():\n",
    "            # check if have set an integrator\n",
    "            if fix_type in ['nve', 'nvt', 'npt', 'nph']:\n",
    "                assert self._run.integrator is None, \"Multiple Integreators are not implemented\"\n",
    "                self._run.integrator = fix_type\n",
    "                self._run._integrator_id = fixid\n",
    "            # check for thermostat\n",
    "            for part in fix_type.split(\"/\"):  # get rid of combinations\n",
    "                if part in ['nvt', 'npt', 'temp', 'langevin']:\n",
    "                    assert self._run.thermostat is None, \"Multiple Thermostats are not implemented\"\n",
    "                    self._run.thermostat = fix_type\n",
    "                    self._run._thermostat_id = fixid\n",
    "                    if part in ['nvt', 'npt']:\n",
    "                        i = fix_args.index(\"temp\")\n",
    "                        self._run.temp_start = fix_args[i+1]\n",
    "                        self._run.temp_stop = fix_args[i+2]\n",
    "                        self._run.temp_relax = fix_args[i+3]\n",
    "                        # tchain, tloop and drag, \n",
    "                        \n",
    "                    else:\n",
    "                        self._run.temp_start = fix_args[0]\n",
    "                        self._run.temp_stop = fix_args[1]\n",
    "                        self._run.temp_relax = fix_args[2]\n",
    "            # check for barostat\n",
    "            for part in fix_type.split(\"/\"):  # get rid of combinations\n",
    "                if part in ['nph', 'npt', 'press']:\n",
    "                    assert self._run.barostat is None, \"Multiple Barostats are not implemented\"\n",
    "                    self._run.barostat = fix_type\n",
    "                    self._run._barostat_id = fixid\n",
    "                    self._run.press_mode = None\n",
    "                    for i,arg in enumerate(fix_args):\n",
    "                        # default couplings\n",
    "                        if arg in ['iso', 'aniso', 'tri']:\n",
    "                            self._run.press_mode=arg\n",
    "                            self._run.press_start = fix_args[i+1]\n",
    "                            self._run.press_stop = fix_args[i+2]\n",
    "                            self._run.press_relax = fix_args[i+3]\n",
    "                        # if its an individual coupling of dimensions\n",
    "                        elif arg in ['x', 'y', 'z', 'xy', 'yz', 'xz']:\n",
    "                            if self._run.press_mode is None:\n",
    "                                self._run.press_mode = []\n",
    "                                self._run.press_start = []\n",
    "                                self._run.press_stop = []\n",
    "                                self._run.press_relax = []\n",
    "                            self._run.press_mode.append(arg)\n",
    "                            self._run.press_start.append(fix_args[i+1])\n",
    "                            self._run.press_stop.append(fix_args[i+2])\n",
    "                            self._run.press_relax.append(fix_args[i+3])\n",
    "                        # pchain, mtk, ploop, nreset, drag, and dilate\n",
    "                            \n",
    "#             iso or aniso or tri values = Pstart Pstop Pdamp\n",
    "#     Pstart,Pstop = scalar external pressure at start/end of run (pressure units)\n",
    "#     Pdamp = pressure damping parameter (time units)\n",
    "#   x or y or z or xy or yz or xz\n",
    "#     def __del__(self):\n",
    "#         for run in self.runs:\n",
    "#             del run"
   ]
  },
  {
   "cell_type": "code",
   "execution_count": 28,
   "metadata": {
    "collapsed": false,
    "deletable": true,
    "editable": true
   },
   "outputs": [
    {
     "name": "stdout",
     "output_type": "stream",
     "text": [
      "{'type': 'NVE', 'nsteps': 100}\n"
     ]
    }
   ],
   "source": [
    "L = LogFileReader(\"log.nve.lammps\")\n",
    "for run in L.runs:\n",
    "    print run.run_properties"
   ]
  },
  {
   "cell_type": "code",
   "execution_count": 29,
   "metadata": {
    "collapsed": false,
    "deletable": true,
    "editable": true
   },
   "outputs": [
    {
     "name": "stdout",
     "output_type": "stream",
     "text": [
      "{'T_rel': '1', 'type': 'NVT', 'nsteps': 100, 'T_start': '1', 'T_stop': '1'}\n"
     ]
    }
   ],
   "source": [
    "L = LogFileReader(\"log.nvt.lammps\")\n",
    "for run in L.runs:\n",
    "    print run.run_properties"
   ]
  },
  {
   "cell_type": "code",
   "execution_count": 30,
   "metadata": {
    "collapsed": false,
    "deletable": true,
    "editable": true
   },
   "outputs": [
    {
     "name": "stdout",
     "output_type": "stream",
     "text": [
      "{'T_rel': '1', 'type': 'NVT', 'nsteps': 100, 'T_start': '1', 'T_stop': '1'}\n",
      "{'T_rel': '1', 'type': 'NVT', 'nsteps': 1000, 'T_start': '1', 'T_stop': '1'}\n"
     ]
    }
   ],
   "source": [
    "L = LogFileReader(\"log.nvt_nvt.lammps\")\n",
    "for run in L.runs:\n",
    "    print run.run_properties"
   ]
  },
  {
   "cell_type": "code",
   "execution_count": 31,
   "metadata": {
    "collapsed": false,
    "deletable": true,
    "editable": true
   },
   "outputs": [
    {
     "name": "stdout",
     "output_type": "stream",
     "text": [
      "{'T_rel': '1', 'type': 'NVT', 'nsteps': 100, 'T_start': '1', 'T_stop': '1'}\n",
      "{'p_rel': '10', 'p_start': '1', 'T_start': '1', 'T_rel': '1', 'p_mode': 'iso', 'p_stop': '1', 'type': 'NPT', 'nsteps': 100, 'T_stop': '1'}\n"
     ]
    }
   ],
   "source": [
    "L = LogFileReader(\"log.nvt_npt.lammps\")\n",
    "for run in L.runs:\n",
    "    print run.run_properties"
   ]
  },
  {
   "cell_type": "code",
   "execution_count": 32,
   "metadata": {
    "collapsed": false,
    "deletable": true,
    "editable": true
   },
   "outputs": [
    {
     "name": "stdout",
     "output_type": "stream",
     "text": [
      "{'T_rel': '1', 'type': 'NVT', 'nsteps': 100, 'T_start': '1', 'T_stop': '1'}\n"
     ]
    }
   ],
   "source": [
    "L = LogFileReader(\"log.nvt.sub_vars.lammps\")\n",
    "for run in L.runs:\n",
    "    print run.run_properties"
   ]
  },
  {
   "cell_type": "code",
   "execution_count": 33,
   "metadata": {
    "collapsed": false,
    "deletable": true,
    "editable": true
   },
   "outputs": [
    {
     "name": "stdout",
     "output_type": "stream",
     "text": [
      "{'type': 'EM'}\n"
     ]
    }
   ],
   "source": [
    "L = LogFileReader(\"log.em.lammps\")\n",
    "for run in L.runs:\n",
    "    print run.run_properties"
   ]
  },
  {
   "cell_type": "code",
   "execution_count": 34,
   "metadata": {
    "code_folding": [],
    "collapsed": false,
    "deletable": true,
    "editable": true
   },
   "outputs": [
    {
     "name": "stdout",
     "output_type": "stream",
     "text": [
      "{'type': 'EM'}\n",
      "{'T_rel': '0.1', 'type': 'NVT', 'nsteps': 10000, 'T_start': '300', 'T_stop': '300'}\n",
      "{'p_rel': '1', 'p_start': '1.01325', 'T_start': '300', 'T_rel': '0.1', 'p_mode': 'tri', 'p_stop': '1.01325', 'type': 'NPT', 'nsteps': 10000, 'T_stop': '300'}\n"
     ]
    }
   ],
   "source": [
    "L = LogFileReader(\"log.0.lammps\")\n",
    "for run in L.runs:\n",
    "    print run.run_properties"
   ]
  },
  {
   "cell_type": "code",
   "execution_count": 35,
   "metadata": {
    "collapsed": false,
    "deletable": true,
    "editable": true
   },
   "outputs": [
    {
     "name": "stdout",
     "output_type": "stream",
     "text": [
      "{'p_rel': '1', 'p_start': '1.01325', 'T_start': '300', 'T_rel': '0.1', 'p_mode': 'tri', 'p_stop': '1.01325', 'type': 'NPT', 'nsteps': 10000000, 'T_stop': '300'}\n"
     ]
    }
   ],
   "source": [
    "L = LogFileReader(\"log.1.lammps\")\n",
    "for run in L.runs:\n",
    "    print run.run_properties"
   ]
  },
  {
   "cell_type": "code",
   "execution_count": null,
   "metadata": {
    "collapsed": false,
    "deletable": true,
    "editable": true
   },
   "outputs": [],
   "source": []
  },
  {
   "cell_type": "code",
   "execution_count": null,
   "metadata": {
    "collapsed": false,
    "deletable": true,
    "editable": true
   },
   "outputs": [],
   "source": []
  },
  {
   "cell_type": "code",
   "execution_count": null,
   "metadata": {
    "collapsed": true,
    "deletable": true,
    "editable": true
   },
   "outputs": [],
   "source": []
  }
 ],
 "metadata": {
  "kernelspec": {
   "display_name": "Python 2",
   "language": "python",
   "name": "python2"
  },
  "language_info": {
   "codemirror_mode": {
    "name": "ipython",
    "version": 2
   },
   "file_extension": ".py",
   "mimetype": "text/x-python",
   "name": "python",
   "nbconvert_exporter": "python",
   "pygments_lexer": "ipython2",
   "version": "2.7.12"
  }
 },
 "nbformat": 4,
 "nbformat_minor": 2
}
