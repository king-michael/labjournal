{
 "cells": [
  {
   "cell_type": "code",
   "execution_count": 31,
   "metadata": {},
   "outputs": [],
   "source": [
    "import numpy as np"
   ]
  },
  {
   "cell_type": "code",
   "execution_count": 1,
   "metadata": {},
   "outputs": [],
   "source": [
    "import sys\n",
    "\n",
    "try:\n",
    "    from labjournal.core.databaseModel import *\n",
    "except ImportError:\n",
    "    sys.path.append(\"../\")\n",
    "    from labjournal.core.databaseModel import *"
   ]
  },
  {
   "cell_type": "code",
   "execution_count": 56,
   "metadata": {},
   "outputs": [],
   "source": [
    "from sqlalchemy import create_engine\n",
    "from sqlalchemy.orm import sessionmaker\n",
    "from sqlalchemy import not_, or_, and_"
   ]
  },
  {
   "cell_type": "code",
   "execution_count": 3,
   "metadata": {},
   "outputs": [],
   "source": [
    "db_path = 'test_WORKS.db'"
   ]
  },
  {
   "cell_type": "markdown",
   "metadata": {},
   "source": [
    "## For migration:"
   ]
  },
  {
   "cell_type": "code",
   "execution_count": 6,
   "metadata": {},
   "outputs": [],
   "source": [
    "def openDatabase(db_path):\n",
    "    engine = create_engine('sqlite:///{}'.format(db_path))\n",
    "    Session = sessionmaker(bind=engine)\n",
    "    session = Session()\n",
    "    return session"
   ]
  },
  {
   "cell_type": "code",
   "execution_count": 24,
   "metadata": {},
   "outputs": [],
   "source": [
    "def getTags(db):\n",
    "    q = db.query(Keywords).filter(Keywords.value == None)\n",
    "    return [e.name for e in q.all()]"
   ]
  },
  {
   "cell_type": "code",
   "execution_count": 44,
   "metadata": {},
   "outputs": [],
   "source": [
    "def getKeywords(db):\n",
    "    q = db.query(Keywords)\n",
    "    keywords = [e.name for e in q.filter(Keywords.value != None).all()]\n",
    "    key_dict = {}\n",
    "    for k in np.unique(keywords):\n",
    "        key_dict[k] = [e.value for e in q.filter(Keywords.value != None, Keywords.name == k).all()]\n",
    "    return key_dict"
   ]
  },
  {
   "cell_type": "markdown",
   "metadata": {},
   "source": [
    "## HowTo"
   ]
  },
  {
   "cell_type": "code",
   "execution_count": 22,
   "metadata": {},
   "outputs": [],
   "source": [
    "db = openDatabase(db_path) # open database"
   ]
  },
  {
   "cell_type": "code",
   "execution_count": 25,
   "metadata": {},
   "outputs": [
    {
     "data": {
      "text/plain": [
       "['asdf', 'fdsgg', 'sfg', 'a', 'a', 'a', 'das', 'n']"
      ]
     },
     "execution_count": 25,
     "metadata": {},
     "output_type": "execute_result"
    }
   ],
   "source": [
    "getTags(db)  # get all tags"
   ]
  },
  {
   "cell_type": "code",
   "execution_count": 46,
   "metadata": {},
   "outputs": [
    {
     "data": {
      "text/plain": [
       "{'asda': ['2'], 'b': ['2'], 'k': ['4']}"
      ]
     },
     "execution_count": 46,
     "metadata": {},
     "output_type": "execute_result"
    }
   ],
   "source": [
    "getKeywords(db)  # get all keyword with the values they have"
   ]
  },
  {
   "cell_type": "markdown",
   "metadata": {},
   "source": [
    "## Deva"
   ]
  },
  {
   "cell_type": "markdown",
   "metadata": {},
   "source": [
    "Filter Simulations by:\n",
    "\n",
    "* entry id\n",
    "* tags\n",
    "* keywords\n",
    "* groups\n",
    "\n",
    "for expressions:\n",
    "\n",
    "* \\*pattern*\n",
    "* ! is not\n",
    "* one or several by connected by and"
   ]
  },
  {
   "cell_type": "code",
   "execution_count": 50,
   "metadata": {
    "scrolled": true
   },
   "outputs": [],
   "source": [
    "q_sims = db.query(Main)"
   ]
  },
  {
   "cell_type": "code",
   "execution_count": 64,
   "metadata": {},
   "outputs": [],
   "source": [
    "def qByEntryId(q, entry_id=\"*\"):\n",
    "    if entry_id.startswith(\"!\"):\n",
    "        return q.filter(not_(Main.entry_id.ilike(entry_id[1:].replace(\"*\", \"%\"))))\n",
    "    else:\n",
    "        return q.filter(Main.entry_id.ilike(entry_id.replace(\"*\", \"%\")))"
   ]
  },
  {
   "cell_type": "code",
   "execution_count": 112,
   "metadata": {},
   "outputs": [],
   "source": [
    "def qByTags(q, tag=\"*\"):\n",
    "    q = q.filter(Main.keywords.any(Keywords.value == None))\n",
    "    q = q.filter(Main.keywords.any(Keywords.name.ilike(tag.replace(\"*\", \"%\"))))\n",
    "    return q"
   ]
  },
  {
   "cell_type": "code",
   "execution_count": 114,
   "metadata": {},
   "outputs": [
    {
     "data": {
      "text/plain": [
       "[Main(entry_id='2016_08_09_2ub_k33_02', mediawiki='None', path='/home/andrejb/Research/SIMS/2016_08_09_2ub_k33_02'),\n",
       " Main(entry_id='2017_04_27_G_2ub_k6_02_03', mediawiki='None', path='/home/andrejb/Research/SIMS/2017_04_27_G_2ub_k6_02_03'),\n",
       " Main(entry_id='2016_08_09_2ub_k48_01', mediawiki='None', path='/home/andrejb/Research/SIMS/2016_08_09_2ub_k48_01'),\n",
       " Main(entry_id='2016_08_09_2ub_k29_01', mediawiki='None', path='/home/andrejb/Research/SIMS/2016_08_09_2ub_k29_01'),\n",
       " Main(entry_id='2016_08_09_2ub_k27_02', mediawiki='None', path='/home/andrejb/Research/SIMS/2016_08_09_2ub_k27_02')]"
      ]
     },
     "execution_count": 114,
     "metadata": {},
     "output_type": "execute_result"
    }
   ],
   "source": [
    "qByTags(q_sims).all()"
   ]
  },
  {
   "cell_type": "code",
   "execution_count": 60,
   "metadata": {},
   "outputs": [
    {
     "data": {
      "text/plain": [
       "'2017_04_27_G_2ub_k29_02_03'"
      ]
     },
     "execution_count": 60,
     "metadata": {},
     "output_type": "execute_result"
    }
   ],
   "source": [
    "\"!2017_04_27_G_2ub_k29_02_03\"[1:]"
   ]
  },
  {
   "cell_type": "code",
   "execution_count": 65,
   "metadata": {},
   "outputs": [
    {
     "data": {
      "text/plain": [
       "[Main(entry_id='2017_04_27_G_2ub_k27_01_02', mediawiki='None', path='/home/andrejb/Research/SIMS/2017_04_27_G_2ub_k27_01_02'),\n",
       " Main(entry_id='2017_04_27_G_2ub_k27_02_06', mediawiki='None', path='/home/andrejb/Research/SIMS/2017_04_27_G_2ub_k27_02_06'),\n",
       " Main(entry_id='2017_04_27_G_2ub_k29_01_02', mediawiki='None', path='/home/andrejb/Research/SIMS/2017_04_27_G_2ub_k29_01_02'),\n",
       " Main(entry_id='2017_02_14_G_2ub_k63_02_01', mediawiki='None', path='/home/andrejb/Research/SIMS/2017_02_14_G_2ub_k63_02_01'),\n",
       " Main(entry_id='2017_04_27_G_2ub_k29_02_06', mediawiki='None', path='/home/andrejb/Research/SIMS/2017_04_27_G_2ub_k29_02_06'),\n",
       " Main(entry_id='2017_02_14_G_2ub_k48_03_03', mediawiki='None', path='/home/andrejb/Research/SIMS/2017_02_14_G_2ub_k48_03_03'),\n",
       " Main(entry_id='2017_02_14_G_2ub_k63_02_03', mediawiki='None', path='/home/andrejb/Research/SIMS/2017_02_14_G_2ub_k63_02_03'),\n",
       " Main(entry_id='2017_04_27_G_2ub_k27_01_06', mediawiki='None', path='/home/andrejb/Research/SIMS/2017_04_27_G_2ub_k27_01_06'),\n",
       " Main(entry_id='2017_04_27_G_2ub_m1_02_05', mediawiki='None', path='/home/andrejb/Research/SIMS/2017_04_27_G_2ub_m1_02_05'),\n",
       " Main(entry_id='2017_04_27_G_2ub_m1_01_02', mediawiki='None', path='/home/andrejb/Research/SIMS/2017_04_27_G_2ub_m1_01_02'),\n",
       " Main(entry_id='2017_04_27_G_2ub_k11_02_02', mediawiki='None', path='/home/andrejb/Research/SIMS/2017_04_27_G_2ub_k11_02_02'),\n",
       " Main(entry_id='2017_02_14_G_2ub_k63_01_06', mediawiki='None', path='/home/andrejb/Research/SIMS/2017_02_14_G_2ub_k63_01_06'),\n",
       " Main(entry_id='2017_04_27_G_2ub_k29_01_06', mediawiki='None', path='/home/andrejb/Research/SIMS/2017_04_27_G_2ub_k29_01_06'),\n",
       " Main(entry_id='2017_02_14_G_2ub_k33_01_01', mediawiki='None', path='/home/andrejb/Research/SIMS/2017_02_14_G_2ub_k33_01_01'),\n",
       " Main(entry_id='2017_04_27_G_2ub_k6_02_01', mediawiki='None', path='/home/andrejb/Research/SIMS/2017_04_27_G_2ub_k6_02_01'),\n",
       " Main(entry_id='2017_04_27_G_2ub_k11_02_05', mediawiki='None', path='/home/andrejb/Research/SIMS/2017_04_27_G_2ub_k11_02_05'),\n",
       " Main(entry_id='2017_02_14_G_2ub_k48_03_01', mediawiki='None', path='/home/andrejb/Research/SIMS/2017_02_14_G_2ub_k48_03_01'),\n",
       " Main(entry_id='2017_04_27_G_2ub_m1_01_01', mediawiki='None', path='/home/andrejb/Research/SIMS/2017_04_27_G_2ub_m1_01_01'),\n",
       " Main(entry_id='2017_04_27_G_2ub_k29_01_01', mediawiki='None', path='/home/andrejb/Research/SIMS/2017_04_27_G_2ub_k29_01_01'),\n",
       " Main(entry_id='2017_02_14_G_2ub_k33_01_04', mediawiki='None', path='/home/andrejb/Research/SIMS/2017_02_14_G_2ub_k33_01_04'),\n",
       " Main(entry_id='2017_04_27_G_2ub_k29_01_04', mediawiki='None', path='/home/andrejb/Research/SIMS/2017_04_27_G_2ub_k29_01_04'),\n",
       " Main(entry_id='2017_04_27_G_2ub_k11_01_03', mediawiki='None', path='/home/andrejb/Research/SIMS/2017_04_27_G_2ub_k11_01_03'),\n",
       " Main(entry_id='2017_04_27_G_2ub_k11_01_01', mediawiki='None', path='/home/andrejb/Research/SIMS/2017_04_27_G_2ub_k11_01_01'),\n",
       " Main(entry_id='2017_02_14_G_2ub_k48_03_02', mediawiki='None', path='/home/andrejb/Research/SIMS/2017_02_14_G_2ub_k48_03_02'),\n",
       " Main(entry_id='2017_02_14_G_2ub_k33_01_02', mediawiki='None', path='/home/andrejb/Research/SIMS/2017_02_14_G_2ub_k33_01_02'),\n",
       " Main(entry_id='2017_04_27_G_2ub_k6_01_02', mediawiki='None', path='/home/andrejb/Research/SIMS/2017_04_27_G_2ub_k6_01_02'),\n",
       " Main(entry_id='2017_02_14_G_2ub_k63_01_01', mediawiki='None', path='/home/andrejb/Research/SIMS/2017_02_14_G_2ub_k63_01_01'),\n",
       " Main(entry_id='2017_04_27_G_2ub_k27_01_03', mediawiki='None', path='/home/andrejb/Research/SIMS/2017_04_27_G_2ub_k27_01_03'),\n",
       " Main(entry_id='2017_02_14_G_2ub_k48_03_06', mediawiki='None', path='/home/andrejb/Research/SIMS/2017_02_14_G_2ub_k48_03_06'),\n",
       " Main(entry_id='2017_02_14_G_2ub_k33_02_05', mediawiki='None', path='/home/andrejb/Research/SIMS/2017_02_14_G_2ub_k33_02_05'),\n",
       " Main(entry_id='2017_02_14_G_2ub_k48_01_02', mediawiki='None', path='/home/andrejb/Research/SIMS/2017_02_14_G_2ub_k48_01_02'),\n",
       " Main(entry_id='2017_04_27_G_2ub_k6_02_06', mediawiki='None', path='/home/andrejb/Research/SIMS/2017_04_27_G_2ub_k6_02_06'),\n",
       " Main(entry_id='2017_04_27_G_2ub_k27_01_05', mediawiki='None', path='/home/andrejb/Research/SIMS/2017_04_27_G_2ub_k27_01_05'),\n",
       " Main(entry_id='2017_04_27_G_2ub_k27_02_02', mediawiki='None', path='/home/andrejb/Research/SIMS/2017_04_27_G_2ub_k27_02_02'),\n",
       " Main(entry_id='2017_04_27_G_2ub_m1_01_04', mediawiki='None', path='/home/andrejb/Research/SIMS/2017_04_27_G_2ub_m1_01_04'),\n",
       " Main(entry_id='2017_04_27_G_2ub_k29_02_05', mediawiki='None', path='/home/andrejb/Research/SIMS/2017_04_27_G_2ub_k29_02_05'),\n",
       " Main(entry_id='2017_02_14_G_2ub_k33_02_03', mediawiki='None', path='/home/andrejb/Research/SIMS/2017_02_14_G_2ub_k33_02_03'),\n",
       " Main(entry_id='2017_02_14_G_2ub_k63_02_06', mediawiki='None', path='/home/andrejb/Research/SIMS/2017_02_14_G_2ub_k63_02_06'),\n",
       " Main(entry_id='2017_04_27_G_2ub_k6_01_06', mediawiki='None', path='/home/andrejb/Research/SIMS/2017_04_27_G_2ub_k6_01_06'),\n",
       " Main(entry_id='2017_02_14_G_2ub_k48_01_06', mediawiki='None', path='/home/andrejb/Research/SIMS/2017_02_14_G_2ub_k48_01_06'),\n",
       " Main(entry_id='2017_04_27_G_2ub_k6_01_01', mediawiki='None', path='/home/andrejb/Research/SIMS/2017_04_27_G_2ub_k6_01_01'),\n",
       " Main(entry_id='2017_04_27_G_2ub_m1_02_02', mediawiki='None', path='/home/andrejb/Research/SIMS/2017_04_27_G_2ub_m1_02_02'),\n",
       " Main(entry_id='2017_04_27_G_2ub_k6_02_03', mediawiki='None', path='/home/andrejb/Research/SIMS/2017_04_27_G_2ub_k6_02_03'),\n",
       " Main(entry_id='2017_02_14_G_2ub_k48_01_04', mediawiki='None', path='/home/andrejb/Research/SIMS/2017_02_14_G_2ub_k48_01_04'),\n",
       " Main(entry_id='2017_04_27_G_2ub_k6_02_02', mediawiki='None', path='/home/andrejb/Research/SIMS/2017_04_27_G_2ub_k6_02_02'),\n",
       " Main(entry_id='2017_02_14_G_2ub_k48_01_03', mediawiki='None', path='/home/andrejb/Research/SIMS/2017_02_14_G_2ub_k48_01_03'),\n",
       " Main(entry_id='2017_04_27_G_2ub_k6_02_05', mediawiki='None', path='/home/andrejb/Research/SIMS/2017_04_27_G_2ub_k6_02_05'),\n",
       " Main(entry_id='2017_02_14_G_2ub_k48_01_01', mediawiki='None', path='/home/andrejb/Research/SIMS/2017_02_14_G_2ub_k48_01_01'),\n",
       " Main(entry_id='2017_02_14_G_2ub_k48_03_04', mediawiki='None', path='/home/andrejb/Research/SIMS/2017_02_14_G_2ub_k48_03_04'),\n",
       " Main(entry_id='2017_02_14_G_2ub_k33_01_05', mediawiki='None', path='/home/andrejb/Research/SIMS/2017_02_14_G_2ub_k33_01_05'),\n",
       " Main(entry_id='2017_04_27_G_2ub_k29_02_02', mediawiki='None', path='/home/andrejb/Research/SIMS/2017_04_27_G_2ub_k29_02_02'),\n",
       " Main(entry_id='2017_02_14_G_2ub_k63_02_04', mediawiki='None', path='/home/andrejb/Research/SIMS/2017_02_14_G_2ub_k63_02_04'),\n",
       " Main(entry_id='2017_02_14_G_2ub_k63_01_04', mediawiki='None', path='/home/andrejb/Research/SIMS/2017_02_14_G_2ub_k63_01_04'),\n",
       " Main(entry_id='2017_02_14_G_2ub_k63_02_05', mediawiki='None', path='/home/andrejb/Research/SIMS/2017_02_14_G_2ub_k63_02_05'),\n",
       " Main(entry_id='2017_04_27_G_2ub_k11_01_06', mediawiki='None', path='/home/andrejb/Research/SIMS/2017_04_27_G_2ub_k11_01_06'),\n",
       " Main(entry_id='2017_02_14_G_2ub_k63_01_02', mediawiki='None', path='/home/andrejb/Research/SIMS/2017_02_14_G_2ub_k63_01_02'),\n",
       " Main(entry_id='2017_04_27_G_2ub_k29_01_05', mediawiki='None', path='/home/andrejb/Research/SIMS/2017_04_27_G_2ub_k29_01_05'),\n",
       " Main(entry_id='2017_02_14_G_2ub_k33_01_03', mediawiki='None', path='/home/andrejb/Research/SIMS/2017_02_14_G_2ub_k33_01_03'),\n",
       " Main(entry_id='2017_04_27_G_2ub_k27_02_04', mediawiki='None', path='/home/andrejb/Research/SIMS/2017_04_27_G_2ub_k27_02_04'),\n",
       " Main(entry_id='2017_04_27_G_2ub_k27_01_04', mediawiki='None', path='/home/andrejb/Research/SIMS/2017_04_27_G_2ub_k27_01_04'),\n",
       " Main(entry_id='2017_04_27_G_2ub_m1_01_05', mediawiki='None', path='/home/andrejb/Research/SIMS/2017_04_27_G_2ub_m1_01_05'),\n",
       " Main(entry_id='2017_04_27_G_2ub_k27_02_03', mediawiki='None', path='/home/andrejb/Research/SIMS/2017_04_27_G_2ub_k27_02_03'),\n",
       " Main(entry_id='2017_02_14_G_2ub_k48_01_05', mediawiki='None', path='/home/andrejb/Research/SIMS/2017_02_14_G_2ub_k48_01_05'),\n",
       " Main(entry_id='2017_04_27_G_2ub_m1_02_06', mediawiki='None', path='/home/andrejb/Research/SIMS/2017_04_27_G_2ub_m1_02_06'),\n",
       " Main(entry_id='2017_04_27_G_2ub_k11_02_01', mediawiki='None', path='/home/andrejb/Research/SIMS/2017_04_27_G_2ub_k11_02_01'),\n",
       " Main(entry_id='2017_04_27_G_2ub_k29_02_01', mediawiki='None', path='/home/andrejb/Research/SIMS/2017_04_27_G_2ub_k29_02_01'),\n",
       " Main(entry_id='2017_04_27_G_2ub_k27_02_05', mediawiki='None', path='/home/andrejb/Research/SIMS/2017_04_27_G_2ub_k27_02_05'),\n",
       " Main(entry_id='2017_04_27_G_2ub_k6_02_04', mediawiki='None', path='/home/andrejb/Research/SIMS/2017_04_27_G_2ub_k6_02_04'),\n",
       " Main(entry_id='2017_02_14_G_2ub_k33_01_06', mediawiki='None', path='/home/andrejb/Research/SIMS/2017_02_14_G_2ub_k33_01_06'),\n",
       " Main(entry_id='2017_04_27_G_2ub_k29_01_03', mediawiki='None', path='/home/andrejb/Research/SIMS/2017_04_27_G_2ub_k29_01_03'),\n",
       " Main(entry_id='2017_04_27_G_2ub_k11_02_04', mediawiki='None', path='/home/andrejb/Research/SIMS/2017_04_27_G_2ub_k11_02_04'),\n",
       " Main(entry_id='2017_02_14_G_2ub_k63_02_02', mediawiki='None', path='/home/andrejb/Research/SIMS/2017_02_14_G_2ub_k63_02_02'),\n",
       " Main(entry_id='2017_02_14_G_2ub_k48_03_05', mediawiki='None', path='/home/andrejb/Research/SIMS/2017_02_14_G_2ub_k48_03_05'),\n",
       " Main(entry_id='2017_04_27_G_2ub_k6_01_04', mediawiki='None', path='/home/andrejb/Research/SIMS/2017_04_27_G_2ub_k6_01_04'),\n",
       " Main(entry_id='2017_02_14_G_2ub_k63_01_03', mediawiki='None', path='/home/andrejb/Research/SIMS/2017_02_14_G_2ub_k63_01_03'),\n",
       " Main(entry_id='2017_04_27_G_2ub_k11_01_05', mediawiki='None', path='/home/andrejb/Research/SIMS/2017_04_27_G_2ub_k11_01_05'),\n",
       " Main(entry_id='2017_02_14_G_2ub_k63_01_05', mediawiki='None', path='/home/andrejb/Research/SIMS/2017_02_14_G_2ub_k63_01_05'),\n",
       " Main(entry_id='2017_04_27_G_2ub_k11_02_06', mediawiki='None', path='/home/andrejb/Research/SIMS/2017_04_27_G_2ub_k11_02_06'),\n",
       " Main(entry_id='2017_04_27_G_2ub_k11_01_02', mediawiki='None', path='/home/andrejb/Research/SIMS/2017_04_27_G_2ub_k11_01_02'),\n",
       " Main(entry_id='2017_04_27_G_2ub_k11_02_03', mediawiki='None', path='/home/andrejb/Research/SIMS/2017_04_27_G_2ub_k11_02_03'),\n",
       " Main(entry_id='2017_04_27_G_2ub_m1_01_03', mediawiki='None', path='/home/andrejb/Research/SIMS/2017_04_27_G_2ub_m1_01_03'),\n",
       " Main(entry_id='2017_04_27_G_2ub_k11_01_04', mediawiki='None', path='/home/andrejb/Research/SIMS/2017_04_27_G_2ub_k11_01_04'),\n",
       " Main(entry_id='2017_04_27_G_2ub_m1_01_06', mediawiki='None', path='/home/andrejb/Research/SIMS/2017_04_27_G_2ub_m1_01_06'),\n",
       " Main(entry_id='2017_02_14_G_2ub_k33_02_04', mediawiki='None', path='/home/andrejb/Research/SIMS/2017_02_14_G_2ub_k33_02_04'),\n",
       " Main(entry_id='2017_04_27_G_2ub_k27_02_01', mediawiki='None', path='/home/andrejb/Research/SIMS/2017_04_27_G_2ub_k27_02_01'),\n",
       " Main(entry_id='2017_04_27_G_2ub_m1_02_01', mediawiki='None', path='/home/andrejb/Research/SIMS/2017_04_27_G_2ub_m1_02_01'),\n",
       " Main(entry_id='2017_02_14_G_2ub_k33_02_02', mediawiki='None', path='/home/andrejb/Research/SIMS/2017_02_14_G_2ub_k33_02_02'),\n",
       " Main(entry_id='2017_04_27_G_2ub_k29_02_03', mediawiki='None', path='/home/andrejb/Research/SIMS/2017_04_27_G_2ub_k29_02_03'),\n",
       " Main(entry_id='2017_04_27_G_2ub_k6_01_05', mediawiki='None', path='/home/andrejb/Research/SIMS/2017_04_27_G_2ub_k6_01_05'),\n",
       " Main(entry_id='2017_04_27_G_2ub_k27_01_01', mediawiki='None', path='/home/andrejb/Research/SIMS/2017_04_27_G_2ub_k27_01_01'),\n",
       " Main(entry_id='2017_04_27_G_2ub_m1_02_03', mediawiki='None', path='/home/andrejb/Research/SIMS/2017_04_27_G_2ub_m1_02_03'),\n",
       " Main(entry_id='2017_02_14_G_2ub_k33_02_06', mediawiki='None', path='/home/andrejb/Research/SIMS/2017_02_14_G_2ub_k33_02_06'),\n",
       " Main(entry_id='2017_04_27_G_2ub_m1_02_04', mediawiki='None', path='/home/andrejb/Research/SIMS/2017_04_27_G_2ub_m1_02_04'),\n",
       " Main(entry_id='2017_02_14_G_2ub_k33_02_01', mediawiki='None', path='/home/andrejb/Research/SIMS/2017_02_14_G_2ub_k33_02_01'),\n",
       " Main(entry_id='2017_04_27_G_2ub_k6_01_03', mediawiki='None', path='/home/andrejb/Research/SIMS/2017_04_27_G_2ub_k6_01_03'),\n",
       " Main(entry_id='2017_04_27_G_2ub_k29_02_04', mediawiki='None', path='/home/andrejb/Research/SIMS/2017_04_27_G_2ub_k29_02_04')]"
      ]
     },
     "execution_count": 65,
     "metadata": {},
     "output_type": "execute_result"
    }
   ],
   "source": [
    "# def get_entries():\n",
    "match = \"*_G_*\"\n",
    "match = match.replace(\"*\", \"%\")\n",
    "q = db.query(Main)\n",
    "q.filter(Main.entry_id.ilike(match)).all()"
   ]
  },
  {
   "cell_type": "code",
   "execution_count": 68,
   "metadata": {},
   "outputs": [],
   "source": [
    "sims = get_entries(db, entry_id=\"*_G_*\")"
   ]
  },
  {
   "cell_type": "code",
   "execution_count": 69,
   "metadata": {},
   "outputs": [
    {
     "data": {
      "text/plain": [
       "[Main(entry_id='2017_04_27_G_2ub_k27_01_02', mediawiki='None', path='/home/andrejb/Research/SIMS/2017_04_27_G_2ub_k27_01_02'),\n",
       " Main(entry_id='2017_04_27_G_2ub_k27_02_06', mediawiki='None', path='/home/andrejb/Research/SIMS/2017_04_27_G_2ub_k27_02_06'),\n",
       " Main(entry_id='2017_04_27_G_2ub_k29_01_02', mediawiki='None', path='/home/andrejb/Research/SIMS/2017_04_27_G_2ub_k29_01_02'),\n",
       " Main(entry_id='2017_02_14_G_2ub_k63_02_01', mediawiki='None', path='/home/andrejb/Research/SIMS/2017_02_14_G_2ub_k63_02_01'),\n",
       " Main(entry_id='2017_04_27_G_2ub_k29_02_06', mediawiki='None', path='/home/andrejb/Research/SIMS/2017_04_27_G_2ub_k29_02_06'),\n",
       " Main(entry_id='2017_02_14_G_2ub_k48_03_03', mediawiki='None', path='/home/andrejb/Research/SIMS/2017_02_14_G_2ub_k48_03_03'),\n",
       " Main(entry_id='2017_02_14_G_2ub_k63_02_03', mediawiki='None', path='/home/andrejb/Research/SIMS/2017_02_14_G_2ub_k63_02_03'),\n",
       " Main(entry_id='2017_04_27_G_2ub_k27_01_06', mediawiki='None', path='/home/andrejb/Research/SIMS/2017_04_27_G_2ub_k27_01_06'),\n",
       " Main(entry_id='2017_04_27_G_2ub_m1_02_05', mediawiki='None', path='/home/andrejb/Research/SIMS/2017_04_27_G_2ub_m1_02_05'),\n",
       " Main(entry_id='2017_04_27_G_2ub_m1_01_02', mediawiki='None', path='/home/andrejb/Research/SIMS/2017_04_27_G_2ub_m1_01_02'),\n",
       " Main(entry_id='2017_04_27_G_2ub_k11_02_02', mediawiki='None', path='/home/andrejb/Research/SIMS/2017_04_27_G_2ub_k11_02_02'),\n",
       " Main(entry_id='2017_02_14_G_2ub_k63_01_06', mediawiki='None', path='/home/andrejb/Research/SIMS/2017_02_14_G_2ub_k63_01_06'),\n",
       " Main(entry_id='2017_04_27_G_2ub_k29_01_06', mediawiki='None', path='/home/andrejb/Research/SIMS/2017_04_27_G_2ub_k29_01_06'),\n",
       " Main(entry_id='2017_02_14_G_2ub_k33_01_01', mediawiki='None', path='/home/andrejb/Research/SIMS/2017_02_14_G_2ub_k33_01_01'),\n",
       " Main(entry_id='2017_04_27_G_2ub_k6_02_01', mediawiki='None', path='/home/andrejb/Research/SIMS/2017_04_27_G_2ub_k6_02_01'),\n",
       " Main(entry_id='2017_04_27_G_2ub_k11_02_05', mediawiki='None', path='/home/andrejb/Research/SIMS/2017_04_27_G_2ub_k11_02_05'),\n",
       " Main(entry_id='2017_02_14_G_2ub_k48_03_01', mediawiki='None', path='/home/andrejb/Research/SIMS/2017_02_14_G_2ub_k48_03_01'),\n",
       " Main(entry_id='2017_04_27_G_2ub_m1_01_01', mediawiki='None', path='/home/andrejb/Research/SIMS/2017_04_27_G_2ub_m1_01_01'),\n",
       " Main(entry_id='2017_04_27_G_2ub_k29_01_01', mediawiki='None', path='/home/andrejb/Research/SIMS/2017_04_27_G_2ub_k29_01_01'),\n",
       " Main(entry_id='2017_02_14_G_2ub_k33_01_04', mediawiki='None', path='/home/andrejb/Research/SIMS/2017_02_14_G_2ub_k33_01_04'),\n",
       " Main(entry_id='2017_04_27_G_2ub_k29_01_04', mediawiki='None', path='/home/andrejb/Research/SIMS/2017_04_27_G_2ub_k29_01_04'),\n",
       " Main(entry_id='2017_04_27_G_2ub_k11_01_03', mediawiki='None', path='/home/andrejb/Research/SIMS/2017_04_27_G_2ub_k11_01_03'),\n",
       " Main(entry_id='2017_04_27_G_2ub_k11_01_01', mediawiki='None', path='/home/andrejb/Research/SIMS/2017_04_27_G_2ub_k11_01_01'),\n",
       " Main(entry_id='2017_02_14_G_2ub_k48_03_02', mediawiki='None', path='/home/andrejb/Research/SIMS/2017_02_14_G_2ub_k48_03_02'),\n",
       " Main(entry_id='2017_02_14_G_2ub_k33_01_02', mediawiki='None', path='/home/andrejb/Research/SIMS/2017_02_14_G_2ub_k33_01_02'),\n",
       " Main(entry_id='2017_04_27_G_2ub_k6_01_02', mediawiki='None', path='/home/andrejb/Research/SIMS/2017_04_27_G_2ub_k6_01_02'),\n",
       " Main(entry_id='2017_02_14_G_2ub_k63_01_01', mediawiki='None', path='/home/andrejb/Research/SIMS/2017_02_14_G_2ub_k63_01_01'),\n",
       " Main(entry_id='2017_04_27_G_2ub_k27_01_03', mediawiki='None', path='/home/andrejb/Research/SIMS/2017_04_27_G_2ub_k27_01_03'),\n",
       " Main(entry_id='2017_02_14_G_2ub_k48_03_06', mediawiki='None', path='/home/andrejb/Research/SIMS/2017_02_14_G_2ub_k48_03_06'),\n",
       " Main(entry_id='2017_02_14_G_2ub_k33_02_05', mediawiki='None', path='/home/andrejb/Research/SIMS/2017_02_14_G_2ub_k33_02_05'),\n",
       " Main(entry_id='2017_02_14_G_2ub_k48_01_02', mediawiki='None', path='/home/andrejb/Research/SIMS/2017_02_14_G_2ub_k48_01_02'),\n",
       " Main(entry_id='2017_04_27_G_2ub_k6_02_06', mediawiki='None', path='/home/andrejb/Research/SIMS/2017_04_27_G_2ub_k6_02_06'),\n",
       " Main(entry_id='2017_04_27_G_2ub_k27_01_05', mediawiki='None', path='/home/andrejb/Research/SIMS/2017_04_27_G_2ub_k27_01_05'),\n",
       " Main(entry_id='2017_04_27_G_2ub_k27_02_02', mediawiki='None', path='/home/andrejb/Research/SIMS/2017_04_27_G_2ub_k27_02_02'),\n",
       " Main(entry_id='2017_04_27_G_2ub_m1_01_04', mediawiki='None', path='/home/andrejb/Research/SIMS/2017_04_27_G_2ub_m1_01_04'),\n",
       " Main(entry_id='2017_04_27_G_2ub_k29_02_05', mediawiki='None', path='/home/andrejb/Research/SIMS/2017_04_27_G_2ub_k29_02_05'),\n",
       " Main(entry_id='2017_02_14_G_2ub_k33_02_03', mediawiki='None', path='/home/andrejb/Research/SIMS/2017_02_14_G_2ub_k33_02_03'),\n",
       " Main(entry_id='2017_02_14_G_2ub_k63_02_06', mediawiki='None', path='/home/andrejb/Research/SIMS/2017_02_14_G_2ub_k63_02_06'),\n",
       " Main(entry_id='2017_04_27_G_2ub_k6_01_06', mediawiki='None', path='/home/andrejb/Research/SIMS/2017_04_27_G_2ub_k6_01_06'),\n",
       " Main(entry_id='2017_02_14_G_2ub_k48_01_06', mediawiki='None', path='/home/andrejb/Research/SIMS/2017_02_14_G_2ub_k48_01_06'),\n",
       " Main(entry_id='2017_04_27_G_2ub_k6_01_01', mediawiki='None', path='/home/andrejb/Research/SIMS/2017_04_27_G_2ub_k6_01_01'),\n",
       " Main(entry_id='2017_04_27_G_2ub_m1_02_02', mediawiki='None', path='/home/andrejb/Research/SIMS/2017_04_27_G_2ub_m1_02_02'),\n",
       " Main(entry_id='2017_04_27_G_2ub_k6_02_03', mediawiki='None', path='/home/andrejb/Research/SIMS/2017_04_27_G_2ub_k6_02_03'),\n",
       " Main(entry_id='2017_02_14_G_2ub_k48_01_04', mediawiki='None', path='/home/andrejb/Research/SIMS/2017_02_14_G_2ub_k48_01_04'),\n",
       " Main(entry_id='2017_04_27_G_2ub_k6_02_02', mediawiki='None', path='/home/andrejb/Research/SIMS/2017_04_27_G_2ub_k6_02_02'),\n",
       " Main(entry_id='2017_02_14_G_2ub_k48_01_03', mediawiki='None', path='/home/andrejb/Research/SIMS/2017_02_14_G_2ub_k48_01_03'),\n",
       " Main(entry_id='2017_04_27_G_2ub_k6_02_05', mediawiki='None', path='/home/andrejb/Research/SIMS/2017_04_27_G_2ub_k6_02_05'),\n",
       " Main(entry_id='2017_02_14_G_2ub_k48_01_01', mediawiki='None', path='/home/andrejb/Research/SIMS/2017_02_14_G_2ub_k48_01_01'),\n",
       " Main(entry_id='2017_02_14_G_2ub_k48_03_04', mediawiki='None', path='/home/andrejb/Research/SIMS/2017_02_14_G_2ub_k48_03_04'),\n",
       " Main(entry_id='2017_02_14_G_2ub_k33_01_05', mediawiki='None', path='/home/andrejb/Research/SIMS/2017_02_14_G_2ub_k33_01_05'),\n",
       " Main(entry_id='2017_04_27_G_2ub_k29_02_02', mediawiki='None', path='/home/andrejb/Research/SIMS/2017_04_27_G_2ub_k29_02_02'),\n",
       " Main(entry_id='2017_02_14_G_2ub_k63_02_04', mediawiki='None', path='/home/andrejb/Research/SIMS/2017_02_14_G_2ub_k63_02_04'),\n",
       " Main(entry_id='2017_02_14_G_2ub_k63_01_04', mediawiki='None', path='/home/andrejb/Research/SIMS/2017_02_14_G_2ub_k63_01_04'),\n",
       " Main(entry_id='2017_02_14_G_2ub_k63_02_05', mediawiki='None', path='/home/andrejb/Research/SIMS/2017_02_14_G_2ub_k63_02_05'),\n",
       " Main(entry_id='2017_04_27_G_2ub_k11_01_06', mediawiki='None', path='/home/andrejb/Research/SIMS/2017_04_27_G_2ub_k11_01_06'),\n",
       " Main(entry_id='2017_02_14_G_2ub_k63_01_02', mediawiki='None', path='/home/andrejb/Research/SIMS/2017_02_14_G_2ub_k63_01_02'),\n",
       " Main(entry_id='2017_04_27_G_2ub_k29_01_05', mediawiki='None', path='/home/andrejb/Research/SIMS/2017_04_27_G_2ub_k29_01_05'),\n",
       " Main(entry_id='2017_02_14_G_2ub_k33_01_03', mediawiki='None', path='/home/andrejb/Research/SIMS/2017_02_14_G_2ub_k33_01_03'),\n",
       " Main(entry_id='2017_04_27_G_2ub_k27_02_04', mediawiki='None', path='/home/andrejb/Research/SIMS/2017_04_27_G_2ub_k27_02_04'),\n",
       " Main(entry_id='2017_04_27_G_2ub_k27_01_04', mediawiki='None', path='/home/andrejb/Research/SIMS/2017_04_27_G_2ub_k27_01_04'),\n",
       " Main(entry_id='2017_04_27_G_2ub_m1_01_05', mediawiki='None', path='/home/andrejb/Research/SIMS/2017_04_27_G_2ub_m1_01_05'),\n",
       " Main(entry_id='2017_04_27_G_2ub_k27_02_03', mediawiki='None', path='/home/andrejb/Research/SIMS/2017_04_27_G_2ub_k27_02_03'),\n",
       " Main(entry_id='2017_02_14_G_2ub_k48_01_05', mediawiki='None', path='/home/andrejb/Research/SIMS/2017_02_14_G_2ub_k48_01_05'),\n",
       " Main(entry_id='2017_04_27_G_2ub_m1_02_06', mediawiki='None', path='/home/andrejb/Research/SIMS/2017_04_27_G_2ub_m1_02_06'),\n",
       " Main(entry_id='2017_04_27_G_2ub_k11_02_01', mediawiki='None', path='/home/andrejb/Research/SIMS/2017_04_27_G_2ub_k11_02_01'),\n",
       " Main(entry_id='2017_04_27_G_2ub_k29_02_01', mediawiki='None', path='/home/andrejb/Research/SIMS/2017_04_27_G_2ub_k29_02_01'),\n",
       " Main(entry_id='2017_04_27_G_2ub_k27_02_05', mediawiki='None', path='/home/andrejb/Research/SIMS/2017_04_27_G_2ub_k27_02_05'),\n",
       " Main(entry_id='2017_04_27_G_2ub_k6_02_04', mediawiki='None', path='/home/andrejb/Research/SIMS/2017_04_27_G_2ub_k6_02_04'),\n",
       " Main(entry_id='2017_02_14_G_2ub_k33_01_06', mediawiki='None', path='/home/andrejb/Research/SIMS/2017_02_14_G_2ub_k33_01_06'),\n",
       " Main(entry_id='2017_04_27_G_2ub_k29_01_03', mediawiki='None', path='/home/andrejb/Research/SIMS/2017_04_27_G_2ub_k29_01_03'),\n",
       " Main(entry_id='2017_04_27_G_2ub_k11_02_04', mediawiki='None', path='/home/andrejb/Research/SIMS/2017_04_27_G_2ub_k11_02_04'),\n",
       " Main(entry_id='2017_02_14_G_2ub_k63_02_02', mediawiki='None', path='/home/andrejb/Research/SIMS/2017_02_14_G_2ub_k63_02_02'),\n",
       " Main(entry_id='2017_02_14_G_2ub_k48_03_05', mediawiki='None', path='/home/andrejb/Research/SIMS/2017_02_14_G_2ub_k48_03_05'),\n",
       " Main(entry_id='2017_04_27_G_2ub_k6_01_04', mediawiki='None', path='/home/andrejb/Research/SIMS/2017_04_27_G_2ub_k6_01_04'),\n",
       " Main(entry_id='2017_02_14_G_2ub_k63_01_03', mediawiki='None', path='/home/andrejb/Research/SIMS/2017_02_14_G_2ub_k63_01_03'),\n",
       " Main(entry_id='2017_04_27_G_2ub_k11_01_05', mediawiki='None', path='/home/andrejb/Research/SIMS/2017_04_27_G_2ub_k11_01_05'),\n",
       " Main(entry_id='2017_02_14_G_2ub_k63_01_05', mediawiki='None', path='/home/andrejb/Research/SIMS/2017_02_14_G_2ub_k63_01_05'),\n",
       " Main(entry_id='2017_04_27_G_2ub_k11_02_06', mediawiki='None', path='/home/andrejb/Research/SIMS/2017_04_27_G_2ub_k11_02_06'),\n",
       " Main(entry_id='2017_04_27_G_2ub_k11_01_02', mediawiki='None', path='/home/andrejb/Research/SIMS/2017_04_27_G_2ub_k11_01_02'),\n",
       " Main(entry_id='2017_04_27_G_2ub_k11_02_03', mediawiki='None', path='/home/andrejb/Research/SIMS/2017_04_27_G_2ub_k11_02_03'),\n",
       " Main(entry_id='2017_04_27_G_2ub_m1_01_03', mediawiki='None', path='/home/andrejb/Research/SIMS/2017_04_27_G_2ub_m1_01_03'),\n",
       " Main(entry_id='2017_04_27_G_2ub_k11_01_04', mediawiki='None', path='/home/andrejb/Research/SIMS/2017_04_27_G_2ub_k11_01_04'),\n",
       " Main(entry_id='2017_04_27_G_2ub_m1_01_06', mediawiki='None', path='/home/andrejb/Research/SIMS/2017_04_27_G_2ub_m1_01_06'),\n",
       " Main(entry_id='2017_02_14_G_2ub_k33_02_04', mediawiki='None', path='/home/andrejb/Research/SIMS/2017_02_14_G_2ub_k33_02_04'),\n",
       " Main(entry_id='2017_04_27_G_2ub_k27_02_01', mediawiki='None', path='/home/andrejb/Research/SIMS/2017_04_27_G_2ub_k27_02_01'),\n",
       " Main(entry_id='2017_04_27_G_2ub_m1_02_01', mediawiki='None', path='/home/andrejb/Research/SIMS/2017_04_27_G_2ub_m1_02_01'),\n",
       " Main(entry_id='2017_02_14_G_2ub_k33_02_02', mediawiki='None', path='/home/andrejb/Research/SIMS/2017_02_14_G_2ub_k33_02_02'),\n",
       " Main(entry_id='2017_04_27_G_2ub_k29_02_03', mediawiki='None', path='/home/andrejb/Research/SIMS/2017_04_27_G_2ub_k29_02_03'),\n",
       " Main(entry_id='2017_04_27_G_2ub_k6_01_05', mediawiki='None', path='/home/andrejb/Research/SIMS/2017_04_27_G_2ub_k6_01_05'),\n",
       " Main(entry_id='2017_04_27_G_2ub_k27_01_01', mediawiki='None', path='/home/andrejb/Research/SIMS/2017_04_27_G_2ub_k27_01_01'),\n",
       " Main(entry_id='2017_04_27_G_2ub_m1_02_03', mediawiki='None', path='/home/andrejb/Research/SIMS/2017_04_27_G_2ub_m1_02_03'),\n",
       " Main(entry_id='2017_02_14_G_2ub_k33_02_06', mediawiki='None', path='/home/andrejb/Research/SIMS/2017_02_14_G_2ub_k33_02_06'),\n",
       " Main(entry_id='2017_04_27_G_2ub_m1_02_04', mediawiki='None', path='/home/andrejb/Research/SIMS/2017_04_27_G_2ub_m1_02_04'),\n",
       " Main(entry_id='2017_02_14_G_2ub_k33_02_01', mediawiki='None', path='/home/andrejb/Research/SIMS/2017_02_14_G_2ub_k33_02_01'),\n",
       " Main(entry_id='2017_04_27_G_2ub_k6_01_03', mediawiki='None', path='/home/andrejb/Research/SIMS/2017_04_27_G_2ub_k6_01_03'),\n",
       " Main(entry_id='2017_04_27_G_2ub_k29_02_04', mediawiki='None', path='/home/andrejb/Research/SIMS/2017_04_27_G_2ub_k29_02_04')]"
      ]
     },
     "execution_count": 69,
     "metadata": {},
     "output_type": "execute_result"
    }
   ],
   "source": [
    "sims"
   ]
  },
  {
   "cell_type": "code",
   "execution_count": null,
   "metadata": {},
   "outputs": [],
   "source": []
  }
 ],
 "metadata": {
  "kernelspec": {
   "display_name": "Python 2",
   "language": "python",
   "name": "python2"
  },
  "language_info": {
   "codemirror_mode": {
    "name": "ipython",
    "version": 3
   },
   "file_extension": ".py",
   "mimetype": "text/x-python",
   "name": "python",
   "nbconvert_exporter": "python",
   "pygments_lexer": "ipython3",
   "version": "3.6.4"
  }
 },
 "nbformat": 4,
 "nbformat_minor": 2
}
