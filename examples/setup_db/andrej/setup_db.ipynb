{
 "cells": [
  {
   "cell_type": "code",
   "execution_count": 21,
   "metadata": {},
   "outputs": [],
   "source": [
    "import logging\n",
    "logger = logging.getLogger('LabJournal')\n",
    "logging.basicConfig(level=logging.DEBUG)"
   ]
  },
  {
   "cell_type": "code",
   "execution_count": 12,
   "metadata": {},
   "outputs": [],
   "source": [
    "import sys\n",
    "sys.path.append(\"../../..\")\n",
    "\n",
    "from labjournal.utils.fileFinder import FileFinder\n",
    "from labjournal.core.databaseModel import *"
   ]
  },
  {
   "cell_type": "code",
   "execution_count": 39,
   "metadata": {},
   "outputs": [],
   "source": [
    "import datetime"
   ]
  },
  {
   "cell_type": "code",
   "execution_count": 18,
   "metadata": {},
   "outputs": [],
   "source": [
    "SIMS = '/home/andrejb/Research/SIMS'"
   ]
  },
  {
   "cell_type": "code",
   "execution_count": 19,
   "metadata": {},
   "outputs": [],
   "source": [
    "fileFinder = FileFinder(\n",
    "    pattern = 'topol.tpr',\n",
    "    path = SIMS,\n",
    "    dir_ignore = ['data'])"
   ]
  },
  {
   "cell_type": "code",
   "execution_count": 22,
   "metadata": {},
   "outputs": [
    {
     "name": "stderr",
     "output_type": "stream",
     "text": [
      "INFO:LabJournal:create_database:create_database: FIND FILES\n"
     ]
    }
   ],
   "source": [
    "logger.info('create_database:create_database: FIND FILES')\n",
    "ERRORS=False\n",
    "WARNINGS=False"
   ]
  },
  {
   "cell_type": "code",
   "execution_count": 26,
   "metadata": {},
   "outputs": [],
   "source": [
    "SIM_IDS=[]\n",
    "PATHS=[]\n",
    "DATAS=[]\n",
    "\n",
    "for fname in fileFinder.find_files():\n",
    "    path =  os.path.dirname(fname)\n",
    "    sim_id = os.path.basename(path)\n",
    "    SIM_IDS.append(sim_id)\n",
    "    PATHS.append(path)"
   ]
  },
  {
   "cell_type": "code",
   "execution_count": 44,
   "metadata": {},
   "outputs": [
    {
     "name": "stderr",
     "output_type": "stream",
     "text": [
      "INFO:LabJournal:create_database:create_database: removed old file: andrej_raw.db\n"
     ]
    }
   ],
   "source": [
    "db = 'andrej_raw.db'\n",
    "try:\n",
    "    os.remove(db)\n",
    "    logger.info('create_database:create_database: removed old file: %s', db)\n",
    "except:\n",
    "    pass\n",
    "engine = create_engine('sqlite:///{}'.format(db) , echo=False) #  if we want spam\n",
    "# Establishing a session\n",
    "Session = sessionmaker(bind=engine)\n",
    "session = Session()\n",
    "setup_database(engine)"
   ]
  },
  {
   "cell_type": "code",
   "execution_count": 45,
   "metadata": {},
   "outputs": [],
   "source": [
    "for i, sim_id in enumerate(SIM_IDS):\n",
    "    sim = Simulation(\n",
    "        sim_id   = sim_id,\n",
    "        path     = PATHS[i],\n",
    "        sim_type = \"GROMACS\",\n",
    "       description=\"Test import\"\n",
    "    )\n",
    "    session.add(sim)\n",
    "session.commit()\n",
    "session.close()"
   ]
  },
  {
   "cell_type": "code",
   "execution_count": null,
   "metadata": {},
   "outputs": [],
   "source": []
  }
 ],
 "metadata": {
  "kernelspec": {
   "display_name": "Python 2",
   "language": "python",
   "name": "python2"
  },
  "language_info": {
   "codemirror_mode": {
    "name": "ipython",
    "version": 2
   },
   "file_extension": ".py",
   "mimetype": "text/x-python",
   "name": "python",
   "nbconvert_exporter": "python",
   "pygments_lexer": "ipython2",
   "version": "2.7.12"
  }
 },
 "nbformat": 4,
 "nbformat_minor": 2
}
