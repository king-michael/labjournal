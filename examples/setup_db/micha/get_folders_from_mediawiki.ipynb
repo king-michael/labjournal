{
 "cells": [
  {
   "cell_type": "code",
   "execution_count": 1,
   "metadata": {},
   "outputs": [],
   "source": [
    "import pandas as pd\n",
    "import sys\n",
    "import os\n",
    "from shutil import copy2\n",
    "import mwclient\n",
    "\n",
    "try:\n",
    "    from labjournal.core.databaseModel import *\n",
    "except ImportError:\n",
    "    sys.path.append(\"../../..\")\n",
    "    from labjournal.core.databaseModel import *"
   ]
  },
  {
   "cell_type": "code",
   "execution_count": 2,
   "metadata": {},
   "outputs": [],
   "source": [
    "db_path = 'create_database/micha_add_parents.db'\n",
    "db_path_out = 'create_database/micha_add_paths.db'"
   ]
  },
  {
   "cell_type": "code",
   "execution_count": 3,
   "metadata": {},
   "outputs": [],
   "source": [
    "copy2(db_path,db_path_out)"
   ]
  },
  {
   "cell_type": "code",
   "execution_count": 4,
   "metadata": {},
   "outputs": [],
   "source": [
    "engine = create_engine('sqlite:///{}'.format(db_path_out))\n",
    "Session = sessionmaker(bind=engine)\n",
    "session = Session()"
   ]
  },
  {
   "cell_type": "code",
   "execution_count": 5,
   "metadata": {},
   "outputs": [],
   "source": [
    "df_main = pd.read_sql_table(table_name=Main.__tablename__,\n",
    "                            con=engine)"
   ]
  },
  {
   "cell_type": "code",
   "execution_count": 6,
   "metadata": {},
   "outputs": [],
   "source": [
    "# sudo docker restart test_mediawiki_db_1\n",
    "# sudo docker restart test_mediawiki_phpmyadmin_1\n",
    "# sudo docker restart test_mediawiki_main_1\n",
    "\n",
    "\n",
    "\n",
    "mediawiki_address = '134.34.112.156:8001'  # address of the server of the MediaWiki\n",
    "mediawiki_protocol = 'http'      # protocol (http or https)\n",
    "mediawiki_path = '/mediawiki/'   # path to MediaWiki after address\n",
    "\n",
    "bot_username = 'Micha@service_bot'      # username\n",
    "bot_password = 'o854d1i43i4dgg8teh11pdvieq725vu1'  # password\n",
    "\n",
    "#import getpass\n",
    "#bot_username = raw_input('User: ')\n",
    "#bot_password = getpass.getpass(\"Password: \")\n",
    "\n",
    "\n",
    "# Initialize the Site object\n",
    "site = mwclient.Site((mediawiki_protocol, mediawiki_address), mediawiki_path)  # connect\n",
    "site.login(bot_username,bot_password) # optional, if login is required"
   ]
  },
  {
   "cell_type": "code",
   "execution_count": 7,
   "metadata": {},
   "outputs": [],
   "source": [
    "def get_folder(simid):\n",
    "    # get the page\n",
    "    page = site.pages[simid]\n",
    "\n",
    "    # resolve redirect if possible\n",
    "    page = page.resolve_redirect()\n",
    "\n",
    "    # get the text of the page\n",
    "    text = page.text()\n",
    "    \n",
    "    #=====================================#\n",
    "    # {{folder|XXX}}\n",
    "    #=====================================#\n",
    "    folders=[]\n",
    "    for line in text.splitlines():\n",
    "        if '{{folder|' in line:\n",
    "            folders.append(line.split(\"{{folder|\",1)[1].split(\"}}\")[0])\n",
    "        elif 'folder:' in line:\n",
    "            try:\n",
    "                folders.append(line.split(\"folder:\",1)[1].split(\"<tt>\")[1].split('</tt>')[0])\n",
    "            except:\n",
    "                pass\n",
    "    \n",
    "    # fix path\n",
    "    for i,folder in enumerate(folders[:]):\n",
    "        if folder.startswith(\"SIM-PhD-King\"):\n",
    "            folders[i]='/home/micha/'+folder\n",
    "\n",
    "    # get mainfolder\n",
    "    main_folder=folders[0] if len(folders) > 0 else \"\"\n",
    "    \n",
    "     \n",
    "    return main_folder"
   ]
  },
  {
   "cell_type": "code",
   "execution_count": 8,
   "metadata": {},
   "outputs": [
    {
     "name": "stdout",
     "output_type": "stream",
     "text": [
      "377 MK0011\n",
      "378 MK0012\n",
      "387 MK0021\n",
      "388 MK0022\n",
      "423 MK0061\n",
      "440 MK0086\n",
      "448 MK0107\n",
      "449 MK0108\n",
      "450 MK0113\n",
      "451 MK0114\n",
      "452 MK0115\n",
      "453 MK0120\n",
      "454 MK0121\n",
      "465 MK0188\n"
     ]
    }
   ],
   "source": [
    "df_sub = df_main[df_main.sim_type ==  'MISSING ENTRY']\n",
    "for entry_id, entry_mediawiki in zip(df_sub.index,df_sub.mediawiki):\n",
    "    new_path = get_folder(entry_mediawiki)\n",
    "    #print df_main.iloc[entry_id]\n",
    "    #print entry_mediawiki, df_main.get_value(entry_id,'mediawiki')\n",
    "    \n",
    "    if os.path.exists(new_path):\n",
    "        df_sub.set_value(entry_id,'path',new_path)\n",
    "        df_sub.set_value(entry_id,'sim_type', 'MISSING INFO')\n",
    "        #print 'updated:',entry_mediawiki, new_path\n",
    "    else:\n",
    "        df_sub.set_value(entry_id,'path',new_path)\n",
    "        df_sub.set_value(entry_id,'sim_type', 'ERROR PATH')\n",
    "        print entry_id, entry_mediawiki"
   ]
  },
  {
   "cell_type": "code",
   "execution_count": 9,
   "metadata": {},
   "outputs": [],
   "source": [
    "session.bulk_update_mappings(\n",
    "  Main,\n",
    "  df_sub.to_dict(orient='records')\n",
    ")"
   ]
  },
  {
   "cell_type": "code",
   "execution_count": 10,
   "metadata": {},
   "outputs": [],
   "source": [
    "session.commit()\n",
    "session.close()"
   ]
  },
  {
   "cell_type": "code",
   "execution_count": 11,
   "metadata": {},
   "outputs": [],
   "source": [
    "#df_main"
   ]
  },
  {
   "cell_type": "code",
   "execution_count": null,
   "metadata": {},
   "outputs": [],
   "source": []
  },
  {
   "cell_type": "code",
   "execution_count": null,
   "metadata": {},
   "outputs": [],
   "source": []
  },
  {
   "cell_type": "code",
   "execution_count": null,
   "metadata": {},
   "outputs": [],
   "source": []
  }
 ],
 "metadata": {
  "kernelspec": {
   "display_name": "Python 2",
   "language": "python",
   "name": "python2"
  },
  "language_info": {
   "codemirror_mode": {
    "name": "ipython",
    "version": 2
   },
   "file_extension": ".py",
   "mimetype": "text/x-python",
   "name": "python",
   "nbconvert_exporter": "python",
   "pygments_lexer": "ipython2",
   "version": "2.7.12"
  },
  "toc": {
   "nav_menu": {},
   "number_sections": true,
   "sideBar": true,
   "skip_h1_title": false,
   "toc_cell": false,
   "toc_position": {},
   "toc_section_display": "block",
   "toc_window_display": false
  }
 },
 "nbformat": 4,
 "nbformat_minor": 2
}
